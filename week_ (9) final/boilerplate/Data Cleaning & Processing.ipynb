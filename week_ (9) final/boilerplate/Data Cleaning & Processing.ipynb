{
 "cells": [
  {
   "cell_type": "code",
   "execution_count": 1,
   "id": "703fa49d-f8ff-4fd2-bb07-c9fa39751c3e",
   "metadata": {},
   "outputs": [],
   "source": [
    "import pandas as pd"
   ]
  },
  {
   "cell_type": "code",
   "execution_count": 2,
   "id": "6471a2f3-2c1f-4ea2-8fa1-7901966e9c45",
   "metadata": {},
   "outputs": [],
   "source": [
    "df = pd.read_csv('trekhleb_javascript-algorithms_commit_data.csv')"
   ]
  },
  {
   "cell_type": "code",
   "execution_count": 3,
   "id": "8ea9750b-2030-4242-b718-73d03222b9d8",
   "metadata": {},
   "outputs": [],
   "source": [
    "df.dropna(inplace=True)"
   ]
  },
  {
   "cell_type": "code",
   "execution_count": 4,
   "id": "c13b956c-685f-4511-9fbb-4a82dd5d5735",
   "metadata": {},
   "outputs": [],
   "source": [
    "df['Commit Date'] = pd.to_datetime(df['Commit Date'])"
   ]
  },
  {
   "cell_type": "code",
   "execution_count": 5,
   "id": "7d229273-e000-4944-906f-284773a1f971",
   "metadata": {},
   "outputs": [],
   "source": [
    "df['Total Files Changed'] = df['Files Changed'].str.split(',').apply(len)"
   ]
  },
  {
   "cell_type": "code",
   "execution_count": 6,
   "id": "9c3cd63d-3756-46f2-8032-71000c7cb32e",
   "metadata": {},
   "outputs": [],
   "source": [
    "df['File Type'] = df['Files Changed'].apply(lambda x: ', '.join(['.' + f.split('.')[-1] for f in x.strip('[]').replace(\"'\", \"\").split(', ')]))"
   ]
  },
  {
   "cell_type": "code",
   "execution_count": 7,
   "id": "6f49c411-db1f-48fe-92c0-267036cb4030",
   "metadata": {},
   "outputs": [],
   "source": [
    "df.sort_values('Commit Date', ascending = True, inplace = True)"
   ]
  },
  {
   "cell_type": "code",
   "execution_count": 8,
   "id": "799fb820-1bac-48f7-b5f5-7bcf5907b2c9",
   "metadata": {},
   "outputs": [
    {
     "name": "stdout",
     "output_type": "stream",
     "text": [
      "Processed commit data exported to 'processed_javascript-algorithms_commit_data.csv' successfully.\n"
     ]
    }
   ],
   "source": [
    "df.to_csv('processed_javascript-algorithms_commit_data.csv', index=False)\n",
    "\n",
    "print(\"Processed commit data exported to 'processed_javascript-algorithms_commit_data.csv' successfully.\")"
   ]
  }
 ],
 "metadata": {
  "kernelspec": {
   "display_name": "Python 3 (ipykernel)",
   "language": "python",
   "name": "python3"
  },
  "language_info": {
   "codemirror_mode": {
    "name": "ipython",
    "version": 3
   },
   "file_extension": ".py",
   "mimetype": "text/x-python",
   "name": "python",
   "nbconvert_exporter": "python",
   "pygments_lexer": "ipython3",
   "version": "3.9.16"
  }
 },
 "nbformat": 4,
 "nbformat_minor": 5
}
