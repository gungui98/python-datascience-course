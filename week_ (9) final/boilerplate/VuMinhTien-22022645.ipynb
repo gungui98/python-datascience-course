{
 "cells": [
  {
   "cell_type": "code",
   "execution_count": 40,
   "id": "52e3c516-e30a-41f2-aa62-b47421b49226",
   "metadata": {},
   "outputs": [],
   "source": [
    "import pandas as pd\n",
    "import numpy as np\n",
    "import matplotlib.pyplot as plt\n",
    "import seaborn as sns\n",
    "import datetime as dt"
   ]
  },
  {
   "attachments": {},
   "cell_type": "markdown",
   "id": "1030199a",
   "metadata": {},
   "source": [
    "File này nằm trong bài nộp cùng với file .csv có dữ liệu về commit data của Repo được sử dụng.\n",
    "\n",
    "Thầy hãy tải cả file .csv được đính kèm về để chạy các đoạn code sau, hoặc chạy block ở dưới sẽ phải đợi ~20p để có file tự tạo. \n",
    "\n",
    "\n",
    "Code block dưới đây dùng để lấy dữ liệu từ repo về lưu thành file .csv, để tránh mỗi lần phân tích lại phải load data mất ~20 phút.\n"
   ]
  },
  {
   "cell_type": "code",
   "execution_count": 59,
   "id": "ce0934ba-b594-4396-89f2-38e1ed5aff1f",
   "metadata": {},
   "outputs": [],
   "source": [
    "from github import Github\n",
    "import csv\n",
    "\n",
    "g = Github(\"\")\n",
    "#ORIGINAL ACCOUNT TOKEN\n",
    "repo_owner = 'pytorch'\n",
    "repo_name = 'rl'\n",
    "\n",
    "repo = g.get_repo(f\"{repo_owner}/{repo_name}\")\n",
    "\n",
    "csv_file = 'pytorch_data_written_file.csv'\n",
    "\n",
    "with open(csv_file, mode='w', newline='', encoding='utf-8-sig') as file:\n",
    "    writer = csv.writer(file)\n",
    "    writer.writerow(['Commit ID', 'Commit Message', 'Author Name', 'Author Email', 'Date of Commit', 'Files Changed', 'Passed all checks'])\n",
    "    commits = repo.get_commits()\n",
    "    for commit in commits:\n",
    "        commitID = commit.sha #commitID\n",
    "        commitMessage = commit.commit.message #commitMessage\n",
    "        authorName = commit.commit.author.name #authorName\n",
    "        authorEmail = commit.commit.author.email #authorEmail\n",
    "        commitDate = commit.commit.author.date.strftime(\"%Y-%m-%d %H:%M:%S\") #commitDate\n",
    "        files = commit.files \n",
    "        changedFiles = [file.filename for file in files] #changedFiles\n",
    "        checks = commit.get_check_runs()\n",
    "        passed = all(check.conclusion == 'success' for check in checks) #passed\n",
    "\n",
    "        writer.writerow([commitID, commitMessage, authorName, authorEmail, commitDate, changedFiles, passed])\n",
    "\n"
   ]
  },
  {
   "attachments": {},
   "cell_type": "markdown",
   "id": "42138125",
   "metadata": {},
   "source": []
  },
  {
   "attachments": {},
   "cell_type": "markdown",
   "id": "405cd25b",
   "metadata": {},
   "source": [
    "# Mở và xem trước file"
   ]
  },
  {
   "cell_type": "code",
   "execution_count": 68,
   "id": "1589a8bf-7141-466e-8fd0-029bf931709f",
   "metadata": {},
   "outputs": [],
   "source": [
    "df = pd.read_csv('pytorch_data_written_file.csv')"
   ]
  },
  {
   "cell_type": "code",
   "execution_count": 69,
   "id": "e3418f7a",
   "metadata": {},
   "outputs": [
    {
     "data": {
      "text/html": [
       "<div>\n",
       "<style scoped>\n",
       "    .dataframe tbody tr th:only-of-type {\n",
       "        vertical-align: middle;\n",
       "    }\n",
       "\n",
       "    .dataframe tbody tr th {\n",
       "        vertical-align: top;\n",
       "    }\n",
       "\n",
       "    .dataframe thead th {\n",
       "        text-align: right;\n",
       "    }\n",
       "</style>\n",
       "<table border=\"1\" class=\"dataframe\">\n",
       "  <thead>\n",
       "    <tr style=\"text-align: right;\">\n",
       "      <th></th>\n",
       "      <th>Commit ID</th>\n",
       "      <th>Commit Message</th>\n",
       "      <th>Author Name</th>\n",
       "      <th>Author Email</th>\n",
       "      <th>Date of Commit</th>\n",
       "      <th>Files Changed</th>\n",
       "      <th>Passed all checks</th>\n",
       "    </tr>\n",
       "  </thead>\n",
       "  <tbody>\n",
       "    <tr>\n",
       "      <th>0</th>\n",
       "      <td>11de8e5feb54f6b5dce5dc2f045fc8143192f06a</td>\n",
       "      <td>[BugFix] Fix SAC (#1190)</td>\n",
       "      <td>Vincent Moens</td>\n",
       "      <td>vincentmoens@gmail.com</td>\n",
       "      <td>2023-05-23 19:59:56</td>\n",
       "      <td>['torchrl/objectives/sac.py']</td>\n",
       "      <td>False</td>\n",
       "    </tr>\n",
       "    <tr>\n",
       "      <th>1</th>\n",
       "      <td>ff900774ca0b1179429bb37cd7d99d482dfeb851</td>\n",
       "      <td>[Performance] Improve performance and streamli...</td>\n",
       "      <td>Martin Marenz</td>\n",
       "      <td>marenz@meta.com</td>\n",
       "      <td>2023-05-23 19:24:57</td>\n",
       "      <td>['torchrl/objectives/value/functional.py']</td>\n",
       "      <td>False</td>\n",
       "    </tr>\n",
       "    <tr>\n",
       "      <th>2</th>\n",
       "      <td>12ad69e9069036593147e613fc254d97fde89421</td>\n",
       "      <td>[Refactor] Better updaters (#1184)</td>\n",
       "      <td>Vincent Moens</td>\n",
       "      <td>vincentmoens@gmail.com</td>\n",
       "      <td>2023-05-23 14:55:19</td>\n",
       "      <td>['examples/discrete_sac/discrete_sac.py', 'exa...</td>\n",
       "      <td>False</td>\n",
       "    </tr>\n",
       "    <tr>\n",
       "      <th>3</th>\n",
       "      <td>b4cf4d7472268d5caee7151900d2aff194474219</td>\n",
       "      <td>[Nova] Removing CircleCI Gym Unittests (#1179)</td>\n",
       "      <td>Omkar Salpekar</td>\n",
       "      <td>osalpekar@fb.com</td>\n",
       "      <td>2023-05-23 12:33:26</td>\n",
       "      <td>['.circleci/config.yml']</td>\n",
       "      <td>False</td>\n",
       "    </tr>\n",
       "    <tr>\n",
       "      <th>4</th>\n",
       "      <td>ae10bb892b3d3139be364216b9dcc5dc9bdea497</td>\n",
       "      <td>[BugFix] Fix SAC (#1189)</td>\n",
       "      <td>Vincent Moens</td>\n",
       "      <td>vincentmoens@gmail.com</td>\n",
       "      <td>2023-05-23 12:31:15</td>\n",
       "      <td>['examples/sac/sac.py', 'torchrl/objectives/sa...</td>\n",
       "      <td>False</td>\n",
       "    </tr>\n",
       "  </tbody>\n",
       "</table>\n",
       "</div>"
      ],
      "text/plain": [
       "                                  Commit ID  \\\n",
       "0  11de8e5feb54f6b5dce5dc2f045fc8143192f06a   \n",
       "1  ff900774ca0b1179429bb37cd7d99d482dfeb851   \n",
       "2  12ad69e9069036593147e613fc254d97fde89421   \n",
       "3  b4cf4d7472268d5caee7151900d2aff194474219   \n",
       "4  ae10bb892b3d3139be364216b9dcc5dc9bdea497   \n",
       "\n",
       "                                      Commit Message     Author Name  \\\n",
       "0                           [BugFix] Fix SAC (#1190)   Vincent Moens   \n",
       "1  [Performance] Improve performance and streamli...   Martin Marenz   \n",
       "2                 [Refactor] Better updaters (#1184)   Vincent Moens   \n",
       "3     [Nova] Removing CircleCI Gym Unittests (#1179)  Omkar Salpekar   \n",
       "4                           [BugFix] Fix SAC (#1189)   Vincent Moens   \n",
       "\n",
       "             Author Email       Date of Commit  \\\n",
       "0  vincentmoens@gmail.com  2023-05-23 19:59:56   \n",
       "1         marenz@meta.com  2023-05-23 19:24:57   \n",
       "2  vincentmoens@gmail.com  2023-05-23 14:55:19   \n",
       "3        osalpekar@fb.com  2023-05-23 12:33:26   \n",
       "4  vincentmoens@gmail.com  2023-05-23 12:31:15   \n",
       "\n",
       "                                       Files Changed  Passed all checks  \n",
       "0                      ['torchrl/objectives/sac.py']              False  \n",
       "1         ['torchrl/objectives/value/functional.py']              False  \n",
       "2  ['examples/discrete_sac/discrete_sac.py', 'exa...              False  \n",
       "3                           ['.circleci/config.yml']              False  \n",
       "4  ['examples/sac/sac.py', 'torchrl/objectives/sa...              False  "
      ]
     },
     "execution_count": 69,
     "metadata": {},
     "output_type": "execute_result"
    }
   ],
   "source": [
    "df.head()"
   ]
  },
  {
   "cell_type": "code",
   "execution_count": 70,
   "id": "0a9365ae",
   "metadata": {},
   "outputs": [
    {
     "name": "stdout",
     "output_type": "stream",
     "text": [
      "<class 'pandas.core.frame.DataFrame'>\n",
      "RangeIndex: 790 entries, 0 to 789\n",
      "Data columns (total 7 columns):\n",
      " #   Column             Non-Null Count  Dtype \n",
      "---  ------             --------------  ----- \n",
      " 0   Commit ID          790 non-null    object\n",
      " 1   Commit Message     790 non-null    object\n",
      " 2   Author Name        790 non-null    object\n",
      " 3   Author Email       790 non-null    object\n",
      " 4   Date of Commit     790 non-null    object\n",
      " 5   Files Changed      790 non-null    object\n",
      " 6   Passed all checks  790 non-null    bool  \n",
      "dtypes: bool(1), object(6)\n",
      "memory usage: 37.9+ KB\n"
     ]
    },
    {
     "data": {
      "text/html": [
       "<div>\n",
       "<style scoped>\n",
       "    .dataframe tbody tr th:only-of-type {\n",
       "        vertical-align: middle;\n",
       "    }\n",
       "\n",
       "    .dataframe tbody tr th {\n",
       "        vertical-align: top;\n",
       "    }\n",
       "\n",
       "    .dataframe thead th {\n",
       "        text-align: right;\n",
       "    }\n",
       "</style>\n",
       "<table border=\"1\" class=\"dataframe\">\n",
       "  <thead>\n",
       "    <tr style=\"text-align: right;\">\n",
       "      <th></th>\n",
       "      <th>Commit ID</th>\n",
       "      <th>Commit Message</th>\n",
       "      <th>Author Name</th>\n",
       "      <th>Author Email</th>\n",
       "      <th>Date of Commit</th>\n",
       "      <th>Files Changed</th>\n",
       "      <th>Passed all checks</th>\n",
       "    </tr>\n",
       "  </thead>\n",
       "  <tbody>\n",
       "    <tr>\n",
       "      <th>count</th>\n",
       "      <td>790</td>\n",
       "      <td>790</td>\n",
       "      <td>790</td>\n",
       "      <td>790</td>\n",
       "      <td>790</td>\n",
       "      <td>790</td>\n",
       "      <td>790</td>\n",
       "    </tr>\n",
       "    <tr>\n",
       "      <th>unique</th>\n",
       "      <td>790</td>\n",
       "      <td>784</td>\n",
       "      <td>116</td>\n",
       "      <td>118</td>\n",
       "      <td>790</td>\n",
       "      <td>550</td>\n",
       "      <td>2</td>\n",
       "    </tr>\n",
       "    <tr>\n",
       "      <th>top</th>\n",
       "      <td>11de8e5feb54f6b5dce5dc2f045fc8143192f06a</td>\n",
       "      <td>Update README.md</td>\n",
       "      <td>Vincent Moens</td>\n",
       "      <td>vincentmoens@gmail.com</td>\n",
       "      <td>2023-05-23 19:59:56</td>\n",
       "      <td>['README.md']</td>\n",
       "      <td>True</td>\n",
       "    </tr>\n",
       "    <tr>\n",
       "      <th>freq</th>\n",
       "      <td>1</td>\n",
       "      <td>5</td>\n",
       "      <td>505</td>\n",
       "      <td>518</td>\n",
       "      <td>1</td>\n",
       "      <td>30</td>\n",
       "      <td>533</td>\n",
       "    </tr>\n",
       "  </tbody>\n",
       "</table>\n",
       "</div>"
      ],
      "text/plain": [
       "                                       Commit ID    Commit Message  \\\n",
       "count                                        790               790   \n",
       "unique                                       790               784   \n",
       "top     11de8e5feb54f6b5dce5dc2f045fc8143192f06a  Update README.md   \n",
       "freq                                           1                 5   \n",
       "\n",
       "          Author Name            Author Email       Date of Commit  \\\n",
       "count             790                     790                  790   \n",
       "unique            116                     118                  790   \n",
       "top     Vincent Moens  vincentmoens@gmail.com  2023-05-23 19:59:56   \n",
       "freq              505                     518                    1   \n",
       "\n",
       "        Files Changed Passed all checks  \n",
       "count             790               790  \n",
       "unique            550                 2  \n",
       "top     ['README.md']              True  \n",
       "freq               30               533  "
      ]
     },
     "execution_count": 70,
     "metadata": {},
     "output_type": "execute_result"
    }
   ],
   "source": [
    "df.info()\n",
    "df.describe()"
   ]
  },
  {
   "attachments": {},
   "cell_type": "markdown",
   "id": "8db0fd99",
   "metadata": {},
   "source": []
  },
  {
   "attachments": {},
   "cell_type": "markdown",
   "id": "77491859",
   "metadata": {},
   "source": [
    "# Data Cleaning & Processing"
   ]
  },
  {
   "attachments": {},
   "cell_type": "markdown",
   "id": "c5fba409",
   "metadata": {},
   "source": [
    "## Dựa trên df.info(), dataFrame trên không có giá trị NULL => không cần lọc các hàng NaN"
   ]
  },
  {
   "attachments": {},
   "cell_type": "markdown",
   "id": "5cf10d8e",
   "metadata": {},
   "source": [
    "### Loại bỏ các hàng có thể trùng do lỗi khi lấy data. Các hàng trùng nhau sẽ có ID giống nhau"
   ]
  },
  {
   "cell_type": "code",
   "execution_count": 71,
   "id": "33eaef6b",
   "metadata": {},
   "outputs": [],
   "source": [
    "df.drop_duplicates(subset=['Commit ID'], inplace= True)"
   ]
  },
  {
   "attachments": {},
   "cell_type": "markdown",
   "id": "3d99f5b9",
   "metadata": {},
   "source": [
    "### Process bằng cách extract ra các cột Ngày, Tháng, Năm từ cột thời gian commit"
   ]
  },
  {
   "cell_type": "code",
   "execution_count": 72,
   "id": "aecd0b70",
   "metadata": {},
   "outputs": [
    {
     "data": {
      "text/html": [
       "<div>\n",
       "<style scoped>\n",
       "    .dataframe tbody tr th:only-of-type {\n",
       "        vertical-align: middle;\n",
       "    }\n",
       "\n",
       "    .dataframe tbody tr th {\n",
       "        vertical-align: top;\n",
       "    }\n",
       "\n",
       "    .dataframe thead th {\n",
       "        text-align: right;\n",
       "    }\n",
       "</style>\n",
       "<table border=\"1\" class=\"dataframe\">\n",
       "  <thead>\n",
       "    <tr style=\"text-align: right;\">\n",
       "      <th></th>\n",
       "      <th>Commit ID</th>\n",
       "      <th>Commit Message</th>\n",
       "      <th>Author Name</th>\n",
       "      <th>Author Email</th>\n",
       "      <th>Date of Commit</th>\n",
       "      <th>Files Changed</th>\n",
       "      <th>Passed all checks</th>\n",
       "      <th>Commit Year</th>\n",
       "      <th>Commit Month</th>\n",
       "      <th>Commit Day</th>\n",
       "    </tr>\n",
       "  </thead>\n",
       "  <tbody>\n",
       "    <tr>\n",
       "      <th>0</th>\n",
       "      <td>11de8e5feb54f6b5dce5dc2f045fc8143192f06a</td>\n",
       "      <td>[BugFix] Fix SAC (#1190)</td>\n",
       "      <td>Vincent Moens</td>\n",
       "      <td>vincentmoens@gmail.com</td>\n",
       "      <td>2023-05-23 19:59:56</td>\n",
       "      <td>['torchrl/objectives/sac.py']</td>\n",
       "      <td>False</td>\n",
       "      <td>2023</td>\n",
       "      <td>5</td>\n",
       "      <td>23</td>\n",
       "    </tr>\n",
       "    <tr>\n",
       "      <th>1</th>\n",
       "      <td>ff900774ca0b1179429bb37cd7d99d482dfeb851</td>\n",
       "      <td>[Performance] Improve performance and streamli...</td>\n",
       "      <td>Martin Marenz</td>\n",
       "      <td>marenz@meta.com</td>\n",
       "      <td>2023-05-23 19:24:57</td>\n",
       "      <td>['torchrl/objectives/value/functional.py']</td>\n",
       "      <td>False</td>\n",
       "      <td>2023</td>\n",
       "      <td>5</td>\n",
       "      <td>23</td>\n",
       "    </tr>\n",
       "    <tr>\n",
       "      <th>2</th>\n",
       "      <td>12ad69e9069036593147e613fc254d97fde89421</td>\n",
       "      <td>[Refactor] Better updaters (#1184)</td>\n",
       "      <td>Vincent Moens</td>\n",
       "      <td>vincentmoens@gmail.com</td>\n",
       "      <td>2023-05-23 14:55:19</td>\n",
       "      <td>['examples/discrete_sac/discrete_sac.py', 'exa...</td>\n",
       "      <td>False</td>\n",
       "      <td>2023</td>\n",
       "      <td>5</td>\n",
       "      <td>23</td>\n",
       "    </tr>\n",
       "    <tr>\n",
       "      <th>3</th>\n",
       "      <td>b4cf4d7472268d5caee7151900d2aff194474219</td>\n",
       "      <td>[Nova] Removing CircleCI Gym Unittests (#1179)</td>\n",
       "      <td>Omkar Salpekar</td>\n",
       "      <td>osalpekar@fb.com</td>\n",
       "      <td>2023-05-23 12:33:26</td>\n",
       "      <td>['.circleci/config.yml']</td>\n",
       "      <td>False</td>\n",
       "      <td>2023</td>\n",
       "      <td>5</td>\n",
       "      <td>23</td>\n",
       "    </tr>\n",
       "    <tr>\n",
       "      <th>4</th>\n",
       "      <td>ae10bb892b3d3139be364216b9dcc5dc9bdea497</td>\n",
       "      <td>[BugFix] Fix SAC (#1189)</td>\n",
       "      <td>Vincent Moens</td>\n",
       "      <td>vincentmoens@gmail.com</td>\n",
       "      <td>2023-05-23 12:31:15</td>\n",
       "      <td>['examples/sac/sac.py', 'torchrl/objectives/sa...</td>\n",
       "      <td>False</td>\n",
       "      <td>2023</td>\n",
       "      <td>5</td>\n",
       "      <td>23</td>\n",
       "    </tr>\n",
       "  </tbody>\n",
       "</table>\n",
       "</div>"
      ],
      "text/plain": [
       "                                  Commit ID  \\\n",
       "0  11de8e5feb54f6b5dce5dc2f045fc8143192f06a   \n",
       "1  ff900774ca0b1179429bb37cd7d99d482dfeb851   \n",
       "2  12ad69e9069036593147e613fc254d97fde89421   \n",
       "3  b4cf4d7472268d5caee7151900d2aff194474219   \n",
       "4  ae10bb892b3d3139be364216b9dcc5dc9bdea497   \n",
       "\n",
       "                                      Commit Message     Author Name  \\\n",
       "0                           [BugFix] Fix SAC (#1190)   Vincent Moens   \n",
       "1  [Performance] Improve performance and streamli...   Martin Marenz   \n",
       "2                 [Refactor] Better updaters (#1184)   Vincent Moens   \n",
       "3     [Nova] Removing CircleCI Gym Unittests (#1179)  Omkar Salpekar   \n",
       "4                           [BugFix] Fix SAC (#1189)   Vincent Moens   \n",
       "\n",
       "             Author Email      Date of Commit  \\\n",
       "0  vincentmoens@gmail.com 2023-05-23 19:59:56   \n",
       "1         marenz@meta.com 2023-05-23 19:24:57   \n",
       "2  vincentmoens@gmail.com 2023-05-23 14:55:19   \n",
       "3        osalpekar@fb.com 2023-05-23 12:33:26   \n",
       "4  vincentmoens@gmail.com 2023-05-23 12:31:15   \n",
       "\n",
       "                                       Files Changed  Passed all checks  \\\n",
       "0                      ['torchrl/objectives/sac.py']              False   \n",
       "1         ['torchrl/objectives/value/functional.py']              False   \n",
       "2  ['examples/discrete_sac/discrete_sac.py', 'exa...              False   \n",
       "3                           ['.circleci/config.yml']              False   \n",
       "4  ['examples/sac/sac.py', 'torchrl/objectives/sa...              False   \n",
       "\n",
       "   Commit Year  Commit Month  Commit Day  \n",
       "0         2023             5          23  \n",
       "1         2023             5          23  \n",
       "2         2023             5          23  \n",
       "3         2023             5          23  \n",
       "4         2023             5          23  "
      ]
     },
     "execution_count": 72,
     "metadata": {},
     "output_type": "execute_result"
    }
   ],
   "source": [
    "df['Date of Commit'] = pd.to_datetime(df['Date of Commit'])\n",
    "df['Commit Year'] = df['Date of Commit'].dt.year\n",
    "df['Commit Month'] = df['Date of Commit'].dt.month\n",
    "df['Commit Day'] = df['Date of Commit'].dt.day\n",
    "df.head()"
   ]
  },
  {
   "attachments": {},
   "cell_type": "markdown",
   "id": "3b42623b",
   "metadata": {},
   "source": [
    "## Loại bỏ các cột sẽ không dùng đến trong bài để dữ liệu được cô đọng"
   ]
  },
  {
   "cell_type": "code",
   "execution_count": 73,
   "id": "fca04830",
   "metadata": {},
   "outputs": [],
   "source": [
    "df.drop(['Author Email','Date of Commit'], axis=1, inplace=True)"
   ]
  },
  {
   "attachments": {},
   "cell_type": "markdown",
   "id": "fa7c2efa",
   "metadata": {},
   "source": [
    "## Chuyển dữ liệu về đúng kiểu"
   ]
  },
  {
   "cell_type": "code",
   "execution_count": 74,
   "id": "2145a57e",
   "metadata": {},
   "outputs": [],
   "source": [
    "df['Commit ID'] = df['Commit ID'].astype(str)\n",
    "df['Files Changed'] = df['Files Changed'].astype(str)\n",
    "df['Commit Message'] = df['Commit Message'].astype(str)\n",
    "df['Author Name'] = df['Author Name'].astype(str)\n",
    "df['Passed all checks'] = df['Passed all checks'].astype(bool)"
   ]
  },
  {
   "cell_type": "code",
   "execution_count": 75,
   "id": "4f43c0e0",
   "metadata": {},
   "outputs": [
    {
     "data": {
      "text/plain": [
       "Commit ID            object\n",
       "Commit Message       object\n",
       "Author Name          object\n",
       "Files Changed        object\n",
       "Passed all checks      bool\n",
       "Commit Year           int64\n",
       "Commit Month          int64\n",
       "Commit Day            int64\n",
       "dtype: object"
      ]
     },
     "execution_count": 75,
     "metadata": {},
     "output_type": "execute_result"
    }
   ],
   "source": [
    "df.dtypes"
   ]
  },
  {
   "attachments": {},
   "cell_type": "markdown",
   "id": "c103204f",
   "metadata": {},
   "source": [
    "## Loại giá trị vô lý (nếu có)"
   ]
  },
  {
   "cell_type": "code",
   "execution_count": 76,
   "id": "83912f1d",
   "metadata": {},
   "outputs": [],
   "source": [
    "df = df[df['Commit Year'] < 2024]\n",
    "df = df[(df['Commit Month'] <= 12) & (df['Commit Month'] >= 1)]\n",
    "df = df[(df['Commit Day'] <= 31) & (df['Commit Month'] >= 1)]"
   ]
  },
  {
   "cell_type": "code",
   "execution_count": 77,
   "id": "2246f135",
   "metadata": {},
   "outputs": [
    {
     "data": {
      "text/html": [
       "<div>\n",
       "<style scoped>\n",
       "    .dataframe tbody tr th:only-of-type {\n",
       "        vertical-align: middle;\n",
       "    }\n",
       "\n",
       "    .dataframe tbody tr th {\n",
       "        vertical-align: top;\n",
       "    }\n",
       "\n",
       "    .dataframe thead th {\n",
       "        text-align: right;\n",
       "    }\n",
       "</style>\n",
       "<table border=\"1\" class=\"dataframe\">\n",
       "  <thead>\n",
       "    <tr style=\"text-align: right;\">\n",
       "      <th></th>\n",
       "      <th>Commit ID</th>\n",
       "      <th>Commit Message</th>\n",
       "      <th>Author Name</th>\n",
       "      <th>Files Changed</th>\n",
       "      <th>Passed all checks</th>\n",
       "      <th>Commit Year</th>\n",
       "      <th>Commit Month</th>\n",
       "      <th>Commit Day</th>\n",
       "    </tr>\n",
       "  </thead>\n",
       "  <tbody>\n",
       "    <tr>\n",
       "      <th>0</th>\n",
       "      <td>11de8e5feb54f6b5dce5dc2f045fc8143192f06a</td>\n",
       "      <td>[BugFix] Fix SAC (#1190)</td>\n",
       "      <td>Vincent Moens</td>\n",
       "      <td>['torchrl/objectives/sac.py']</td>\n",
       "      <td>False</td>\n",
       "      <td>2023</td>\n",
       "      <td>5</td>\n",
       "      <td>23</td>\n",
       "    </tr>\n",
       "    <tr>\n",
       "      <th>1</th>\n",
       "      <td>ff900774ca0b1179429bb37cd7d99d482dfeb851</td>\n",
       "      <td>[Performance] Improve performance and streamli...</td>\n",
       "      <td>Martin Marenz</td>\n",
       "      <td>['torchrl/objectives/value/functional.py']</td>\n",
       "      <td>False</td>\n",
       "      <td>2023</td>\n",
       "      <td>5</td>\n",
       "      <td>23</td>\n",
       "    </tr>\n",
       "    <tr>\n",
       "      <th>2</th>\n",
       "      <td>12ad69e9069036593147e613fc254d97fde89421</td>\n",
       "      <td>[Refactor] Better updaters (#1184)</td>\n",
       "      <td>Vincent Moens</td>\n",
       "      <td>['examples/discrete_sac/discrete_sac.py', 'exa...</td>\n",
       "      <td>False</td>\n",
       "      <td>2023</td>\n",
       "      <td>5</td>\n",
       "      <td>23</td>\n",
       "    </tr>\n",
       "    <tr>\n",
       "      <th>3</th>\n",
       "      <td>b4cf4d7472268d5caee7151900d2aff194474219</td>\n",
       "      <td>[Nova] Removing CircleCI Gym Unittests (#1179)</td>\n",
       "      <td>Omkar Salpekar</td>\n",
       "      <td>['.circleci/config.yml']</td>\n",
       "      <td>False</td>\n",
       "      <td>2023</td>\n",
       "      <td>5</td>\n",
       "      <td>23</td>\n",
       "    </tr>\n",
       "    <tr>\n",
       "      <th>4</th>\n",
       "      <td>ae10bb892b3d3139be364216b9dcc5dc9bdea497</td>\n",
       "      <td>[BugFix] Fix SAC (#1189)</td>\n",
       "      <td>Vincent Moens</td>\n",
       "      <td>['examples/sac/sac.py', 'torchrl/objectives/sa...</td>\n",
       "      <td>False</td>\n",
       "      <td>2023</td>\n",
       "      <td>5</td>\n",
       "      <td>23</td>\n",
       "    </tr>\n",
       "    <tr>\n",
       "      <th>...</th>\n",
       "      <td>...</td>\n",
       "      <td>...</td>\n",
       "      <td>...</td>\n",
       "      <td>...</td>\n",
       "      <td>...</td>\n",
       "      <td>...</td>\n",
       "      <td>...</td>\n",
       "      <td>...</td>\n",
       "    </tr>\n",
       "    <tr>\n",
       "      <th>785</th>\n",
       "      <td>17d85d4128fcdfdef657b90967d25fe30cf7c64d</td>\n",
       "      <td>Troubleshooting in README.md</td>\n",
       "      <td>Vincent Moens</td>\n",
       "      <td>['README.md']</td>\n",
       "      <td>True</td>\n",
       "      <td>2022</td>\n",
       "      <td>4</td>\n",
       "      <td>13</td>\n",
       "    </tr>\n",
       "    <tr>\n",
       "      <th>786</th>\n",
       "      <td>4f4c827b6564de0511c95c71c1a47dd922d08c66</td>\n",
       "      <td>Fixes minor typos in README.md (#57)</td>\n",
       "      <td>Tristan Naumann</td>\n",
       "      <td>['README.md']</td>\n",
       "      <td>True</td>\n",
       "      <td>2022</td>\n",
       "      <td>4</td>\n",
       "      <td>6</td>\n",
       "    </tr>\n",
       "    <tr>\n",
       "      <th>787</th>\n",
       "      <td>56907ad37f195fec0ac168d9132a5f70457db737</td>\n",
       "      <td>Disclaimer in readme</td>\n",
       "      <td>Vincent Moens</td>\n",
       "      <td>['README.md']</td>\n",
       "      <td>True</td>\n",
       "      <td>2022</td>\n",
       "      <td>4</td>\n",
       "      <td>1</td>\n",
       "    </tr>\n",
       "    <tr>\n",
       "      <th>788</th>\n",
       "      <td>0f70e4f44131d72dd0a107824ad8fdc80fcafa40</td>\n",
       "      <td>CircleCI badge (#55)</td>\n",
       "      <td>Vincent Moens</td>\n",
       "      <td>['README.md']</td>\n",
       "      <td>True</td>\n",
       "      <td>2022</td>\n",
       "      <td>4</td>\n",
       "      <td>1</td>\n",
       "    </tr>\n",
       "    <tr>\n",
       "      <th>789</th>\n",
       "      <td>240975b853007f738d1231f685c4498c8e626f78</td>\n",
       "      <td>initial commit</td>\n",
       "      <td>Vincent Moens</td>\n",
       "      <td>['.circleci/config.yml', '.circleci/unittest/l...</td>\n",
       "      <td>True</td>\n",
       "      <td>2022</td>\n",
       "      <td>3</td>\n",
       "      <td>31</td>\n",
       "    </tr>\n",
       "  </tbody>\n",
       "</table>\n",
       "<p>790 rows × 8 columns</p>\n",
       "</div>"
      ],
      "text/plain": [
       "                                    Commit ID  \\\n",
       "0    11de8e5feb54f6b5dce5dc2f045fc8143192f06a   \n",
       "1    ff900774ca0b1179429bb37cd7d99d482dfeb851   \n",
       "2    12ad69e9069036593147e613fc254d97fde89421   \n",
       "3    b4cf4d7472268d5caee7151900d2aff194474219   \n",
       "4    ae10bb892b3d3139be364216b9dcc5dc9bdea497   \n",
       "..                                        ...   \n",
       "785  17d85d4128fcdfdef657b90967d25fe30cf7c64d   \n",
       "786  4f4c827b6564de0511c95c71c1a47dd922d08c66   \n",
       "787  56907ad37f195fec0ac168d9132a5f70457db737   \n",
       "788  0f70e4f44131d72dd0a107824ad8fdc80fcafa40   \n",
       "789  240975b853007f738d1231f685c4498c8e626f78   \n",
       "\n",
       "                                        Commit Message      Author Name  \\\n",
       "0                             [BugFix] Fix SAC (#1190)    Vincent Moens   \n",
       "1    [Performance] Improve performance and streamli...    Martin Marenz   \n",
       "2                   [Refactor] Better updaters (#1184)    Vincent Moens   \n",
       "3       [Nova] Removing CircleCI Gym Unittests (#1179)   Omkar Salpekar   \n",
       "4                             [BugFix] Fix SAC (#1189)    Vincent Moens   \n",
       "..                                                 ...              ...   \n",
       "785                       Troubleshooting in README.md    Vincent Moens   \n",
       "786               Fixes minor typos in README.md (#57)  Tristan Naumann   \n",
       "787                               Disclaimer in readme    Vincent Moens   \n",
       "788                               CircleCI badge (#55)    Vincent Moens   \n",
       "789                                     initial commit    Vincent Moens   \n",
       "\n",
       "                                         Files Changed  Passed all checks  \\\n",
       "0                        ['torchrl/objectives/sac.py']              False   \n",
       "1           ['torchrl/objectives/value/functional.py']              False   \n",
       "2    ['examples/discrete_sac/discrete_sac.py', 'exa...              False   \n",
       "3                             ['.circleci/config.yml']              False   \n",
       "4    ['examples/sac/sac.py', 'torchrl/objectives/sa...              False   \n",
       "..                                                 ...                ...   \n",
       "785                                      ['README.md']               True   \n",
       "786                                      ['README.md']               True   \n",
       "787                                      ['README.md']               True   \n",
       "788                                      ['README.md']               True   \n",
       "789  ['.circleci/config.yml', '.circleci/unittest/l...               True   \n",
       "\n",
       "     Commit Year  Commit Month  Commit Day  \n",
       "0           2023             5          23  \n",
       "1           2023             5          23  \n",
       "2           2023             5          23  \n",
       "3           2023             5          23  \n",
       "4           2023             5          23  \n",
       "..           ...           ...         ...  \n",
       "785         2022             4          13  \n",
       "786         2022             4           6  \n",
       "787         2022             4           1  \n",
       "788         2022             4           1  \n",
       "789         2022             3          31  \n",
       "\n",
       "[790 rows x 8 columns]"
      ]
     },
     "execution_count": 77,
     "metadata": {},
     "output_type": "execute_result"
    }
   ],
   "source": [
    "df"
   ]
  },
  {
   "attachments": {},
   "cell_type": "markdown",
   "id": "119fa395",
   "metadata": {},
   "source": [
    "## Lưu vào file mới"
   ]
  },
  {
   "cell_type": "code",
   "execution_count": 78,
   "id": "ac99e8ef",
   "metadata": {},
   "outputs": [],
   "source": [
    "df.to_csv('pytrochRl_written_cleaned_file.csv', index=False)"
   ]
  },
  {
   "attachments": {},
   "cell_type": "markdown",
   "id": "df3adcec",
   "metadata": {},
   "source": []
  },
  {
   "attachments": {},
   "cell_type": "markdown",
   "id": "bcc059bf",
   "metadata": {},
   "source": [
    "# Data Analysis"
   ]
  },
  {
   "attachments": {},
   "cell_type": "markdown",
   "id": "0411adfc",
   "metadata": {},
   "source": [
    "Trong phần Analysis, để dễ hình dung 1 số nội dung trả lời cho các câu hỏi được đặt ra, 1 phần của Data Visualization cũng sẽ được đính kèm.\n",
    "\n",
    "Mọi hình ảnh được đính kèm ở đây cũng sẽ xuất hiện ở mục Data Visualization."
   ]
  },
  {
   "cell_type": "code",
   "execution_count": 79,
   "id": "b4acf2fc",
   "metadata": {},
   "outputs": [],
   "source": [
    "df = pd.read_csv('pytrochRl_written_cleaned_file.csv')"
   ]
  },
  {
   "attachments": {},
   "cell_type": "markdown",
   "id": "b7e90c4b",
   "metadata": {},
   "source": [
    "## Ai là những người Commit nhiều nhất?"
   ]
  },
  {
   "attachments": {},
   "cell_type": "markdown",
   "id": "2a96334b",
   "metadata": {},
   "source": [
    "### Method: Sử dụng cột \"Author Name\" để đếm số hàng có chứa tên của mỗi người, tổng hợp lại vào 1 DataFrame mới."
   ]
  },
  {
   "cell_type": "code",
   "execution_count": 80,
   "id": "e4ccdf3f",
   "metadata": {},
   "outputs": [
    {
     "data": {
      "text/html": [
       "<div>\n",
       "<style scoped>\n",
       "    .dataframe tbody tr th:only-of-type {\n",
       "        vertical-align: middle;\n",
       "    }\n",
       "\n",
       "    .dataframe tbody tr th {\n",
       "        vertical-align: top;\n",
       "    }\n",
       "\n",
       "    .dataframe thead th {\n",
       "        text-align: right;\n",
       "    }\n",
       "</style>\n",
       "<table border=\"1\" class=\"dataframe\">\n",
       "  <thead>\n",
       "    <tr style=\"text-align: right;\">\n",
       "      <th></th>\n",
       "      <th>Author Name</th>\n",
       "      <th>Number of Commits</th>\n",
       "    </tr>\n",
       "  </thead>\n",
       "  <tbody>\n",
       "    <tr>\n",
       "      <th>0</th>\n",
       "      <td>Vincent Moens</td>\n",
       "      <td>505</td>\n",
       "    </tr>\n",
       "    <tr>\n",
       "      <th>1</th>\n",
       "      <td>nicolas-dufour</td>\n",
       "      <td>28</td>\n",
       "    </tr>\n",
       "    <tr>\n",
       "      <th>2</th>\n",
       "      <td>Matteo Bettini</td>\n",
       "      <td>24</td>\n",
       "    </tr>\n",
       "    <tr>\n",
       "      <th>3</th>\n",
       "      <td>Tom Begley</td>\n",
       "      <td>16</td>\n",
       "    </tr>\n",
       "    <tr>\n",
       "      <th>4</th>\n",
       "      <td>vmoens</td>\n",
       "      <td>13</td>\n",
       "    </tr>\n",
       "    <tr>\n",
       "      <th>...</th>\n",
       "      <td>...</td>\n",
       "      <td>...</td>\n",
       "    </tr>\n",
       "    <tr>\n",
       "      <th>111</th>\n",
       "      <td>Leroy Pascal</td>\n",
       "      <td>1</td>\n",
       "    </tr>\n",
       "    <tr>\n",
       "      <th>112</th>\n",
       "      <td>Sebastian Hätälä</td>\n",
       "      <td>1</td>\n",
       "    </tr>\n",
       "    <tr>\n",
       "      <th>113</th>\n",
       "      <td>Julia Gonik</td>\n",
       "      <td>1</td>\n",
       "    </tr>\n",
       "    <tr>\n",
       "      <th>114</th>\n",
       "      <td>Serhat Varolgünes</td>\n",
       "      <td>1</td>\n",
       "    </tr>\n",
       "    <tr>\n",
       "      <th>115</th>\n",
       "      <td>Tristan Naumann</td>\n",
       "      <td>1</td>\n",
       "    </tr>\n",
       "  </tbody>\n",
       "</table>\n",
       "<p>116 rows × 2 columns</p>\n",
       "</div>"
      ],
      "text/plain": [
       "           Author Name  Number of Commits\n",
       "0        Vincent Moens                505\n",
       "1       nicolas-dufour                 28\n",
       "2       Matteo Bettini                 24\n",
       "3           Tom Begley                 16\n",
       "4               vmoens                 13\n",
       "..                 ...                ...\n",
       "111       Leroy Pascal                  1\n",
       "112   Sebastian Hätälä                  1\n",
       "113        Julia Gonik                  1\n",
       "114  Serhat Varolgünes                  1\n",
       "115    Tristan Naumann                  1\n",
       "\n",
       "[116 rows x 2 columns]"
      ]
     },
     "execution_count": 80,
     "metadata": {},
     "output_type": "execute_result"
    }
   ],
   "source": [
    "#Most active contributor\n",
    "active_contributor = df['Author Name'].value_counts()\n",
    "active_contributor = pd.DataFrame(active_contributor).reset_index()\n",
    "active_contributor.columns = ['Author Name', 'Number of Commits']\n",
    "active_contributor"
   ]
  },
  {
   "cell_type": "code",
   "execution_count": 81,
   "metadata": {},
   "outputs": [
    {
     "data": {
      "text/plain": [
       "Text(0.5, 1.0, 'Commit number per person distribution')"
      ]
     },
     "execution_count": 81,
     "metadata": {},
     "output_type": "execute_result"
    },
    {
     "data": {
      "image/png": "[encoded data removed]",
      "text/plain": [
       "<Figure size 640x480 with 1 Axes>"
      ]
     },
     "metadata": {},
     "output_type": "display_data"
    }
   ],
   "source": [
    "ax = active_contributor.plot(kind='box')\n",
    "ax.set_title('Commit number per person distribution')"
   ]
  },
  {
   "attachments": {},
   "cell_type": "markdown",
   "id": "736ff13a",
   "metadata": {},
   "source": [
    "### Trả lời: Vincent Moens là người có hoạt động commit thường xuyên nhất trong repository trên.\n"
   ]
  },
  {
   "attachments": {},
   "cell_type": "markdown",
   "id": "864177eb",
   "metadata": {},
   "source": []
  },
  {
   "attachments": {},
   "cell_type": "markdown",
   "id": "f5a3eecf",
   "metadata": {},
   "source": [
    "## Tần suất Commit của Repository trên?"
   ]
  },
  {
   "attachments": {},
   "cell_type": "markdown",
   "id": "cb78afab",
   "metadata": {},
   "source": [
    "### Method: Nhóm data lại theo thông tin về Năm và Tháng, rồi đếm số lượng commit trong mỗi mốc thời gian, đưa vào 1 DataFrame mới"
   ]
  },
  {
   "cell_type": "code",
   "execution_count": 82,
   "id": "09a1a6ab",
   "metadata": {},
   "outputs": [
    {
     "name": "stdout",
     "output_type": "stream",
     "text": [
      "    Commit Year  Commit Month  Number of Commits\n",
      "6          2022             9                 92\n",
      "10         2023             1                 73\n",
      "13         2023             4                 71\n",
      "7          2022            10                 70\n",
      "2          2022             5                 67\n",
      "4          2022             7                 62\n",
      "8          2022            11                 60\n",
      "3          2022             6                 54\n",
      "12         2023             3                 49\n",
      "14         2023             5                 48\n",
      "1          2022             4                 40\n",
      "9          2022            12                 38\n",
      "11         2023             2                 34\n",
      "5          2022             8                 31\n",
      "0          2022             3                  1\n"
     ]
    }
   ],
   "source": [
    "#Frequency of commits\n",
    "#find the value_count of years, month\n",
    "commit_frequency = df[['Commit Year', 'Commit Month', 'Commit ID']]\n",
    "commit_frequency = commit_frequency.groupby(['Commit Year', 'Commit Month']).count().reset_index()\n",
    "commit_frequency = commit_frequency.sort_values(by= 'Commit Year', ascending= False)\n",
    "commit_frequency.columns = ['Commit Year', 'Commit Month', 'Number of Commits']\n",
    "print(commit_frequency.sort_values(by='Number of Commits',ascending= False))\n"
   ]
  },
  {
   "cell_type": "code",
   "execution_count": 83,
   "id": "1bccf1da",
   "metadata": {},
   "outputs": [
    {
     "data": {
      "text/plain": [
       "Text(0.5, 0.98, 'Commit Frequency')"
      ]
     },
     "execution_count": 83,
     "metadata": {},
     "output_type": "execute_result"
    },
    {
     "data": {
      "image/png": "[encoded data removed]",
      "text/plain": [
       "<Figure size 613.611x500 with 1 Axes>"
      ]
     },
     "metadata": {},
     "output_type": "display_data"
    }
   ],
   "source": [
    "ax = sns.catplot(data= commit_frequency, x= 'Commit Year', y= 'Number of Commits', hue= 'Commit Month', kind= 'bar', palette='tab10')\n",
    "ax.set_axis_labels('Year', 'Number of Commits')\n",
    "ax.fig.suptitle('Commit Frequency')"
   ]
  },
  {
   "attachments": {},
   "cell_type": "markdown",
   "id": "c1adda3a",
   "metadata": {},
   "source": [
    "### Trả lời: Repo trên bắt đầu hoạt động từ 3/2022, hoạt động commit thường xuyên nhất vào các tháng 5, 9, 10 của 2022 và tháng 1, 4 của 2023."
   ]
  },
  {
   "attachments": {},
   "cell_type": "markdown",
   "id": "74045298",
   "metadata": {},
   "source": []
  },
  {
   "attachments": {},
   "cell_type": "markdown",
   "id": "115416a9",
   "metadata": {},
   "source": [
    "## Nội dung chủ yếu của các Commit Message?"
   ]
  },
  {
   "attachments": {},
   "cell_type": "markdown",
   "id": "ea5797dd",
   "metadata": {},
   "source": [
    "### Method: Bằng cách quan sát data từ df.head(), ta thấy nội dung commit hầu hết đều tóm gọn trong 1 chữ trong dấu \"[ ]\" ở đầu Commit Message.\n",
    "\n",
    "### Từ đó, ta quan sát data và rút ra 1 loạt các từ phổ biến.\n",
    "\n",
    "### Sau đó tìm số hàng có chứa mỗi từ phổ biến đó."
   ]
  },
  {
   "cell_type": "code",
   "execution_count": 84,
   "id": "931fe517",
   "metadata": {},
   "outputs": [],
   "source": [
    "#Most commom words in Message\n",
    "common_words = ['BugFix', 'Performance', 'Refactor', 'Feature', 'Doc', 'CI', 'Update', 'Merge', 'Versioning', 'Minor', 'Test']"
   ]
  },
  {
   "cell_type": "code",
   "execution_count": 85,
   "id": "0418d14b",
   "metadata": {},
   "outputs": [
    {
     "name": "stdout",
     "output_type": "stream",
     "text": [
      "           Word  Number of Messages\n",
      "0        BugFix                 217\n",
      "1   Performance                   8\n",
      "2      Refactor                  83\n",
      "3       Feature                 167\n",
      "4           Doc                 119\n",
      "5            CI                  71\n",
      "6        Update                  60\n",
      "7         Merge                   7\n",
      "8    Versioning                  10\n",
      "9         Minor                  44\n",
      "10         Test                  93\n"
     ]
    }
   ],
   "source": [
    "contains_words = {}\n",
    "for word in common_words:\n",
    "        contains_words[word] = df[df['Commit Message'].str.contains(word, case=False)]['Commit Message']\n",
    "word_contain_number = pd.DataFrame(contains_words)\n",
    "word_plot = pd.DataFrame(word_contain_number.count().reset_index())\n",
    "word_plot.columns = ['Word', 'Number of Messages']\n",
    "print(word_plot)\n",
    "\n"
   ]
  },
  {
   "cell_type": "code",
   "execution_count": 86,
   "id": "703eef3a",
   "metadata": {},
   "outputs": [
    {
     "data": {
      "image/png": "[encoded data removed]",
      "text/plain": [
       "<Figure size 1000x500 with 1 Axes>"
      ]
     },
     "metadata": {},
     "output_type": "display_data"
    }
   ],
   "source": [
    "ax = word_plot.plot(x='Word', y='Number of Messages', figsize=(10, 5), kind='bar')\n",
    "ax.set_xlabel(\"Common words\")\n",
    "ax.set_ylabel(\"Number of appearence\")\n",
    "ax.set_title(\"Most frequent Commit Message description\")\n",
    "plt.xticks(rotation = 45)\n",
    "plt.show()"
   ]
  },
  {
   "attachments": {},
   "cell_type": "markdown",
   "id": "9cce6ca0",
   "metadata": {},
   "source": [
    "### Trả lời: Các từ như BugFix, Feature, Doc, ... là các từ thường xuyên xuất hiện, và là nội dung chủ yếu của các Commit Message"
   ]
  },
  {
   "attachments": {},
   "cell_type": "markdown",
   "id": "3f9c2c91",
   "metadata": {},
   "source": []
  },
  {
   "attachments": {},
   "cell_type": "markdown",
   "id": "723ef357",
   "metadata": {},
   "source": [
    "## Các file được chỉnh sửa thường xuyên nhất?"
   ]
  },
  {
   "attachments": {},
   "cell_type": "markdown",
   "id": "b181437d",
   "metadata": {},
   "source": [
    "Mỗi khi commit khi có file được sửa, file sẽ được đưa vào muc Files Changed.\n",
    "\n",
    "Vậy ta tìm số lần xuất hiện của các file có trong mục Files Changed."
   ]
  },
  {
   "attachments": {},
   "cell_type": "markdown",
   "id": "72aa965c",
   "metadata": {},
   "source": [
    "### Method: Đoạn ở dưới rất kỳ công, nhưng có thể hiểu như sau:\n",
    "\n",
    "Nội dung của Files Changed là các đường dẫn cách nhau bằng dấu \",\" với tên file được chỉnh nằm ở cuối đường dẫn.\n",
    "\n",
    "Mỗi đường dẫn file lại gồm các file, folder cách nhau bởi dấu \"/\", tên file nằm sau cùng.\n",
    "\n",
    "Ta sẽ tách (split) dần dần để lấy được tên file, và tìm số lần nó xuất hiện."
   ]
  },
  {
   "cell_type": "code",
   "execution_count": 87,
   "id": "0efa00dd",
   "metadata": {},
   "outputs": [
    {
     "data": {
      "text/html": [
       "<div>\n",
       "<style scoped>\n",
       "    .dataframe tbody tr th:only-of-type {\n",
       "        vertical-align: middle;\n",
       "    }\n",
       "\n",
       "    .dataframe tbody tr th {\n",
       "        vertical-align: top;\n",
       "    }\n",
       "\n",
       "    .dataframe thead th {\n",
       "        text-align: right;\n",
       "    }\n",
       "</style>\n",
       "<table border=\"1\" class=\"dataframe\">\n",
       "  <thead>\n",
       "    <tr style=\"text-align: right;\">\n",
       "      <th></th>\n",
       "      <th>File Name</th>\n",
       "      <th>Changed Times</th>\n",
       "    </tr>\n",
       "  </thead>\n",
       "  <tbody>\n",
       "    <tr>\n",
       "      <th>84</th>\n",
       "      <td>transforms.py</td>\n",
       "      <td>153</td>\n",
       "    </tr>\n",
       "    <tr>\n",
       "      <th>6</th>\n",
       "      <td>common.py</td>\n",
       "      <td>137</td>\n",
       "    </tr>\n",
       "    <tr>\n",
       "      <th>153</th>\n",
       "      <td>utils.py</td>\n",
       "      <td>130</td>\n",
       "    </tr>\n",
       "    <tr>\n",
       "      <th>196</th>\n",
       "      <td>collectors.py</td>\n",
       "      <td>111</td>\n",
       "    </tr>\n",
       "    <tr>\n",
       "      <th>125</th>\n",
       "      <td>__init__.py</td>\n",
       "      <td>94</td>\n",
       "    </tr>\n",
       "    <tr>\n",
       "      <th>...</th>\n",
       "      <td>...</td>\n",
       "      <td>...</td>\n",
       "    </tr>\n",
       "    <tr>\n",
       "      <th>24</th>\n",
       "      <td>halfcheetah_chart.png</td>\n",
       "      <td>1</td>\n",
       "    </tr>\n",
       "    <tr>\n",
       "      <th>219</th>\n",
       "      <td>docutils.conf</td>\n",
       "      <td>1</td>\n",
       "    </tr>\n",
       "    <tr>\n",
       "      <th>217</th>\n",
       "      <td>modernizr.min.js</td>\n",
       "      <td>1</td>\n",
       "    </tr>\n",
       "    <tr>\n",
       "      <th>134</th>\n",
       "      <td>VERSIONING_ISSUES.md</td>\n",
       "      <td>1</td>\n",
       "    </tr>\n",
       "    <tr>\n",
       "      <th>226</th>\n",
       "      <td>pytest.ini</td>\n",
       "      <td>1</td>\n",
       "    </tr>\n",
       "  </tbody>\n",
       "</table>\n",
       "<p>295 rows × 2 columns</p>\n",
       "</div>"
      ],
      "text/plain": [
       "                 File Name  Changed Times\n",
       "84           transforms.py            153\n",
       "6                common.py            137\n",
       "153               utils.py            130\n",
       "196          collectors.py            111\n",
       "125            __init__.py             94\n",
       "..                     ...            ...\n",
       "24   halfcheetah_chart.png              1\n",
       "219          docutils.conf              1\n",
       "217       modernizr.min.js              1\n",
       "134   VERSIONING_ISSUES.md              1\n",
       "226             pytest.ini              1\n",
       "\n",
       "[295 rows x 2 columns]"
      ]
     },
     "execution_count": 87,
     "metadata": {},
     "output_type": "execute_result"
    }
   ],
   "source": [
    "from collections import defaultdict\n",
    "\n",
    "file_set = []\n",
    "file_dict = defaultdict(lambda: 1)\n",
    "for file_data in df['Files Changed']:\n",
    "    #đầu tiên cần loại bỏ các ký tự râu ria thừa đi\n",
    "    #sau đó tách các phần tử đường dẫn bằng dấu \",\"\n",
    "    stringg = file_data.strip('[]').replace(\"'\", \"\").split(',')\n",
    "\n",
    "    for big_file in stringg:\n",
    "        #từ mỗi đường dẫn, chỉ lấy tên file ở cuối, tách với các địa chỉ đường dẫn khác bằng ký tự \"/\"\n",
    "        strip_file = big_file.split(\"/\")\n",
    "\n",
    "        #thêm các file vào list các File\n",
    "        if(len(strip_file[len(strip_file) - 1]) > 0):\n",
    "            file_set.append(strip_file[len(strip_file) - 1])\n",
    "\n",
    "#Ép kiểu để lấy ra các file unique tạo thành Set\n",
    "file_set = list(set(file_set))\n",
    "#Tìm số lần xuất hiện của các file\n",
    "for file in file_set:\n",
    "    file_dict[file] = df[df['Files Changed'].str.contains(file.strip(), case=False)].shape[0]\n",
    "\n",
    "#Tạo dataFrame\n",
    "file_dict_frame = pd.DataFrame(file_dict, index= range(1)).transpose().reset_index()\n",
    "file_dict_frame.columns = ['File Name', 'Changed Times']\n",
    "file_dict_frame.sort_values(by='Changed Times', ascending=False)\n"
   ]
  },
  {
   "attachments": {},
   "cell_type": "markdown",
   "id": "693d2449",
   "metadata": {},
   "source": [
    "### Lưu ý: Một số tên file trong đây cũng xuất hiện trong cột Message, nên nếu thầy dùng Ctrl+F để kiểm tra trên file .csv thì kết quả có thể chệch đi một chút."
   ]
  },
  {
   "attachments": {},
   "cell_type": "markdown",
   "id": "64d54a2b",
   "metadata": {},
   "source": []
  },
  {
   "attachments": {},
   "cell_type": "markdown",
   "id": "2eba05d4",
   "metadata": {},
   "source": [
    "### Do số lượng file rất nhiều, ta chỉ minh họa các file có số lần xuất hiện đáng kể (>= 50 lần)"
   ]
  },
  {
   "cell_type": "code",
   "execution_count": 88,
   "id": "a5f404e0",
   "metadata": {},
   "outputs": [
    {
     "data": {
      "image/png": "[encoded data removed]",
      "text/plain": [
       "<Figure size 2000x1000 with 1 Axes>"
      ]
     },
     "metadata": {},
     "output_type": "display_data"
    }
   ],
   "source": [
    "file_plot = pd.DataFrame(file_dict, index= range(1)).transpose().reset_index()\n",
    "file_plot.columns = ['File Name', 'Edited times']\n",
    "# file_plot = file_plot.sort_values(by= 'Edited times', ascending=False)\n",
    "file_plot = file_plot[file_plot['Edited times'] >= 50]\n",
    "ax = file_plot.plot(x= 'File Name', y= 'Edited times', kind= 'bar', figsize=(20, 10))\n",
    "plt.xticks(rotation=45)\n",
    "ax.set_xlabel(\"File name\")\n",
    "ax.set_ylabel(\"Edited times\")\n",
    "ax.set_title(\"File frequency\")\n",
    "plt.show()"
   ]
  },
  {
   "attachments": {},
   "cell_type": "markdown",
   "id": "21555672",
   "metadata": {},
   "source": [
    "### Trả lời: 1 vài file được chỉnh sửa nhiều là \"transforms.py\", \"common.py\", ..."
   ]
  },
  {
   "attachments": {},
   "cell_type": "markdown",
   "id": "ada40367",
   "metadata": {},
   "source": []
  },
  {
   "attachments": {},
   "cell_type": "markdown",
   "id": "37927b00",
   "metadata": {},
   "source": [
    "## Trong tất cả, có bao nhiêu commit Pass được các test case của repo trên?"
   ]
  },
  {
   "attachments": {},
   "cell_type": "markdown",
   "id": "b0819f59",
   "metadata": {},
   "source": [
    "### Method: Lấy số hàng có Pass = True chia cho tổng số hàng"
   ]
  },
  {
   "cell_type": "code",
   "execution_count": 89,
   "id": "2891d386",
   "metadata": {},
   "outputs": [
    {
     "data": {
      "text/plain": [
       "67.46835443037975"
      ]
     },
     "execution_count": 89,
     "metadata": {},
     "output_type": "execute_result"
    }
   ],
   "source": [
    "pass_percentage = df[df['Passed all checks'] == True].shape[0] / df['Passed all checks'].shape[0] * 100\n",
    "pass_percentage"
   ]
  },
  {
   "attachments": {},
   "cell_type": "markdown",
   "id": "4076ed27",
   "metadata": {},
   "source": [
    "### Trả lời: 67.46835443037975%"
   ]
  },
  {
   "attachments": {},
   "cell_type": "markdown",
   "id": "58381ccd",
   "metadata": {},
   "source": []
  },
  {
   "attachments": {},
   "cell_type": "markdown",
   "id": "367c91ad",
   "metadata": {},
   "source": [
    "## Đánh giá chất lượng của các Commit của mỗi người (bằng cách xem % commit pass các test trên tổng số commit của mỗi người)?"
   ]
  },
  {
   "attachments": {},
   "cell_type": "markdown",
   "id": "f8f2c615",
   "metadata": {},
   "source": [
    "## Ví dụ: Nam commit 10 lần, pass 8 lần thì 80% số lần commit của Nam vượt qua các test cho sẵn"
   ]
  },
  {
   "attachments": {},
   "cell_type": "markdown",
   "id": "2eee76a1",
   "metadata": {},
   "source": [
    "### Method: Giống với câu hỏi \"Trong tất cả, có bao nhiêu commit Pass được các test case của repo trên?\" Nhưng cho tên của mỗi người."
   ]
  },
  {
   "cell_type": "code",
   "execution_count": 90,
   "id": "9edf8a76",
   "metadata": {},
   "outputs": [
    {
     "data": {
      "text/html": [
       "<div>\n",
       "<style scoped>\n",
       "    .dataframe tbody tr th:only-of-type {\n",
       "        vertical-align: middle;\n",
       "    }\n",
       "\n",
       "    .dataframe tbody tr th {\n",
       "        vertical-align: top;\n",
       "    }\n",
       "\n",
       "    .dataframe thead th {\n",
       "        text-align: right;\n",
       "    }\n",
       "</style>\n",
       "<table border=\"1\" class=\"dataframe\">\n",
       "  <thead>\n",
       "    <tr style=\"text-align: right;\">\n",
       "      <th></th>\n",
       "      <th>Name</th>\n",
       "      <th>Passing Percentage</th>\n",
       "    </tr>\n",
       "  </thead>\n",
       "  <tbody>\n",
       "    <tr>\n",
       "      <th>58</th>\n",
       "      <td>jrobine</td>\n",
       "      <td>100.0</td>\n",
       "    </tr>\n",
       "    <tr>\n",
       "      <th>87</th>\n",
       "      <td>jiazhou wang</td>\n",
       "      <td>100.0</td>\n",
       "    </tr>\n",
       "    <tr>\n",
       "      <th>85</th>\n",
       "      <td>Matt White</td>\n",
       "      <td>100.0</td>\n",
       "    </tr>\n",
       "    <tr>\n",
       "      <th>84</th>\n",
       "      <td>Fridolin Linder</td>\n",
       "      <td>100.0</td>\n",
       "    </tr>\n",
       "    <tr>\n",
       "      <th>83</th>\n",
       "      <td>Filip Dabek</td>\n",
       "      <td>100.0</td>\n",
       "    </tr>\n",
       "    <tr>\n",
       "      <th>...</th>\n",
       "      <td>...</td>\n",
       "      <td>...</td>\n",
       "    </tr>\n",
       "    <tr>\n",
       "      <th>23</th>\n",
       "      <td>Xuehai Pan</td>\n",
       "      <td>0.0</td>\n",
       "    </tr>\n",
       "    <tr>\n",
       "      <th>26</th>\n",
       "      <td>Nikita Shulga</td>\n",
       "      <td>0.0</td>\n",
       "    </tr>\n",
       "    <tr>\n",
       "      <th>51</th>\n",
       "      <td>Sebastian Hätälä</td>\n",
       "      <td>0.0</td>\n",
       "    </tr>\n",
       "    <tr>\n",
       "      <th>38</th>\n",
       "      <td>Adnan Akhundov</td>\n",
       "      <td>0.0</td>\n",
       "    </tr>\n",
       "    <tr>\n",
       "      <th>1</th>\n",
       "      <td>Martin Marenz</td>\n",
       "      <td>0.0</td>\n",
       "    </tr>\n",
       "  </tbody>\n",
       "</table>\n",
       "<p>116 rows × 2 columns</p>\n",
       "</div>"
      ],
      "text/plain": [
       "                Name  Passing Percentage\n",
       "58           jrobine               100.0\n",
       "87      jiazhou wang               100.0\n",
       "85        Matt White               100.0\n",
       "84   Fridolin Linder               100.0\n",
       "83       Filip Dabek               100.0\n",
       "..               ...                 ...\n",
       "23        Xuehai Pan                 0.0\n",
       "26     Nikita Shulga                 0.0\n",
       "51  Sebastian Hätälä                 0.0\n",
       "38    Adnan Akhundov                 0.0\n",
       "1      Martin Marenz                 0.0\n",
       "\n",
       "[116 rows x 2 columns]"
      ]
     },
     "execution_count": 90,
     "metadata": {},
     "output_type": "execute_result"
    }
   ],
   "source": [
    "passing_rate = {}\n",
    "unique_names = df['Author Name'].unique()\n",
    "for name in unique_names:\n",
    "    passing_rate[name] = round(df[(df['Author Name'] == name) & (df['Passed all checks'] == True)].shape[0] / df[df['Author Name'] == name].shape[0] * 100, 1)\n",
    "passing_rate_frame = pd.DataFrame(passing_rate, index= range(1)).transpose()\n",
    "passing_rate_frame = passing_rate_frame.reset_index()\n",
    "passing_rate_frame.columns = ['Name', 'Passing Percentage']\n",
    "passing_rate_frame.sort_values(by='Passing Percentage', ascending=False)\n"
   ]
  },
  {
   "attachments": {},
   "cell_type": "markdown",
   "id": "9866a70f",
   "metadata": {},
   "source": [
    "### Trả lời: Thông tin về tỉ lệ đúng khi Commit của mỗi người đều có thể được xác định trong bảng passing_rate_frame"
   ]
  },
  {
   "attachments": {},
   "cell_type": "markdown",
   "id": "1b31d49a",
   "metadata": {},
   "source": []
  },
  {
   "attachments": {},
   "cell_type": "markdown",
   "id": "ef7f0d45",
   "metadata": {},
   "source": [
    "## Tìm độ khó xử lý của các file (tỉ lệ Fail test khi chỉnh sửa và commit file ấy)?"
   ]
  },
  {
   "cell_type": "code",
   "execution_count": 91,
   "id": "37ec93ac",
   "metadata": {},
   "outputs": [],
   "source": [
    "file_set\n",
    "file_fails = {}"
   ]
  },
  {
   "cell_type": "code",
   "execution_count": 92,
   "id": "2095bf33",
   "metadata": {},
   "outputs": [
    {
     "data": {
      "text/html": [
       "<div>\n",
       "<style scoped>\n",
       "    .dataframe tbody tr th:only-of-type {\n",
       "        vertical-align: middle;\n",
       "    }\n",
       "\n",
       "    .dataframe tbody tr th {\n",
       "        vertical-align: top;\n",
       "    }\n",
       "\n",
       "    .dataframe thead th {\n",
       "        text-align: right;\n",
       "    }\n",
       "</style>\n",
       "<table border=\"1\" class=\"dataframe\">\n",
       "  <thead>\n",
       "    <tr style=\"text-align: right;\">\n",
       "      <th></th>\n",
       "      <th>File Name</th>\n",
       "      <th>Failure rate</th>\n",
       "    </tr>\n",
       "  </thead>\n",
       "  <tbody>\n",
       "    <tr>\n",
       "      <th>0</th>\n",
       "      <td>trainers.rst</td>\n",
       "      <td>75.000000</td>\n",
       "    </tr>\n",
       "    <tr>\n",
       "      <th>1</th>\n",
       "      <td>dreamer_utils.py</td>\n",
       "      <td>40.000000</td>\n",
       "    </tr>\n",
       "    <tr>\n",
       "      <th>2</th>\n",
       "      <td>segment_tree.h</td>\n",
       "      <td>0.000000</td>\n",
       "    </tr>\n",
       "    <tr>\n",
       "      <th>3</th>\n",
       "      <td>cheetah_smoketest.txt</td>\n",
       "      <td>0.000000</td>\n",
       "    </tr>\n",
       "    <tr>\n",
       "      <th>4</th>\n",
       "      <td>ray.py</td>\n",
       "      <td>100.000000</td>\n",
       "    </tr>\n",
       "    <tr>\n",
       "      <th>5</th>\n",
       "      <td>pytorch-logo-flame.png</td>\n",
       "      <td>66.666667</td>\n",
       "    </tr>\n",
       "    <tr>\n",
       "      <th>6</th>\n",
       "      <td>common.py</td>\n",
       "      <td>31.386861</td>\n",
       "    </tr>\n",
       "    <tr>\n",
       "      <th>7</th>\n",
       "      <td>transformer.png</td>\n",
       "      <td>0.000000</td>\n",
       "    </tr>\n",
       "    <tr>\n",
       "      <th>8</th>\n",
       "      <td>test_specs.py</td>\n",
       "      <td>100.000000</td>\n",
       "    </tr>\n",
       "    <tr>\n",
       "      <th>9</th>\n",
       "      <td>csv.py</td>\n",
       "      <td>50.000000</td>\n",
       "    </tr>\n",
       "  </tbody>\n",
       "</table>\n",
       "</div>"
      ],
      "text/plain": [
       "                File Name  Failure rate\n",
       "0            trainers.rst     75.000000\n",
       "1        dreamer_utils.py     40.000000\n",
       "2          segment_tree.h      0.000000\n",
       "3   cheetah_smoketest.txt      0.000000\n",
       "4                  ray.py    100.000000\n",
       "5  pytorch-logo-flame.png     66.666667\n",
       "6               common.py     31.386861\n",
       "7         transformer.png      0.000000\n",
       "8           test_specs.py    100.000000\n",
       "9                  csv.py     50.000000"
      ]
     },
     "execution_count": 92,
     "metadata": {},
     "output_type": "execute_result"
    }
   ],
   "source": [
    "for file in file_set:\n",
    "    file_fails[file] = df[(df['Files Changed'].str.contains(file.strip(), case=False)) & (df['Passed all checks'] == False)].shape[0] / df[df['Files Changed'].str.contains(file.strip(), case=False)].shape[0] * 100\n",
    "\n",
    "file_fails\n",
    "file_fails_frame = pd.DataFrame(file_fails, index= range(1)).transpose().reset_index()\n",
    "file_fails_frame.columns = ['File Name', 'Failure rate']\n",
    "file_fails_frame.head(10)\n"
   ]
  },
  {
   "attachments": {},
   "cell_type": "markdown",
   "id": "235be272",
   "metadata": {},
   "source": [
    "### Trả lời: Tỉ lệ Fail khi Commit của từng file đều có thể được xác định trong bảng file_fails_frame"
   ]
  },
  {
   "attachments": {},
   "cell_type": "markdown",
   "id": "cb1ea306",
   "metadata": {},
   "source": []
  },
  {
   "attachments": {},
   "cell_type": "markdown",
   "id": "414fcddd",
   "metadata": {},
   "source": [
    "## Những file nào được sửa theo những mục đích nào nhiều nhất?"
   ]
  },
  {
   "attachments": {},
   "cell_type": "markdown",
   "id": "4873105d",
   "metadata": {},
   "source": [
    "### Method: Nhờ các câu hỏi phía trước, ta thu thập được thông tin về tên các file, cũng như các nội dung phổ biến trong Commit.\n",
    "### Nên chỉ cần kiểm tra từng hàng xem có nội dung commit nào tương ứng với các file nào."
   ]
  },
  {
   "attachments": {},
   "cell_type": "markdown",
   "id": "2ecc3699",
   "metadata": {},
   "source": [
    "Ví dụ: Các Commit với mục đích \"BugFix\" hướng nhiều nhất đến các file như \"transform.py\", \"collector.py\", ..."
   ]
  },
  {
   "attachments": {},
   "cell_type": "markdown",
   "id": "94f4bd74",
   "metadata": {},
   "source": [
    "### Đoạn dưới đây sẽ chạy mất chút thời gian, không phải do lỗi"
   ]
  },
  {
   "cell_type": "code",
   "execution_count": 93,
   "id": "78b96216",
   "metadata": {},
   "outputs": [],
   "source": [
    "magnum_opus = pd.DataFrame(index= file_set, columns= common_words)\n",
    "for index in range(0, len(df)):\n",
    "    for word in common_words:\n",
    "        if word in df.iloc[index]['Commit Message']:\n",
    "            for file in file_set:\n",
    "                if file in df.iloc[index]['Files Changed']:\n",
    "                    if pd.isna(magnum_opus.loc[file, word]):\n",
    "                        magnum_opus.loc[file, word] = 1\n",
    "                    else: \n",
    "                        magnum_opus.loc[file, word] += 1\n",
    "for word in common_words:\n",
    "     for file in file_set:\n",
    "         if pd.isna(magnum_opus.loc[file, word]):\n",
    "             magnum_opus.loc[file, word] = 0\n"
   ]
  },
  {
   "cell_type": "code",
   "execution_count": 94,
   "id": "46ef1100",
   "metadata": {},
   "outputs": [
    {
     "data": {
      "text/html": [
       "<div>\n",
       "<style scoped>\n",
       "    .dataframe tbody tr th:only-of-type {\n",
       "        vertical-align: middle;\n",
       "    }\n",
       "\n",
       "    .dataframe tbody tr th {\n",
       "        vertical-align: top;\n",
       "    }\n",
       "\n",
       "    .dataframe thead th {\n",
       "        text-align: right;\n",
       "    }\n",
       "</style>\n",
       "<table border=\"1\" class=\"dataframe\">\n",
       "  <thead>\n",
       "    <tr style=\"text-align: right;\">\n",
       "      <th></th>\n",
       "      <th>BugFix</th>\n",
       "      <th>Performance</th>\n",
       "      <th>Refactor</th>\n",
       "      <th>Feature</th>\n",
       "      <th>Doc</th>\n",
       "      <th>CI</th>\n",
       "      <th>Update</th>\n",
       "      <th>Merge</th>\n",
       "      <th>Versioning</th>\n",
       "      <th>Minor</th>\n",
       "      <th>Test</th>\n",
       "    </tr>\n",
       "  </thead>\n",
       "  <tbody>\n",
       "    <tr>\n",
       "      <th>trainers.rst</th>\n",
       "      <td>0</td>\n",
       "      <td>0</td>\n",
       "      <td>3</td>\n",
       "      <td>4</td>\n",
       "      <td>10</td>\n",
       "      <td>0</td>\n",
       "      <td>0</td>\n",
       "      <td>0</td>\n",
       "      <td>0</td>\n",
       "      <td>1</td>\n",
       "      <td>1</td>\n",
       "    </tr>\n",
       "    <tr>\n",
       "      <th>dreamer_utils.py</th>\n",
       "      <td>5</td>\n",
       "      <td>0</td>\n",
       "      <td>6</td>\n",
       "      <td>6</td>\n",
       "      <td>0</td>\n",
       "      <td>1</td>\n",
       "      <td>1</td>\n",
       "      <td>0</td>\n",
       "      <td>0</td>\n",
       "      <td>1</td>\n",
       "      <td>1</td>\n",
       "    </tr>\n",
       "    <tr>\n",
       "      <th>segment_tree.h</th>\n",
       "      <td>0</td>\n",
       "      <td>0</td>\n",
       "      <td>0</td>\n",
       "      <td>0</td>\n",
       "      <td>0</td>\n",
       "      <td>0</td>\n",
       "      <td>0</td>\n",
       "      <td>2</td>\n",
       "      <td>0</td>\n",
       "      <td>0</td>\n",
       "      <td>0</td>\n",
       "    </tr>\n",
       "    <tr>\n",
       "      <th>cheetah_smoketest.txt</th>\n",
       "      <td>1</td>\n",
       "      <td>0</td>\n",
       "      <td>1</td>\n",
       "      <td>1</td>\n",
       "      <td>0</td>\n",
       "      <td>0</td>\n",
       "      <td>0</td>\n",
       "      <td>0</td>\n",
       "      <td>0</td>\n",
       "      <td>0</td>\n",
       "      <td>0</td>\n",
       "    </tr>\n",
       "    <tr>\n",
       "      <th>ray.py</th>\n",
       "      <td>0</td>\n",
       "      <td>0</td>\n",
       "      <td>1</td>\n",
       "      <td>1</td>\n",
       "      <td>1</td>\n",
       "      <td>0</td>\n",
       "      <td>0</td>\n",
       "      <td>0</td>\n",
       "      <td>0</td>\n",
       "      <td>0</td>\n",
       "      <td>0</td>\n",
       "    </tr>\n",
       "    <tr>\n",
       "      <th>...</th>\n",
       "      <td>...</td>\n",
       "      <td>...</td>\n",
       "      <td>...</td>\n",
       "      <td>...</td>\n",
       "      <td>...</td>\n",
       "      <td>...</td>\n",
       "      <td>...</td>\n",
       "      <td>...</td>\n",
       "      <td>...</td>\n",
       "      <td>...</td>\n",
       "      <td>...</td>\n",
       "    </tr>\n",
       "    <tr>\n",
       "      <th>modules.rst</th>\n",
       "      <td>0</td>\n",
       "      <td>0</td>\n",
       "      <td>5</td>\n",
       "      <td>5</td>\n",
       "      <td>11</td>\n",
       "      <td>2</td>\n",
       "      <td>1</td>\n",
       "      <td>0</td>\n",
       "      <td>0</td>\n",
       "      <td>0</td>\n",
       "      <td>0</td>\n",
       "    </tr>\n",
       "    <tr>\n",
       "      <th>a2c_mujoco_halfcheetah.png</th>\n",
       "      <td>0</td>\n",
       "      <td>0</td>\n",
       "      <td>0</td>\n",
       "      <td>0</td>\n",
       "      <td>0</td>\n",
       "      <td>0</td>\n",
       "      <td>0</td>\n",
       "      <td>0</td>\n",
       "      <td>0</td>\n",
       "      <td>0</td>\n",
       "      <td>0</td>\n",
       "    </tr>\n",
       "    <tr>\n",
       "      <th>tensordict.py</th>\n",
       "      <td>17</td>\n",
       "      <td>0</td>\n",
       "      <td>8</td>\n",
       "      <td>24</td>\n",
       "      <td>1</td>\n",
       "      <td>1</td>\n",
       "      <td>3</td>\n",
       "      <td>2</td>\n",
       "      <td>0</td>\n",
       "      <td>0</td>\n",
       "      <td>3</td>\n",
       "    </tr>\n",
       "    <tr>\n",
       "      <th>run-clang-format.py</th>\n",
       "      <td>1</td>\n",
       "      <td>0</td>\n",
       "      <td>0</td>\n",
       "      <td>8</td>\n",
       "      <td>0</td>\n",
       "      <td>2</td>\n",
       "      <td>0</td>\n",
       "      <td>0</td>\n",
       "      <td>0</td>\n",
       "      <td>0</td>\n",
       "      <td>1</td>\n",
       "    </tr>\n",
       "    <tr>\n",
       "      <th>pytorch-logo-dark.png</th>\n",
       "      <td>0</td>\n",
       "      <td>0</td>\n",
       "      <td>0</td>\n",
       "      <td>0</td>\n",
       "      <td>6</td>\n",
       "      <td>0</td>\n",
       "      <td>0</td>\n",
       "      <td>0</td>\n",
       "      <td>0</td>\n",
       "      <td>0</td>\n",
       "      <td>0</td>\n",
       "    </tr>\n",
       "  </tbody>\n",
       "</table>\n",
       "<p>295 rows × 11 columns</p>\n",
       "</div>"
      ],
      "text/plain": [
       "                           BugFix Performance Refactor Feature Doc CI Update  \\\n",
       "trainers.rst                    0           0        3       4  10  0      0   \n",
       "dreamer_utils.py                5           0        6       6   0  1      1   \n",
       "segment_tree.h                  0           0        0       0   0  0      0   \n",
       "cheetah_smoketest.txt           1           0        1       1   0  0      0   \n",
       "ray.py                          0           0        1       1   1  0      0   \n",
       "...                           ...         ...      ...     ...  .. ..    ...   \n",
       "modules.rst                     0           0        5       5  11  2      1   \n",
       "a2c_mujoco_halfcheetah.png      0           0        0       0   0  0      0   \n",
       "tensordict.py                  17           0        8      24   1  1      3   \n",
       "run-clang-format.py             1           0        0       8   0  2      0   \n",
       "pytorch-logo-dark.png           0           0        0       0   6  0      0   \n",
       "\n",
       "                           Merge Versioning Minor Test  \n",
       "trainers.rst                   0          0     1    1  \n",
       "dreamer_utils.py               0          0     1    1  \n",
       "segment_tree.h                 2          0     0    0  \n",
       "cheetah_smoketest.txt          0          0     0    0  \n",
       "ray.py                         0          0     0    0  \n",
       "...                          ...        ...   ...  ...  \n",
       "modules.rst                    0          0     0    0  \n",
       "a2c_mujoco_halfcheetah.png     0          0     0    0  \n",
       "tensordict.py                  2          0     0    3  \n",
       "run-clang-format.py            0          0     0    1  \n",
       "pytorch-logo-dark.png          0          0     0    0  \n",
       "\n",
       "[295 rows x 11 columns]"
      ]
     },
     "execution_count": 94,
     "metadata": {},
     "output_type": "execute_result"
    }
   ],
   "source": [
    "magnum_opus"
   ]
  },
  {
   "attachments": {},
   "cell_type": "markdown",
   "id": "f5aad377",
   "metadata": {},
   "source": [
    "## Sau khi có dataFrame cần thiết, muốn biết file nào được chỉnh với nội dung nào nhiều nhất, chỉ cần điền nội dung đó vào ô by=' ' "
   ]
  },
  {
   "cell_type": "code",
   "execution_count": 95,
   "id": "a6726d4f",
   "metadata": {},
   "outputs": [
    {
     "data": {
      "text/html": [
       "<div>\n",
       "<style scoped>\n",
       "    .dataframe tbody tr th:only-of-type {\n",
       "        vertical-align: middle;\n",
       "    }\n",
       "\n",
       "    .dataframe tbody tr th {\n",
       "        vertical-align: top;\n",
       "    }\n",
       "\n",
       "    .dataframe thead th {\n",
       "        text-align: right;\n",
       "    }\n",
       "</style>\n",
       "<table border=\"1\" class=\"dataframe\">\n",
       "  <thead>\n",
       "    <tr style=\"text-align: right;\">\n",
       "      <th></th>\n",
       "      <th>BugFix</th>\n",
       "      <th>Performance</th>\n",
       "      <th>Refactor</th>\n",
       "      <th>Feature</th>\n",
       "      <th>Doc</th>\n",
       "      <th>CI</th>\n",
       "      <th>Update</th>\n",
       "      <th>Merge</th>\n",
       "      <th>Versioning</th>\n",
       "      <th>Minor</th>\n",
       "      <th>Test</th>\n",
       "    </tr>\n",
       "  </thead>\n",
       "  <tbody>\n",
       "    <tr>\n",
       "      <th>transforms.py</th>\n",
       "      <td>47</td>\n",
       "      <td>0</td>\n",
       "      <td>27</td>\n",
       "      <td>47</td>\n",
       "      <td>6</td>\n",
       "      <td>4</td>\n",
       "      <td>3</td>\n",
       "      <td>0</td>\n",
       "      <td>0</td>\n",
       "      <td>3</td>\n",
       "      <td>4</td>\n",
       "    </tr>\n",
       "    <tr>\n",
       "      <th>collectors.py</th>\n",
       "      <td>33</td>\n",
       "      <td>0</td>\n",
       "      <td>19</td>\n",
       "      <td>25</td>\n",
       "      <td>6</td>\n",
       "      <td>7</td>\n",
       "      <td>5</td>\n",
       "      <td>0</td>\n",
       "      <td>0</td>\n",
       "      <td>5</td>\n",
       "      <td>0</td>\n",
       "    </tr>\n",
       "    <tr>\n",
       "      <th>common.py</th>\n",
       "      <td>31</td>\n",
       "      <td>0</td>\n",
       "      <td>26</td>\n",
       "      <td>41</td>\n",
       "      <td>8</td>\n",
       "      <td>4</td>\n",
       "      <td>6</td>\n",
       "      <td>1</td>\n",
       "      <td>0</td>\n",
       "      <td>5</td>\n",
       "      <td>3</td>\n",
       "    </tr>\n",
       "    <tr>\n",
       "      <th>utils.py</th>\n",
       "      <td>24</td>\n",
       "      <td>4</td>\n",
       "      <td>30</td>\n",
       "      <td>43</td>\n",
       "      <td>8</td>\n",
       "      <td>7</td>\n",
       "      <td>4</td>\n",
       "      <td>0</td>\n",
       "      <td>0</td>\n",
       "      <td>2</td>\n",
       "      <td>2</td>\n",
       "    </tr>\n",
       "    <tr>\n",
       "      <th>test_transforms.py</th>\n",
       "      <td>22</td>\n",
       "      <td>0</td>\n",
       "      <td>16</td>\n",
       "      <td>39</td>\n",
       "      <td>1</td>\n",
       "      <td>2</td>\n",
       "      <td>3</td>\n",
       "      <td>0</td>\n",
       "      <td>0</td>\n",
       "      <td>2</td>\n",
       "      <td>4</td>\n",
       "    </tr>\n",
       "    <tr>\n",
       "      <th>...</th>\n",
       "      <td>...</td>\n",
       "      <td>...</td>\n",
       "      <td>...</td>\n",
       "      <td>...</td>\n",
       "      <td>...</td>\n",
       "      <td>...</td>\n",
       "      <td>...</td>\n",
       "      <td>...</td>\n",
       "      <td>...</td>\n",
       "      <td>...</td>\n",
       "      <td>...</td>\n",
       "    </tr>\n",
       "    <tr>\n",
       "      <th>.clang-format</th>\n",
       "      <td>0</td>\n",
       "      <td>0</td>\n",
       "      <td>0</td>\n",
       "      <td>0</td>\n",
       "      <td>0</td>\n",
       "      <td>0</td>\n",
       "      <td>0</td>\n",
       "      <td>0</td>\n",
       "      <td>0</td>\n",
       "      <td>0</td>\n",
       "      <td>0</td>\n",
       "    </tr>\n",
       "    <tr>\n",
       "      <th>_extension.py</th>\n",
       "      <td>0</td>\n",
       "      <td>0</td>\n",
       "      <td>0</td>\n",
       "      <td>1</td>\n",
       "      <td>0</td>\n",
       "      <td>0</td>\n",
       "      <td>0</td>\n",
       "      <td>0</td>\n",
       "      <td>0</td>\n",
       "      <td>0</td>\n",
       "      <td>0</td>\n",
       "    </tr>\n",
       "    <tr>\n",
       "      <th>rl_template.rst</th>\n",
       "      <td>0</td>\n",
       "      <td>0</td>\n",
       "      <td>0</td>\n",
       "      <td>0</td>\n",
       "      <td>0</td>\n",
       "      <td>0</td>\n",
       "      <td>0</td>\n",
       "      <td>0</td>\n",
       "      <td>0</td>\n",
       "      <td>0</td>\n",
       "      <td>0</td>\n",
       "    </tr>\n",
       "    <tr>\n",
       "      <th>pytorch-logo-dark.svg</th>\n",
       "      <td>0</td>\n",
       "      <td>0</td>\n",
       "      <td>0</td>\n",
       "      <td>0</td>\n",
       "      <td>6</td>\n",
       "      <td>0</td>\n",
       "      <td>0</td>\n",
       "      <td>0</td>\n",
       "      <td>0</td>\n",
       "      <td>0</td>\n",
       "      <td>0</td>\n",
       "    </tr>\n",
       "    <tr>\n",
       "      <th>pytorch-logo-dark.png</th>\n",
       "      <td>0</td>\n",
       "      <td>0</td>\n",
       "      <td>0</td>\n",
       "      <td>0</td>\n",
       "      <td>6</td>\n",
       "      <td>0</td>\n",
       "      <td>0</td>\n",
       "      <td>0</td>\n",
       "      <td>0</td>\n",
       "      <td>0</td>\n",
       "      <td>0</td>\n",
       "    </tr>\n",
       "  </tbody>\n",
       "</table>\n",
       "<p>295 rows × 11 columns</p>\n",
       "</div>"
      ],
      "text/plain": [
       "                      BugFix Performance Refactor Feature Doc CI Update Merge  \\\n",
       "transforms.py             47           0       27      47   6  4      3     0   \n",
       "collectors.py             33           0       19      25   6  7      5     0   \n",
       "common.py                 31           0       26      41   8  4      6     1   \n",
       "utils.py                  24           4       30      43   8  7      4     0   \n",
       "test_transforms.py        22           0       16      39   1  2      3     0   \n",
       "...                      ...         ...      ...     ...  .. ..    ...   ...   \n",
       " .clang-format             0           0        0       0   0  0      0     0   \n",
       "_extension.py              0           0        0       1   0  0      0     0   \n",
       "rl_template.rst            0           0        0       0   0  0      0     0   \n",
       "pytorch-logo-dark.svg      0           0        0       0   6  0      0     0   \n",
       "pytorch-logo-dark.png      0           0        0       0   6  0      0     0   \n",
       "\n",
       "                      Versioning Minor Test  \n",
       "transforms.py                  0     3    4  \n",
       "collectors.py                  0     5    0  \n",
       "common.py                      0     5    3  \n",
       "utils.py                       0     2    2  \n",
       "test_transforms.py             0     2    4  \n",
       "...                          ...   ...  ...  \n",
       " .clang-format                 0     0    0  \n",
       "_extension.py                  0     0    0  \n",
       "rl_template.rst                0     0    0  \n",
       "pytorch-logo-dark.svg          0     0    0  \n",
       "pytorch-logo-dark.png          0     0    0  \n",
       "\n",
       "[295 rows x 11 columns]"
      ]
     },
     "execution_count": 95,
     "metadata": {},
     "output_type": "execute_result"
    }
   ],
   "source": [
    "magnum_opus.sort_values(by='BugFix', ascending=False)"
   ]
  },
  {
   "attachments": {},
   "cell_type": "markdown",
   "id": "e4dcc595",
   "metadata": {},
   "source": [
    "Các Commit với mục đích \"BugFix\" hướng nhiều nhất đến các file như \"transform.py\", \"collector.py\", ...\n",
    "\n",
    "Các Commit với mục đích \"Performance\" hướng nhiều nhất đến các file như \"functional.py\", \"utils.py\", ...\n",
    "\n",
    "Các Commit với mục đích \"Refactor\" hướng nhiều nhất đến các file như \"utils.py\", \"transforms.py\", ...\n",
    "\n",
    ". . ."
   ]
  },
  {
   "attachments": {},
   "cell_type": "markdown",
   "id": "42df422a",
   "metadata": {},
   "source": [
    "# Data Visualization"
   ]
  },
  {
   "attachments": {},
   "cell_type": "markdown",
   "id": "35eddab4",
   "metadata": {},
   "source": [
    "## Who are the most active contributors?"
   ]
  },
  {
   "cell_type": "code",
   "execution_count": 96,
   "id": "9c45dddd",
   "metadata": {},
   "outputs": [
    {
     "data": {
      "image/png": "[encoded data removed]",
      "text/plain": [
       "<Figure size 640x480 with 1 Axes>"
      ]
     },
     "metadata": {},
     "output_type": "display_data"
    }
   ],
   "source": [
    "ax = active_contributor.plot(kind='box')\n",
    "\n",
    "ax.set_title('Commit number per person distribution')\n",
    "plt.show()"
   ]
  },
  {
   "attachments": {},
   "cell_type": "markdown",
   "id": "f2a0d194",
   "metadata": {},
   "source": [
    "## What is the frequency of commits?"
   ]
  },
  {
   "cell_type": "code",
   "execution_count": 97,
   "id": "467cbb02",
   "metadata": {},
   "outputs": [
    {
     "data": {
      "image/png": "[encoded data removed]",
      "text/plain": [
       "<Figure size 613.611x500 with 1 Axes>"
      ]
     },
     "metadata": {},
     "output_type": "display_data"
    }
   ],
   "source": [
    "ax = sns.catplot(data= commit_frequency, x= 'Commit Year', y= 'Number of Commits', hue= 'Commit Month', kind= 'bar', palette='tab10')\n",
    "\n",
    "\n",
    "ax.set_axis_labels('Year', 'Number of Commits')\n",
    "ax.fig.suptitle('Commit Frequency')\n",
    "plt.show()"
   ]
  },
  {
   "attachments": {},
   "cell_type": "markdown",
   "id": "c575a7fa",
   "metadata": {},
   "source": [
    "## Nội dung chủ yếu của các Commit Message?"
   ]
  },
  {
   "cell_type": "code",
   "execution_count": 98,
   "id": "acd10584",
   "metadata": {},
   "outputs": [
    {
     "data": {
      "image/png": "[encoded data removed]",
      "text/plain": [
       "<Figure size 1000x500 with 1 Axes>"
      ]
     },
     "metadata": {},
     "output_type": "display_data"
    }
   ],
   "source": [
    "ax = word_plot.plot(x='Word', y='Number of Messages', figsize=(10, 5), kind='bar')\n",
    "\n",
    "\n",
    "ax.set_xlabel(\"Common words\")\n",
    "ax.set_ylabel(\"Number of appearence\")\n",
    "ax.set_title(\"Most frequent Commit Message description\")\n",
    "\n",
    "\n",
    "plt.xticks(rotation = 45)\n",
    "plt.show()"
   ]
  },
  {
   "attachments": {},
   "cell_type": "markdown",
   "id": "7db5419b",
   "metadata": {},
   "source": [
    "## What files are most frequently changed?"
   ]
  },
  {
   "cell_type": "code",
   "execution_count": 99,
   "id": "9dac783e",
   "metadata": {},
   "outputs": [
    {
     "data": {
      "image/png": "[encoded data removed]",
      "text/plain": [
       "<Figure size 2000x1000 with 1 Axes>"
      ]
     },
     "metadata": {},
     "output_type": "display_data"
    }
   ],
   "source": [
    "file_plot = pd.DataFrame(file_dict, index= range(1)).transpose().reset_index()\n",
    "file_plot.columns = ['File Name', 'Edited times']\n",
    "\n",
    "file_plot = file_plot[file_plot['Edited times'] >= 50]\n",
    "\n",
    "\n",
    "ax = file_plot.plot(x= 'File Name', y= 'Edited times', kind= 'bar', figsize=(20, 10))\n",
    "\n",
    "plt.xticks(rotation=45)\n",
    "ax.set_xlabel(\"File name\")\n",
    "ax.set_ylabel(\"Edited times\")\n",
    "ax.set_title(\"File frequency\")\n",
    "plt.show()"
   ]
  },
  {
   "cell_type": "code",
   "execution_count": null,
   "id": "0dde4dd0",
   "metadata": {},
   "outputs": [],
   "source": []
  },
  {
   "attachments": {},
   "cell_type": "markdown",
   "id": "6d6b0659",
   "metadata": {},
   "source": [
    "# Interpretation & Conclusion"
   ]
  },
  {
   "attachments": {},
   "cell_type": "markdown",
   "id": "fdbc11f1",
   "metadata": {},
   "source": [
    "- Repository trên được phát triển khá độc lập, bởi gần như duy nhất 1 người là Vincent Moens, được cho thấy thông qua độ chênh lệch mạnh ở số lần Commit (dataFrame active_contributor)\n",
    "- Tìm hiểu sâu hơn, ta tìm được info của người này (https://www.linkedin.com/in/vincent-moens-9bb91972/), ông là 1 TorchRL Developer (repo được sử dụng trong bài có tên là RL và chủ repo là pyTorch)\n",
    "=> Repo này đã được giao cho Vincent Moens phát triển."
   ]
  },
  {
   "attachments": {},
   "cell_type": "markdown",
   "id": "76cb8060",
   "metadata": {},
   "source": [
    "- Repository trên hoạt động khá thường xuyên. Một trong những lý do khả thi cho khẳng định trên là để tạo thêm tiến độ cho việc release TorchRL phiên bản Beta và bản 2.0 của PyTorch (https://twitter.com/torchrl1/status/1636477654927900677?cxt=HHwWioC8jbfw97UtAAAA)"
   ]
  },
  {
   "attachments": {},
   "cell_type": "markdown",
   "id": "3f2b6b1c",
   "metadata": {},
   "source": [
    "- Việc các từ khóa xuất hiện nhiều nhất trong Commit Message là \"BugFix\", \"Feature\" và \"Doc\" khẳng định thêm rằng TorchRL đang trong giai đoạn phát triển => Việc sửa lỗi nhiều và thêm nhiều các tính năng là thường thấy."
   ]
  },
  {
   "attachments": {},
   "cell_type": "markdown",
   "id": "1d55167b",
   "metadata": {},
   "source": [
    "- Kết hợp thông tin từ các bảng file_dict_frame (Số lần được chỉnh sửa của các file),\n",
    " file_fails_frame (khả năng fail testcases khi chỉnh sửa các file nhất định),\n",
    "  và magnum_opus (các file được sửa nhiều nhất theo các mục đích khác nhau):\n",
    "\n",
    "  Các file được chỉnh sửa nhiều nhất đều có tỉ lệ khiến Fail test dưới 50%\n",
    "\n",
    "  Các file được chỉnh sửa với mục đích FixBug và Refactor nhiều nhất đều hướng đến các file được chỉnh sửa nhiều nhất\n",
    "\n",
    "  => Các file như \"transforms.py\", \"collectors.py\", \"utils.py\" là các file được phát triển và sửa chữa với cường độ lớn nhất\n"
   ]
  },
  {
   "attachments": {},
   "cell_type": "markdown",
   "id": "a159b8ab",
   "metadata": {},
   "source": []
  }
 ],
 "metadata": {
  "kernelspec": {
   "display_name": "Python 3 (ipykernel)",
   "language": "python",
   "name": "python3"
  },
  "language_info": {
   "codemirror_mode": {
    "name": "ipython",
    "version": 3
   },
   "file_extension": ".py",
   "mimetype": "text/x-python",
   "name": "python",
   "nbconvert_exporter": "python",
   "pygments_lexer": "ipython3",
   "version": "3.10.10"
  }
 },
 "nbformat": 4,
 "nbformat_minor": 5
}
