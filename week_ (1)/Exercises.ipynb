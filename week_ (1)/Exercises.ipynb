{
  "cells": [
    {
      "cell_type": "markdown",
      "metadata": {
        "id": "siAKLjXxwZsY"
      },
      "source": [
        "![rmotr](https://user-images.githubusercontent.com/7065401/52071918-bda15380-2562-11e9-828c-7f95297e4a82.png)\n",
        "<hr style=\"margin-bottom: 40px;\">\n",
        "\n",
        "# Exercises\n",
        "\n",
        "This is a quick demonstration of how exercises work on [Notebooks.ai](https://notebooks.ai)."
      ]
    },
    {
      "cell_type": "markdown",
      "metadata": {
        "id": "b7R7pt41wZsc"
      },
      "source": [
        "![green-divider](https://user-images.githubusercontent.com/7065401/52071924-c003ad80-2562-11e9-8297-1c6595f8a7ff.png)\n",
        "\n",
        "### Example 1: Solve the add function\n",
        "\n",
        "Complete the code of the function `add`, that receives 2 numbers and should return the sum of them:"
      ]
    },
    {
      "cell_type": "code",
      "execution_count": null,
      "metadata": {
        "id": "Wzpk3HFTwZsc"
      },
      "outputs": [],
      "source": [
        "def add(x, y):\n",
        "    return x+y"
      ]
    },
    {
      "cell_type": "markdown",
      "metadata": {
        "id": "rxyk765IwZsd"
      },
      "source": [
        "Test your code here"
      ]
    },
    {
      "cell_type": "code",
      "execution_count": null,
      "metadata": {
        "id": "gyGGmfRkwZse"
      },
      "outputs": [],
      "source": [
        "assert add(1, 2) == 3\n",
        "assert add(2, 2) == 4"
      ]
    },
    {
      "cell_type": "markdown",
      "metadata": {
        "cell_type": "hint",
        "id": "lRcqOZ0kwZse"
      },
      "source": [
        "You can use the `+` operator to sum numbers."
      ]
    },
    {
      "cell_type": "markdown",
      "metadata": {
        "id": "J6PNwKRmwZse"
      },
      "source": [
        "![purple-divider](https://user-images.githubusercontent.com/7065401/52071927-c1cd7100-2562-11e9-908a-dde91ba14e59.png)"
      ]
    }
  ],
  "metadata": {
    "colab": {
      "provenance": []
    },
    "kernelspec": {
      "display_name": "Python 3",
      "language": "python",
      "name": "python3"
    },
    "language_info": {
      "codemirror_mode": {
        "name": "ipython",
        "version": 3
      },
      "file_extension": ".py",
      "mimetype": "text/x-python",
      "name": "python",
      "nbconvert_exporter": "python",
      "pygments_lexer": "ipython3",
      "version": "3.8.16"
    }
  },
  "nbformat": 4,
  "nbformat_minor": 0
}
