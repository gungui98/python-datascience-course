{
 "cells": [
  {
   "cell_type": "markdown",
   "metadata": {},
   "source": [
    "![rmotr](https://user-images.githubusercontent.com/7065401/52071918-bda15380-2562-11e9-828c-7f95297e4a82.png)\n",
    "<hr style=\"margin-bottom: 40px;\">\n",
    "\n",
    "# Exercises\n",
    "## The Sakila Database\n",
    "\n",
    "One of the best example databases out there is the <a href=\"https://dev.mysql.com/doc/sakila/en/\">Sakila Database</a>, which was originally created by MySQL and has been open sourced under the terms of the BSD License.\n",
    "\n",
    "The Sakila database is a nicely normalised schema modelling a DVD rental store, featuring things like films, actors, film-actor relationships, and a central inventory table that connects films, stores, and rentals.\n",
    "\n",
    "<img width=\"1200px\" src=\"https://user-images.githubusercontent.com/7065401/58504872-fa243b00-8161-11e9-85ed-4b7d8d7ce9f7.png\" />"
   ]
  },
  {
   "cell_type": "markdown",
   "metadata": {},
   "source": [
    "![purple-divider](https://user-images.githubusercontent.com/7065401/52071927-c1cd7100-2562-11e9-908a-dde91ba14e59.png)\n",
    "\n",
    "## Hands on! "
   ]
  },
  {
   "cell_type": "code",
   "execution_count": 2,
   "metadata": {},
   "outputs": [],
   "source": [
    "import numpy as np\n",
    "import pandas as pd\n",
    "import matplotlib.pyplot as plt\n",
    "import sqlite3\n",
    "\n",
    "%matplotlib inline"
   ]
  },
  {
   "cell_type": "code",
   "execution_count": 5,
   "metadata": {},
   "outputs": [],
   "source": [
    "conn = sqlite3.connect('data/sakila.db')\n",
    "\n",
    "df = pd.read_sql('''\n",
    "    SELECT\n",
    "        rental.rental_id, rental.rental_date, rental.return_date,\n",
    "        customer.last_name AS customer_lastname,\n",
    "        store.store_id,\n",
    "        city.city AS rental_store_city,\n",
    "        film.title AS film_title, film.rental_duration AS film_rental_duration,\n",
    "        film.rental_rate AS film_rental_rate, film.replacement_cost AS film_replacement_cost,\n",
    "        film.rating AS film_rating\n",
    "    FROM rental\n",
    "    INNER JOIN customer ON rental.customer_id == customer.customer_id\n",
    "    INNER JOIN inventory ON rental.inventory_id == inventory.inventory_id\n",
    "    INNER JOIN store ON inventory.store_id == store.store_id\n",
    "    INNER JOIN address ON store.address_id == address.address_id\n",
    "    INNER JOIN city ON address.city_id == city.city_id\n",
    "    INNER JOIN film ON inventory.film_id == film.film_id\n",
    "    ;\n",
    "''', conn, index_col='rental_id', parse_dates=['rental_date', 'return_date'])"
   ]
  },
  {
   "cell_type": "code",
   "execution_count": 6,
   "metadata": {},
   "outputs": [
    {
     "data": {
      "text/html": [
       "<div>\n",
       "<style scoped>\n",
       "    .dataframe tbody tr th:only-of-type {\n",
       "        vertical-align: middle;\n",
       "    }\n",
       "\n",
       "    .dataframe tbody tr th {\n",
       "        vertical-align: top;\n",
       "    }\n",
       "\n",
       "    .dataframe thead th {\n",
       "        text-align: right;\n",
       "    }\n",
       "</style>\n",
       "<table border=\"1\" class=\"dataframe\">\n",
       "  <thead>\n",
       "    <tr style=\"text-align: right;\">\n",
       "      <th></th>\n",
       "      <th>rental_date</th>\n",
       "      <th>return_date</th>\n",
       "      <th>customer_lastname</th>\n",
       "      <th>store_id</th>\n",
       "      <th>rental_store_city</th>\n",
       "      <th>film_title</th>\n",
       "      <th>film_rental_duration</th>\n",
       "      <th>film_rental_rate</th>\n",
       "      <th>film_replacement_cost</th>\n",
       "      <th>film_rating</th>\n",
       "    </tr>\n",
       "    <tr>\n",
       "      <th>rental_id</th>\n",
       "      <th></th>\n",
       "      <th></th>\n",
       "      <th></th>\n",
       "      <th></th>\n",
       "      <th></th>\n",
       "      <th></th>\n",
       "      <th></th>\n",
       "      <th></th>\n",
       "      <th></th>\n",
       "      <th></th>\n",
       "    </tr>\n",
       "  </thead>\n",
       "  <tbody>\n",
       "    <tr>\n",
       "      <th>1</th>\n",
       "      <td>2005-05-24 22:53:30</td>\n",
       "      <td>2005-05-26 22:04:30</td>\n",
       "      <td>HUNTER</td>\n",
       "      <td>1</td>\n",
       "      <td>Lethbridge</td>\n",
       "      <td>BLANKET BEVERLY</td>\n",
       "      <td>7</td>\n",
       "      <td>2.99</td>\n",
       "      <td>21.99</td>\n",
       "      <td>G</td>\n",
       "    </tr>\n",
       "    <tr>\n",
       "      <th>2</th>\n",
       "      <td>2005-05-24 22:54:33</td>\n",
       "      <td>2005-05-28 19:40:33</td>\n",
       "      <td>COLLAZO</td>\n",
       "      <td>2</td>\n",
       "      <td>Woodridge</td>\n",
       "      <td>FREAKY POCUS</td>\n",
       "      <td>7</td>\n",
       "      <td>2.99</td>\n",
       "      <td>16.99</td>\n",
       "      <td>R</td>\n",
       "    </tr>\n",
       "    <tr>\n",
       "      <th>3</th>\n",
       "      <td>2005-05-24 23:03:39</td>\n",
       "      <td>2005-06-01 22:12:39</td>\n",
       "      <td>MURRELL</td>\n",
       "      <td>2</td>\n",
       "      <td>Woodridge</td>\n",
       "      <td>GRADUATE LORD</td>\n",
       "      <td>7</td>\n",
       "      <td>2.99</td>\n",
       "      <td>14.99</td>\n",
       "      <td>G</td>\n",
       "    </tr>\n",
       "    <tr>\n",
       "      <th>4</th>\n",
       "      <td>2005-05-24 23:04:41</td>\n",
       "      <td>2005-06-03 01:43:41</td>\n",
       "      <td>PURDY</td>\n",
       "      <td>1</td>\n",
       "      <td>Lethbridge</td>\n",
       "      <td>LOVE SUICIDES</td>\n",
       "      <td>6</td>\n",
       "      <td>0.99</td>\n",
       "      <td>21.99</td>\n",
       "      <td>R</td>\n",
       "    </tr>\n",
       "    <tr>\n",
       "      <th>5</th>\n",
       "      <td>2005-05-24 23:05:21</td>\n",
       "      <td>2005-06-02 04:33:21</td>\n",
       "      <td>HANSEN</td>\n",
       "      <td>2</td>\n",
       "      <td>Woodridge</td>\n",
       "      <td>IDOLS SNATCHERS</td>\n",
       "      <td>5</td>\n",
       "      <td>2.99</td>\n",
       "      <td>29.99</td>\n",
       "      <td>NC-17</td>\n",
       "    </tr>\n",
       "  </tbody>\n",
       "</table>\n",
       "</div>"
      ],
      "text/plain": [
       "                  rental_date         return_date customer_lastname  store_id  \\\n",
       "rental_id                                                                       \n",
       "1         2005-05-24 22:53:30 2005-05-26 22:04:30            HUNTER         1   \n",
       "2         2005-05-24 22:54:33 2005-05-28 19:40:33           COLLAZO         2   \n",
       "3         2005-05-24 23:03:39 2005-06-01 22:12:39           MURRELL         2   \n",
       "4         2005-05-24 23:04:41 2005-06-03 01:43:41             PURDY         1   \n",
       "5         2005-05-24 23:05:21 2005-06-02 04:33:21            HANSEN         2   \n",
       "\n",
       "          rental_store_city       film_title  film_rental_duration  \\\n",
       "rental_id                                                            \n",
       "1                Lethbridge  BLANKET BEVERLY                     7   \n",
       "2                 Woodridge     FREAKY POCUS                     7   \n",
       "3                 Woodridge    GRADUATE LORD                     7   \n",
       "4                Lethbridge    LOVE SUICIDES                     6   \n",
       "5                 Woodridge  IDOLS SNATCHERS                     5   \n",
       "\n",
       "           film_rental_rate  film_replacement_cost film_rating  \n",
       "rental_id                                                       \n",
       "1                      2.99                  21.99           G  \n",
       "2                      2.99                  16.99           R  \n",
       "3                      2.99                  14.99           G  \n",
       "4                      0.99                  21.99           R  \n",
       "5                      2.99                  29.99       NC-17  "
      ]
     },
     "execution_count": 6,
     "metadata": {},
     "output_type": "execute_result"
    }
   ],
   "source": [
    "df.head()"
   ]
  },
  {
   "cell_type": "markdown",
   "metadata": {},
   "source": [
    "![green-divider](https://user-images.githubusercontent.com/7065401/52071924-c003ad80-2562-11e9-8297-1c6595f8a7ff.png)\n",
    "\n",
    "### What's the mean of `film_rental_duration`?"
   ]
  },
  {
   "cell_type": "code",
   "execution_count": 7,
   "metadata": {},
   "outputs": [
    {
     "data": {
      "text/plain": [
       "4.935489902767389"
      ]
     },
     "execution_count": 7,
     "metadata": {},
     "output_type": "execute_result"
    }
   ],
   "source": [
    "# your code goes here\n",
    "df[\"film_rental_duration\"].mean()"
   ]
  },
  {
   "cell_type": "code",
   "execution_count": null,
   "metadata": {
    "cell_type": "solution"
   },
   "outputs": [],
   "source": []
  },
  {
   "cell_type": "markdown",
   "metadata": {},
   "source": [
    "![green-divider](https://user-images.githubusercontent.com/7065401/52071924-c003ad80-2562-11e9-8297-1c6595f8a7ff.png)\n",
    "\n",
    "### What's the most common rental duration?\n",
    "\n",
    "Show a <b>bar plot</b> with all the durations."
   ]
  },
  {
   "cell_type": "code",
   "execution_count": 8,
   "metadata": {},
   "outputs": [
    {
     "data": {
      "text/plain": [
       "3"
      ]
     },
     "execution_count": 8,
     "metadata": {},
     "output_type": "execute_result"
    }
   ],
   "source": [
    "# your code goes here\n",
    "df[\"film_rental_duration\"].mode()[0]"
   ]
  },
  {
   "cell_type": "code",
   "execution_count": 9,
   "metadata": {
    "cell_type": "solution"
   },
   "outputs": [
    {
     "data": {
      "text/plain": [
       "<AxesSubplot:>"
      ]
     },
     "execution_count": 9,
     "metadata": {},
     "output_type": "execute_result"
    },
    {
     "data": {
      "image/png": "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\n",
      "text/plain": [
       "<Figure size 432x288 with 1 Axes>"
      ]
     },
     "metadata": {
      "needs_background": "light"
     },
     "output_type": "display_data"
    }
   ],
   "source": [
    "df[\"film_rental_duration\"].value_counts().plot(kind=\"bar\")"
   ]
  },
  {
   "cell_type": "markdown",
   "metadata": {},
   "source": [
    "![green-divider](https://user-images.githubusercontent.com/7065401/52071924-c003ad80-2562-11e9-8297-1c6595f8a7ff.png)\n",
    "\n",
    "### What is the most common rental rate?\n",
    "\n",
    "- Show a <b>pie plot</b> with all possible rental rates.\n",
    "- Show a <b>bar plot</b> with all possible rental rates.\n",
    "- Which plot you think fits the best in this case? Why?"
   ]
  },
  {
   "cell_type": "code",
<<<<<<< HEAD
   "execution_count": 10,
=======
   "execution_count": 7,
>>>>>>> 3b6ca04 (merge week)
   "metadata": {},
   "outputs": [
    {
     "data": {
      "text/plain": [
       "0.99    5652\n",
       "4.99    5272\n",
       "2.99    5120\n",
       "Name: film_rental_rate, dtype: int64"
      ]
     },
     "execution_count": 10,
     "metadata": {},
     "output_type": "execute_result"
    }
   ],
   "source": [
    "# your code goes here\n",
    "df[\"film_rental_rate\"].value_counts()"
   ]
  },
  {
   "cell_type": "code",
   "execution_count": null,
   "metadata": {
    "cell_type": "solution"
   },
   "outputs": [],
   "source": []
  },
  {
   "cell_type": "code",
<<<<<<< HEAD
   "execution_count": 11,
=======
   "execution_count": 8,
>>>>>>> 3b6ca04 (merge week)
   "metadata": {},
   "outputs": [
    {
     "data": {
      "text/plain": [
       "<AxesSubplot:ylabel='film_rental_rate'>"
      ]
     },
<<<<<<< HEAD
     "execution_count": 11,
=======
     "execution_count": 8,
>>>>>>> 3b6ca04 (merge week)
     "metadata": {},
     "output_type": "execute_result"
    },
    {
     "data": {
      "image/png": "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\n",
      "text/plain": [
       "<Figure size 432x288 with 1 Axes>"
      ]
     },
     "metadata": {},
     "output_type": "display_data"
    }
   ],
   "source": [
    "# your code goes here\n",
    "df[\"film_rental_rate\"].value_counts().plot(kind=\"pie\")"
   ]
  },
  {
   "cell_type": "code",
<<<<<<< HEAD
   "execution_count": 12,
=======
   "execution_count": 9,
>>>>>>> 3b6ca04 (merge week)
   "metadata": {
    "cell_type": "solution"
   },
   "outputs": [
    {
     "data": {
      "text/plain": [
       "<AxesSubplot:>"
      ]
     },
<<<<<<< HEAD
     "execution_count": 12,
=======
     "execution_count": 9,
>>>>>>> 3b6ca04 (merge week)
     "metadata": {},
     "output_type": "execute_result"
    },
    {
     "data": {
      "image/png": "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\n",
      "text/plain": [
       "<Figure size 432x288 with 1 Axes>"
      ]
     },
     "metadata": {
      "needs_background": "light"
     },
     "output_type": "display_data"
    }
   ],
   "source": [
    "df[\"film_rental_rate\"].value_counts().plot(kind=\"bar\")"
   ]
  },
  {
   "cell_type": "markdown",
   "metadata": {},
   "source": [
    "![green-divider](https://user-images.githubusercontent.com/7065401/52071924-c003ad80-2562-11e9-8297-1c6595f8a7ff.png)\n",
    "\n",
    "### How is the replacement cost distributed?\n",
    "\n",
    "- Show a <b>box plot</b> of the replacement costs.\n",
    "- Show a <b>density plot</b> of the replacement costs.\n",
    "- Add a red line on the <b>mean</b>.\n",
    "- Add a green line on the median <b>median</b>."
   ]
  },
  {
   "cell_type": "code",
<<<<<<< HEAD
   "execution_count": 13,
=======
   "execution_count": 10,
>>>>>>> 3b6ca04 (merge week)
   "metadata": {},
   "outputs": [
    {
     "data": {
      "text/plain": [
       "22.99    1044\n",
       "27.99     958\n",
       "21.99     912\n",
       "29.99     868\n",
       "12.99     864\n",
       "20.99     863\n",
       "14.99     821\n",
       "13.99     803\n",
       "11.99     749\n",
       "25.99     740\n",
       "26.99     737\n",
       "10.99     720\n",
       "28.99     716\n",
       "18.99     696\n",
       "17.99     691\n",
       "23.99     690\n",
       "9.99      684\n",
       "19.99     657\n",
       "16.99     639\n",
       "24.99     633\n",
       "15.99     559\n",
       "Name: film_replacement_cost, dtype: int64"
      ]
     },
<<<<<<< HEAD
     "execution_count": 13,
=======
     "execution_count": 10,
>>>>>>> 3b6ca04 (merge week)
     "metadata": {},
     "output_type": "execute_result"
    }
   ],
   "source": [
    "# your code goes here\n",
    "df[\"film_replacement_cost\"].value_counts()"
   ]
  },
  {
   "cell_type": "code",
<<<<<<< HEAD
   "execution_count": 14,
=======
   "execution_count": 11,
>>>>>>> 3b6ca04 (merge week)
   "metadata": {
    "cell_type": "solution"
   },
   "outputs": [
    {
     "data": {
      "text/plain": [
       "<AxesSubplot:>"
      ]
     },
<<<<<<< HEAD
     "execution_count": 14,
=======
     "execution_count": 11,
>>>>>>> 3b6ca04 (merge week)
     "metadata": {},
     "output_type": "execute_result"
    },
    {
     "data": {
      "image/png": "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\n",
      "text/plain": [
       "<Figure size 432x288 with 1 Axes>"
      ]
     },
     "metadata": {
      "needs_background": "light"
     },
     "output_type": "display_data"
    }
   ],
   "source": [
    "df[\"film_replacement_cost\"].plot(kind=\"box\")"
   ]
  },
  {
   "cell_type": "code",
<<<<<<< HEAD
   "execution_count": 15,
=======
   "execution_count": 12,
>>>>>>> 3b6ca04 (merge week)
   "metadata": {},
   "outputs": [
    {
     "data": {
      "text/plain": [
<<<<<<< HEAD
       "<matplotlib.lines.Line2D at 0x21bc07dc0a0>"
      ]
     },
     "execution_count": 15,
=======
       "<matplotlib.lines.Line2D at 0x1c05ff13340>"
      ]
     },
     "execution_count": 12,
>>>>>>> 3b6ca04 (merge week)
     "metadata": {},
     "output_type": "execute_result"
    },
    {
     "data": {
<<<<<<< HEAD
      "image/png": "iVBORw0KGgoAAAANSUhEUgAAAYgAAAD5CAYAAAA9SqL2AAAAOXRFWHRTb2Z0d2FyZQBNYXRwbG90bGliIHZlcnNpb24zLjUuMSwgaHR0cHM6Ly9tYXRwbG90bGliLm9yZy/YYfK9AAAACXBIWXMAAAsTAAALEwEAmpwYAAAxt0lEQVR4nO3deXyU9b3o8c83+56QlZCEfRGURU4KCFptXaqIxdpWrbW2dqEe9VbPtYv12tP2tqe71tNTC1rttVqtG1qR4m7RWhEB2UEgrAkkgUDIQvbM9/7xTDDGCZkk88wzSb7v1+t5TeZZZr48JPOd3y6qijHGGNNVlNcBGGOMiUyWIIwxxgRkCcIYY0xAliCMMcYEZAnCGGNMQJYgjDHGBBTj5ouLyMXAfwPRwAOq+osux8V/fD7QAHxFVd/zH8sAHgDOABT4qqquOtX7ZWdn6+jRo0P8rzAmRHbscB4nTfI2DmM6WbduXZWq5gQ65lqCEJFo4F7gQqAMWCMiy1R1W6fTLgEm+LfZwGL/IziJ40VV/ZyIxAFJPb3n6NGjWbt2bQj/FcaE0HnnOY8rV3oZhTEfIiL7uzvmZhXTLKBEVfeoagvwOLCwyzkLgYfV8Q6QISL5IpIGfBx4EEBVW1T1uIuxGmOM6cLNKqYCoLTT8zI+KB2c6pwCoA04Avw/EZkOrANuUdUTXd9ERBYBiwBGjhwZsuCNCbk77/Q6AmN6xc0ShATY13Vej+7OiQFmAotV9UzgBHB7oDdR1ftVtVhVi3NyAlajGRMZLrjA2YwZINxMEGVAUafnhcChIM8pA8pUdbV//9M4CcOYgWvDBmczZoBwM0GsASaIyBh/I/PVwLIu5ywDrhPHHKBGVctVtQIoFZGO7h7nA9swZiC79VZnM2aAcK0NQlXbRORm4CWcbq5/UtWtInKD//gSYAVOF9cSnG6u13d6if8FPOpPLnu6HDPGGOMyV8dBqOoKnCTQed+STj8rcFM3124Ait2MzxhjTPdcTRDGmNDZW3WCl7dWkJYYy6enjyA53v58jbvsN8yYAeDJNaXc+bcttLT7AFjyxm4e+8YcCjISPY7MDGY2F5Mx4fKznzlbL724pYLvLt3E7LGZrL7jfB77xmyOnWjhxkffo91nK0Ia91iCMCZc5s51tl44XNvEd57eyIyiDP54XTF5aQnMHZfNf31mKhtLj/Pwqn3uxGoMliCMCZ+333a2Xvjx89tobvNx95XTSYiNPrn/smn5zBmbyZI3dtPc1h7qSI0BLEEYEz533OFsQVq3v5q/by7npvPGMzYn5UPHRISbPzGBytpmnlvfdfypMaFhCcKYCHXPqzvJTI7j6+eMCXh83vgsxuUk8+Ta0oDHjekvSxDGRKB1+4/xz11VfPPjY7vtzioifO7fili7v5q9VR+Zx9KYfrMEYUwEuu+NPQxLiuVLZ4065XmXnzkCgBWby8MRlhliLEEYE2EOHm/k1e2VfGHWSJLiTj1UKT89kemF6by8rTJM0ZmhxAbKGRMu99wT1GmPvuMs8PXFOacuPXS4YHIed72yk8O1TeSmJfQ1OmM+wkoQxoTLjBnOdgpNre08vqaUCybnBT1K+sLT8wB4dfvhfgZozIdZgjAmXF591dlO4aWtFRw70cJ1Z40O+mUn5aVSkJHImzuP9DNAYz7MqpiMCZef/tR5PMWqcs9vPER+egJzx2UF/bIiwtxxWby8rZJ2nxIdFWihRmN6z0oQxkSImsZW3txZxfyp+UT18kN+3vhsahpb2V5e61J0ZiiyBGFMhHhlWyUt7T4WTMvv9bVn+Uscb++uCnVYZgizBGFMhFi+6RCFwxKZUZTR62vz0hIYn5vCv0qOhj4wM2RZgjAmAlSfaOGtXVVcOi0fkb61Icwdl8WafcdoafOFODozVFmCMCZc7rvP2QJ4eVsFbT7lsmkj+vzyZ43NoqGlnc0Ha/r8GsZ0ZgnCmHCZNMnZAli+qZxRWUmcPiKtzy8/a0wmAKv3WjWTCQ1LEMaEy/PPO1sXR+ubeXv3URb0o3oJICslngm5Kazec6w/UfbboeONPLJqH3999wBV9c2exmL6x8ZBGBMud93lPF522Yd2v7ClgnafsqAf1UsdZo/N5Nn3DtLW7iMmOvzf/x5bfYAfP7+VZn87yM9WbOfXn5vGxWf0vmeW8Z6VIIzx2PJNhxiXk8xpw1P7/Vqzx2RxoqWdrYfCPx7iyTWl3PHsZmaPzeL1287lhVvOYXxuCjc9tp6Xt1aEPR7Tf5YgTERqbfdReqyBipomVNXrcFxzuK6J1XuPcem0Ef2qXuow26N2iPcravnBc1s4e3w2D365mLE5KUzOT+MvX5vNGSPSuO3JjZQeawhrTKb/LEGYiFJe08jtSzcx48cvc86v/sGcn7/GnJ+/xs9XbKf6RIvX4YXcC5srUHXWmA6F3LQExmQn8+7e8LVD+HzKd57aRGpCLL+9agaxnaq2kuNj+P01M1Hgzr9tGdTJfjByNUGIyMUiskNESkTk9gDHRUR+5z++SURmdjq2T0Q2i8gGEVnrZpwmMry6rZIL736TZ947yKXT8vnlZ6fyk4WnM70wg/v/uYdP3LWS198fXOseLN90iEl5qUzI63/1UofZYzJ5d+8x2n3h+TB+al0pmw/W8IMFk8lJjf/I8aLMJG69YAJv7DxiM84OMK41UotINHAvcCFQBqwRkWWquq3TaZcAE/zbbGCx/7HDJ1TV5g4YAp7bcJBbn9jAGSPSufeamYzMSjp57EtnjWZHRR23PrGBrz60lv/6zBl8cXZwayVElEce+dDT8ppG1uyr5rYLJ4b0bWaPzeTxNaW8X1HL6SPSQ/raXTW1tvPrl3ZSPGoYn57efSP7l+eO5q/vHuCXL77P+afl9nquKeMNN0sQs4ASVd2jqi3A48DCLucsBB5WxztAhohYd4chZuWOw9z25EZmjc7kyW+e9aHk0GHS8FSevXEunzwtl//z7BaeXV/mQaT9VFTkbH5/3+QsE3ppiKqXOswe48zLFI7urh1dWb/zqUmnbEOJjY7iW+dPoORwPS9Zg/WA4WaCKABKOz0v8+8L9hwFXhaRdSKyqLs3EZFFIrJWRNYeOWLz4Q80ZdUNfOuv65mQl8oDXy4mMS6623MTYqNZfO1M5ozN5HtLN7O5bICNGH7iCWfz+/vmcqbkpzE2JyWkbzMiI5GizETXG6qbWttZ8sZuZo/JZPbYnqcnXzBtBGOyk/n9P0qsLWKAcDNBBPo60fW34lTnzFPVmTjVUDeJyMcDvYmq3q+qxapanJOT0/doTdi1tvv4X39dj09hybUzSU2I7fGa+Jho7r1mJtnJcdzyxHqaWtvDEGmILF7sbDiJcf2B4yyY7k6BedboLN7dewyfi+0QT60ro7K2mW+dPyGo86OjhK+fM4ath2p578Bx1+IyoeNmgigDijo9LwQOBXuOqnY8HgaexamyMoPI/7xewvoDx/n5FVMZlZUc9HVZKfH84rPT2HPkBL97bZeLEbqno3ppwdT+D44LZPbYTKobWtl1uN6V129p87Fk5W5mjszo1eJGl88oICU+hkdX73clLhNabiaINcAEERkjInHA1cCyLucsA67z92aaA9SoarmIJItIKoCIJAMXAVtcjNWE2c7KOhavLOEzZxZw2SkaN7vz8Yk5XDGzgD/+c8+A7F+/fFM50wvTA7a3hMKcjnYIl6qZnnmvjIPHG/nW+RN6NX4jOT6Gz5xZwPJN5RxvGHzdlgcb1xKEqrYBNwMvAduBJ1V1q4jcICI3+E9bAewBSoA/Ajf69+cBb4nIRuBd4O+q+qJbsZrw8vmU7z+zmZT4GO68dHKfX+c7n5pElAh3v7IzhNG5b//RE2w+WBPyxunOijITyU9PYLUL4yFa233cu7KEaYXpnDux99W6VxYX0dLms8bqAcDVuZhUdQVOEui8b0mnnxW4KcB1e4DpbsZmvPPYuwdYt7+auz4/nayUj/abD1Z+eiLXzxvDfW/u5uZPjmdciBt73bL8ZO8ld6qXwFmnevaYTN4qOYqqhmSUdofnNhyi9Fgj/7ng9D697hkFaYzOSuL5jeVc9bGRIYvLhJ6NpDZhVVnbxC9feJ9547O4YmbXTm299/VzxhAbHcWDb+0NQXQue/ppePppnt94iJkjMyjISHT17WaPzaKqvpk9VSdC9ppt7T5+//ouTh+RxgWTc/v0GiLCZdNH8PbuKo7U2WyvkcwShAmrnyzfRku7j/+6fGpIvtVmp8Tz2ZkFLF1XxtFIn1o6O5v32+J4v6KOy8/sf3Lsycn1IUI4HmLZxkPsO9rQ67aHrhZMG4FPnYWSTOSyBGHCZtXuoyzfVM6/nzeO0dnB91rqydfOHktzm4+/vHMgZK/pioceYvev7yU6Spg/1f3xoGOzk8lOiQ9ZQ3W7T/n96yWcNjyVCyfn9eu1JualUJCRyBs7bOxSJLMEYcKird3Hj5/fSuGwRG44d1xIX3t8bgrnTMjmybWlYZt/qC/0oYfIf/YJzh6fTXY/2l6CJSLMHpvJ6j3HQjIwbfmmQ+ypOsEt50/o91QZIsK5k3L4V0mVraEdwSxBmLD4yzv7eb+ijjsvnUJCbPejpfvqyuIiDh5v5F8lkTt1V31TGy1t7Vx+pnuN013NGZNJRW0TB/rZFbilzcdvX9nJacNT+dTpw0MS27kTczjR0s66/dUheT0TepYgjOuO1jdz9ys7OWdCNp86vX9VE9256PQ8MpJieWJtac8ne+RIXTNRIlw4JTQfsMHomAKjv+0Qj63ez76jDXzv4tNCNtHevPHZxEYLb+y0aqZIZQnCuO7XL+2goaWdH17Wt26RwYiPiebyGQW8srUyIgdg1Ta1UlXfTFZKPCnx4Vvpd0JuCpnJcf0aD1Hb1Mp/v7aLueOyOG9S6KazSYmPYWpBOmv3ebuGtumeJQjjqh0VdTyxtpQvzx3N+Fx3xyl87t8KaWn38cKWyOsZ89z6g/hUyUtzv+2hMxFh1uhM3t5d1ed2iMUrd1Pd0Mod8yeHPMEXj85kU1nNwJpTawixBGFc9euXdpASF8PNnxjv+nudPiKNMdnJPL+x65Rf3lJVHl19gN/c8ltSXns57O9/wZQ8ymua2NiH2W93H6nnwX/u5YozCzijIPRrSxSPGkZLu48tBwfYzLxDhCUI45q1+47x6vZKbjhvHMOS41x/v44BWKv2HOVwbZPr7xesf+6q4v2KOq78+CRIcmfupVO5cHIesdHCC5vLe3WdqvKDv20hPjaK78/v+5Qop/Jvo4YBsGafNVRHIksQxjV3vbyT7JR4rp83Omzv+enp+ajCil5+GLrp9/8oIT89gSveWQZ/+EPY3z89KZZ547P5++byXlUzPbfhEG/vPsr3Lj4t4FKioZCVEs/YnGTW7bd2iEhkCcK4YlPZcVbtOcqij48hKS58jbLjc1OZnJ/GsgipZnq7pIp39x5j0cfHErP0KXjySU/iWDBtBGXVjbwbZGN1VX0zP1m+jelFGVwzy935kmYUZbDZqpgikiUI44r739xDanwMX3D5wyWQy6bn896B455PA+4MDtxG4bBET+5DZ5dOzSctIYZH3ul5HQZV5falm6lrbuNXn53m+vrRU/LTqKxtpirSp0oZgixBmJArPdbAis3lXDN7ZFCrxIXaZf5ZUjtmTfXKA2/tZUdlHT9Y4M7gwN5IjIvm88VFvLilosf2mSfWlPLq9kq++6lJTBqe6npsU0akAbDtUK3r72V6xxKECbmn1paiwHVzR3vy/kWZScwcmeFpNdN7B6r5zUs7uPj04Vw0xZ3Bgb31pTmj8Knyh5W7uz1nY+lx/nPZVuaNz+Kr88aEJa7T853eUVstQUQcSxAmpHw+Zel7Bzl7fLbr01mfysIZBWwvr2VnZV3Y33t7eS1fe2gN+RkJ/PJz01wbHNhbo7OTuepjRTy6ej+7AtyXg8cbWfTIWnJT4/mfL8x0vWqpQ3pSLAUZiWwrtwQRaSxBmJBatecoB4838vniop5PdtH8qflERwnLNoSvFKGqLF1XxpVLVpEQG80jX51NemKnKraVK53NQ/9x4UTSEmK5+bH11DS0nty/+0g9Vy5ZRUNLOw98uZjMMHRL7mzKiDS2HbKG6kgTvu4lZkh4fuMhUuJjPK9WyUmNZ974bJ7beJDbLpro2rd4VWX3kRO8/n4lz7x3kPcr6vjY6GH89qoZFA4L/5iHnuSmJnDP1TP46kNr+Mwf/sUX54ziYHUjj727n6S4GP76jTmcNjwt7HFNzk/j1e2VNLW2e95eYz5gCcKETLtPeXV7JedNyomIP/JPTx/Bt5/ayPrS48wcOSxkr+vzKesOVPPilgpe3V7J/qNOb6kp+Wnc9fnpXH5mAdGBqmd+8xvn8dvfDlksfXHOhBwe+dps7nhmMz9Zvo2YKOHiM4bzgwVTyEtL8CSm8bkpqMK+oyc8SVAmMEsQJmTWH6imqr6Fi0I0HXR/fer0PO54NoplGw6FJEG0tft4al0Zf3xzD3uqThAXHcXc8Vl8/ZyxfPK03J7bXJYvdx49ThAAc8Zm8dpt53KkvpnU+FgS47xN6ONynAWkdh+2BBFJLEGYkHl5WyWx0RLSGT/7IzUhlgsm5/L8xkPcMX8ycTF9b3LbcrCG7y3dxNZDtUwrTOe3V03ngsl5nnTjDRURITfVmxJDV2P8KwzuPlLvcSSmM0sQJmTe3HmEWWMySYugD83PFxexYnMFL2+rYMG0vi3U8+TaUu782xaGJcVy7zUzmT91eMT0TBoskuJiKMhIZI8liIhivZhMSBytb+b9ijrmjsv2OpQPOXdCDkWZiTyyqucRxF2pKne/vIPvPr2Jj40exopvncOl0/ItObhkbE4yu4+c8DoM04klCBMS7/hXLDtrXJbHkXxYVJTwxdmjWL33WMC+/91RVe5+ZSe/e72EK4sL+fP1s8jq7zrSiYnOZgIal5PCniP1IVk/24SGJQgTEqv2VJEcF81UF9YM6K8ri4uIi4ni/jf3BHV+R3L4n9dLuKq4iF9cMY2Y6BD8qbzwgrOZgMblJHOipZ3KWpuTKVK4miBE5GIR2SEiJSJye4DjIiK/8x/fJCIzuxyPFpH1IrLczThN/63afZRZYzKJDcUHaYhlJsdx7exRPLP+YI913J2Tw9UfK+LnV0wN24jioW5sjrPi4J4qa4eIFK79NYtINHAvcAkwBfiCiEzpctolwAT/tghY3OX4LcB2t2I0oVHT0MruIycoHp3pdSjd+vfzxhEXHcWvX9rR7Tmqyq9e2nEyOfzsMyFODj/5ibOZgEZmOgMLy441ehyJ6eDm171ZQImq7lHVFuBxYGGXcxYCD6vjHSBDRPIBRKQQuBR4wMUYTQhsOngccOb1j1Q5qfHc9IlxvLClguWbPjr9hs+n/PTv21m8cjfXzB4Z+uQA8NprzmYCyk9PIDpKOODxNO3mA24miAKgtNPzMv++YM+5B/gu4HMpPhMiG0uPAzC1MPLaHzr75rnjmF6UwXee2sTbu6tO7j9a38yiR9by4Ft7+crc0fzX5WdYtZIHYqKjGJGRQGm1JYhI4eY4iEB/YV27JwQ8R0QWAIdVdZ2InHfKNxFZhFM9xciR3i7KMlRtKK1hbE5yRI1/CCQ2OooHrivmqvtXce0Dq/nkabkkxEazcscRmlrb+dFlU/jy3NHWjdVDRcOSrAQRQdwsQZQBnaf0LAS6lu27O2ce8GkR2YdTNfVJEflLoDdR1ftVtVhVi3NyImME71CiqmwsO86MwgyvQwlKTmo8y24+m2+cM5Zdh+tZf+A4F52ex4u3nsNX5o2x5OCxkZlJlFobRMRwswSxBpggImOAg8DVwDVdzlkG3CwijwOzgRpVLQe+79/wlyC+rarXuhir6aPK2maO1DUzLcKrlzpLiY/h+/Mn8/35k8P7xlmRNUYkEhVlJlFV30xDS1tY1zI3gbn2P6CqbSJyM/ASEA38SVW3isgN/uNLgBXAfKAEaACudyse447t/kVepowYOAnCM0uXeh1BxCvq6MlU3cjEPPeXOzWn5mqKVtUVOEmg874lnX5W4KYeXmMlsNKF8EwI7PCPTp5kf8wmBIqGOSPNDxxtsAQRASJvVJMZUHZU1JGfnkB6UmQ3UEeE73/f2Uy3OkoQ1pMpMlgln+mX9yvqmDTcvukFZdUqryOIeFnJccTFRFFR0+R1KAYrQZh+aG33sftwvVUvmZAREfLTEzhkCSIiWIIwfbb/6Ala2n1WgjAhlZ+eQPlx6+oaCSxBmD7bUeFMqmaNiSaU8tMTKbcSRESwNgjTZx0zo47zz8JpelBY6HUEA0J+egKVtU20+5Rom/LEU5YgTJ/tPXqC/PQEzxe8HzD+EnAyANNFfnoCbT7laH0zuWmRsWb2UGVVTKbP9ladYHRWstdhmEEmP90ZC2EN1d6zBGH6bF/VCUZnW4II2q23Ops5peHpTqmhosYaqr1mVUymT443tFDd0MpYSxDB27DB6wgGhBEZ/hLEcStBeM1KEKZP9ladALAShAm5YUmxxMdEUVFrCcJrliBMn+w76iSIMZYgTIidHCxnYyE8ZwnC9Mneqgai5IN1hI0JpeHpCTbdRgSwNgjTJ3urTlAwLJG4GPuOEbSJE72OYMAYkZ7I6r3HvA5jyLMEYfpkX9UJxmTbALleuf9+ryMYMPL8g+V8PrX1wT1kX/9Mnxw41sAoq14yLslNjafNp1Q3tHgdypAWVIIQkaUicqmIWEIx1Da1UtPYSlFmotehDCyLFjmb6VGefwT14bpmjyMZ2oL9wF+Ms570LhH5hYic5mJMJsIdrHZ6lxQOsxJEr+zc6WymR7mp8YAlCK8FlSBU9VVV/SIwE9gHvCIib4vI9SJiS4kNMWUnE4SVIIw7clP9JQgbC+GpoKuMRCQL+ArwdWA98N84CeMVVyIzEavMvxyklSCMW3LTrAQRCYLqxSQizwCnAY8Al6lquf/QEyKy1q3gTGQqq24kMTaaYbYOtXFJQmw0qQkxHLEE4algu7k+oKorOu8QkXhVbVbVYhfiMhGs9FgDhcMSEbHuh70yY4bXEQwouanxVFoVk6eCTRA/BVZ02bcKp4rJDDFl1Y3W/tAX99zjdQQDSm5qglUxeeyUCUJEhgMFQKKInAl0fGVMA6wCeogqq27g30YN8zoMM8jlpsXz3oFqr8MY0noqQXwKp2G6ELi70/464A6XYjIRrKaxldqmNitB9MW11zqPtrJcUHJT4zlc24yqWnWmR06ZIFT1z8CfReSzqrq0ty8uIhfj9HaKxmnH+EWX4+I/Ph9oAL6iqu+JSALwJhDvj/FpVf1hb9/fhJ6NgeiHsjKvIxhQclMTaG7zUdvURnqidYjwQk9VTNeq6l+A0SLyv7seV9W7A1zWcW00cC9wIVAGrBGRZaq6rdNplwAT/NtsnAF5s4Fm4JOqWu8fZ/GWiLygqu/07p9nQu2DLq5WgjDu6ujqeqSuyRKER3oaB9Ex2X8KkBpgO5VZQImq7lHVFuBxYGGXcxYCD6vjHSBDRPL9z+v958T6Nw3qX2RcddA/R3+BJQjjspyO0dS11lDtlZ6qmO7zP/64D69dAJR2el6GUzro6ZwCoNxfAlkHjAfuVdXVfYjBhFhFbRNx0VFkJcd5HYoZ5E6OpraeTJ4JdrK+X4lImojEishrIlIlItf2dFmAfV1LAd2eo6rtqjoDp4F8loic0U1si0RkrYisPXLkSA8hmf6qqGkiLz3eGg374qyznM0E5YPR1DYWwivBTrVxkarWAgtwvuVPBL7TwzVlQFGn54XAod6eo6rHgZXAxYHeRFXvV9ViVS3OycnpISTTX+U1TeSnWfVSn/z8585mgpIaH0NCbJRVMXko2ATR0UI0H/irqgaz1NMaYIKIjBGROOBqYFmXc5YB14ljDlCjquUikiMiGQAikghcALwfZKzGRRU1TQxPT/A6DDMEiIgNlvNYsCOpnxeR94FG4EYRyQFOWe5T1TYRuRl4Caeb659UdauI3OA/vgRndPZ8oASnm+v1/svzcbrXRuMksSdVdXnv/mkm1FSVitom8i1B9M1nP+s8Lu11j/EhKzc13qqYPBRUglDV20Xkl0CtqraLyAk+2iMp0HUr6DJFhz8xdPyswE0BrtsEnBlMbCZ8qhtaaWnznVzMxfTS0aNeRzDg5KbFs6OizuswhqzerEk9GWc8ROdrHg5xPCaCldc4XVytBGHCJTc1gbd2VXkdxpAV7HTfjwDjgA1Au3+3YgliSKmocYr61gZhwiUnNZ7apjaaWttJiI32OpwhJ9gSRDEwxV8lZIaocn+CyE+3XkwmPHJSOkZTN1OUadO7hFuwCWILMBwo7+lEM3hV1DQRHSUnR7iaXjr/fK8jGHByOqbbqLcE4YVgE0Q2sE1E3sWZJwkAVf20K1GZiFRR20ROSjzRUTZIrk9+8AOvIxhwOkoQNhbCG8EmiB+5GYQZGGwMhAm33NQPShAm/ILt5vqGiIwCJqjqqyKShDO2wQwh5TWNTMzraY5G061LLnEeX3jB2zgGkMzkOESwtak9EuxcTN8Angbu8+8qAP7mUkwmAqkq5VaC6J/GRmczQYuJjiIrOZ4jNljOE8FOtXETMA+oBVDVXUCuW0GZyFPX3EZDS7uNgTBhl5MabyUIjwSbIJr9azoA4B8sZ11eh5BKfxdXG0Vtws0ShHeCTRBviMgdQKKIXAg8BTzvXlgm0tgYCOMVZz4mSxBeCLYX0+3A14DNwDdx5ld6wK2gTOSpOJkgrATRZwsWeB3BgJSTGk9VfTM+nxJlXazDKtheTD4R+RvwN1W1VXmGoI4SRMciLqYPvv1tryMYkHJS4mltV2oaWxlmKxmG1SmrmPzrNPxIRKpw1mPYISJHROQ/wxOeiRQVtY1kp8QRH2O9m0145abZWAiv9NQGcStO76WPqWqWqmbirCs9T0T+w+3gTOSwQXIhcN55zmZ6xUZTe6enBHEd8AVV3duxQ1X3ANf6j5khorymieHWg8l4IOfkaGobCxFuPSWIWFX9yGTs/naI2ADnm0GqotZKEMYbJxOE9WQKu54SREsfj5lBpLGlneMNrdbF1XgiJT6GxNhoq2LyQE+9mKaLSG2A/QLY18khoqLWv1CQVTEZD4g4U8xbI3X4nTJBqKp1WTE2BiJUrrzS6wgGLBtN7Y3erElthqiKWmeCuTxLEP1z441eRzBg5abGs+twvddhDDnBTrVhhrCOQXJWxdRPDQ3OZnrNShDesBKE6VFFTRNpCTEkx9uvS7/Mn+88rlzpaRgDUU5KPDWNrTS3tdtgzTCyEoTpUXlNk/VgMp46OZraShFhZQnC9KjSxkAYj9lYCG9YgjA9slHUxms5Kc7vnyWI8HI1QYjIxSKyQ0RKROT2AMdFRH7nP75JRGb69xeJyD9EZLuIbBWRW9yM03Svtd1HVX2zlSCMp2zCPm+41uooItHAvcCFQBmwRkSWqeq2TqddAkzwb7OBxf7HNuA2VX1PRFKBdSLySpdrTRhU1jahiiWIUPjKV7yOYMDKTI5DxCbsCzc3u6XMAkr8k/shIo8DC4HOH/ILgYdVVYF3RCRDRPJVtRwoB1DVOhHZDhR0udaEgQ2SCyFLEH0WGx1FZlKclSDCzM0qpgKgtNPzMv++Xp0jIqOBM4HVgd5ERBaJyFoRWXvkiK1lFGq21GgIVVU5m+kTGwsRfm4miEBrA2pvzhGRFGApcKuqBpoTClW9X1WLVbU4Jyenz8GawDpKEFbFFAKf+5yzmT7JsbWpw87NBFEGFHV6XggcCvYcEYnFSQ6PquozLsZpTqG8pomkuGjSEmyQnPFWTmo8VZYgwsrNBLEGmCAiY0QkDrgaWNblnGXAdf7eTHOAGlUtFxEBHgS2q+rdLsZoelBR28jw9ASc/xJjvNNRxeQ0WZpwcO1roaq2icjNwEtANPAnVd0qIjf4jy8BVgDzgRKgAbjef/k84EvAZhHZ4N93h6qucCteE5gzitqql4z3clMTaGn3UdPYSkZSnNfhDAmu1hv4P9BXdNm3pNPPCtwU4Lq3CNw+YcKsoqaJueOyvQ7DmA+NprYEER5WsWy61dbu43BdMyMyrAQREv/+715HMKDlpHyQICbkpXoczdBgCcJ0q6q+hXafWg+mULnqKq8jGNA6RlNbT6bwsbmYTLfKa5yFgqwNIkRKS53N9IlN2Bd+VoIw3To5BiLNBsmFxJe+5DzaehB9khofQ3xMlI2mDiMrQZhuHbJpNkwEERFnsFxtk9ehDBmWIEy3KmoaiY+JIiMp1utQjAGctamtBBE+liBMtzrGQNggORMpbD6m8LIEYbpVUWMryZnIYgkivKyR2nSrvKaJWWMyvQ5j8LjtNq8jGPByUxOobmilpc1HXIx9v3WbJQgTkM+nthZ1qF12mdcRDHgdXV2r6psZkWG969xmKdgEVHWimTafWg+mUNqxw9lMn3UeTW3cZyUIE1D58Y4xEJYgQuab33QebRxEn9lo6vCyEoQJ6OBxZxR1wTArxpvIkZvqfGGpsLEQYWEJwgR0sNpJEIXDkjyOxJgP5KTGExMllPu/wBh3WYIwAZVVN5AaH0N6og2SM5EjOkrIS0s4uVa6cZclCBPQweONVr1kItKIjISTVaDGXdZIbQIqq26k0BJEaN15p9cRDAojMhJ570C112EMCZYgTEAHqxuZMzbL6zAGlwsu8DqCQSE/PZGKmnJ8PiUqyqaBcZNVMZmPqGlspa65jQIbiBRaGzY4m+mXERkJtLYrVTZpn+usBGE+oqy6AcCqmELt1ludRxsH0S8j0p3fy0M1TeTaOB1XWQnCfERHF1drpDaRKN+/Rrp1dXWfJQjzER09RGwMhIlEHSUI68nkPksQ5iPKqhtJjI1mmC0UZCJQRlIsibHRNhYiDCxBmI84WO2MgbCFgkwkEhHyMxIor7EShNuskdp8xP5jDYzKtOqlkPvZz7yOYNAYkZ7IweNWgnCbqyUIEblYRHaISImI3B7guIjI7/zHN4nIzE7H/iQih0Vki5sxmg9TVfYfPcGorGSvQxl85s51NtNvBRmJJztTGPe4liBEJBq4F7gEmAJ8QUSmdDntEmCCf1sELO507CHgYrfiM4EdqWumoaWd0dlWggi5t992NtNvI7OSqKpvpqGlzetQBjU3SxCzgBJV3aOqLcDjwMIu5ywEHlbHO0CGiOQDqOqbwDEX4zMB7DvqjIGwEoQL7rjD2Uy/FfmrQA8ca/A4ksHNzQRRAJR2el7m39fbc05JRBaJyFoRWXvkyJE+BWo+sO/oCQBGZ1kJwkSujjayA0ctQbjJzQQRqAuM9uGcU1LV+1W1WFWLc3JyenOpCWD/0RPERIlNs2Ei2qgsK0GEg5sJogwo6vS8EDjUh3NMGO072kDhsERioq0HtIlc6YmxpCbEsN9KEK5y81NgDTBBRMaISBxwNbCsyznLgOv8vZnmADWqWu5iTKYH+6qsB5OJfCLCqKwkK0G4zLVxEKraJiI3Ay8B0cCfVHWriNzgP74EWAHMB0qABuD6jutF5K/AeUC2iJQBP1TVB92K1zhdXPdVnaB41DCvQxmc7rnH6wgGlVGZyWwrr/U6jEHN1YFyqroCJwl03rek088K3NTNtV9wMzbzUYdqmjjR0s74vFSvQxmcZszwOoJBZWRWEi9vq6Ddp0TbuhCusIpmc9KuyjoAJuameBzJIPXqq85mQmJUZhKt7WoD5lxkU22Yk3ZV1gMw0UoQ7vjpT51HW1kuJCbkOV9kdh2uY6R1y3aFlSDMSTsr68hOiWNYcpzXoRjTo/E5zheZXYfrPY5k8LIEYU7adbieCblWejADQ3pSLLmp8SdLvib0LEEYwOnBVHK4nol51v5gBo6JeamUHK7zOoxByxKEAZweTPXNbdaDyQwo43NT2HW4Hp+vVxMwmCBZI7UBYMvBGgBOH5HmcSSD2H33eR3BoDMhL4WGlnYO1TTaErkusARhANhcVkN0lDAl3xKEayZN8jqCQaejzWxnZZ0lCBdYFZMBYNPBGibmpZIQG+11KIPX8887mwmZyfmpiMDmMhtR7QYrQRhUlc1lx7loynCvQxnc7rrLebzsMm/jGERSE2IZl5PCprLjXocyKFkJwlBW3Uh1QytTC9O9DsWYXptWmM7GshqcmXtMKFmCMGwqcxqop1mCMAPQ9MIMquqbKa9p8jqUQccShOHdvUdJiotmsjVQmwGo44vNxtLj3gYyCFmCMLyz5xjFozOJtUWCzAA0OT+N2GhhvSWIkLNG6iHuaH0zOyrrWHjmCK9DGfweecTrCAalhNhozhw5jFW7j3odyqBjXxmHuH/5/6jmjM3yOJIhoKjI2UzIzRuXzZZDNRxvaPE6lEHFEsQQ9+q2SrKS45hemOF1KIPfE084mwm5sydkoQpvWykipCxBDGGt7T7+seMwnzwt11bkCofFi53NhNy0wgzSE2N5dXul16EMKpYghrC3Sqqoa2rjwil5XodiTL/ERkdx4ZQ8XtlWSXNbu9fhDBqWIIawp9eWkZkcx3mTcr0OxZh+mz91OHVNbfxzZ5XXoQwaliCGqKr6Zl7ZVsnCGSOIi7FfAzPwnT0+h+yUeB5794DXoQwa9skwRD341l5afT6unTPK61CMCYm4mCiumT2Sf+w4zL6qE16HMyhYghiCKmubePjtfVw6NZ9xObaCXNg8/bSzGddcO3sk8TFR3P3KTq9DGRQsQQwxqsoPn9tKq0+57SJbnyCssrOdzbgmNy2Br589lmUbD/H2bmuL6C9LEEPM4jd28+LWCv7jgomMyU72Opyh5aGHnM246sZPjGNsTjK3Pr6BsuoGr8MZ0FxNECJysYjsEJESEbk9wHERkd/5j28SkZnBXmt6p6Gljf/7/DZ+9eIOLps+ghvOHet1SEOPJYiwSIqL4d5rZtLU2s5V973DeweqvQ5pwHJtLiYRiQbuBS4EyoA1IrJMVbd1Ou0SYIJ/mw0sBmYHea05hbZ2H1X1LeysrGPVnqMsXVfG4bpmvjRnFD+8bAoiNjDODF6T89N49OtzuOEv67jiD29z/mm5fOqM4ZxZlEHhsCQS42zlxGC4OVnfLKBEVfcAiMjjwEKg84f8QuBhdVb6eEdEMkQkHxgdxLUhs+B//kljizO45uSSI/qhh5OLkXzwvOO4fvh5lzVLgr6uy3G6Pf7B633wnh9+DxTqW9pOHo8SOHdiDr8/bzyzxmR+9AYYMwhNLUznhVvP4f+9tY9HV+/ntfcPnzwWHxNFcnwMibHRxEQ7X5YEEBGk40nXfRFsWFIcT95wVshf180EUQCUdnpehlNK6OmcgiCvBUBEFgGLAEaOHNmnQMfnpNDa7v80lZO/Gye/ZX/wnC7PP3z8g18q6eb8bo53eYGgr+sSR+djqfEx5KQlMCYrmWlF6aQlxHbzrzdm8EpLiOWWCybwrfPHs6Oyjh0VdZQea6C2qY2GljYaWtrx+fTkFy7nsdMXLv3gy1wkc+vv280EESjpdr3T3Z0TzLXOTtX7gfsBiouL+/Q/ec/VZ/blMmPMACEinDY8jdOG26JYveFmgigDOs9tXAgcCvKcuCCuNWZgWbHC6wiM6RU3ezGtASaIyBgRiQOuBpZ1OWcZcJ2/N9McoEZVy4O81piBJSnJ2YwZIFwrQahqm4jcDLwERAN/UtWtInKD//gSYAUwHygBGoDrT3WtW7EaExZ/+IPzeOON3sZhTJBEu3a7GcCKi4t17dq1XodhTGDnnec8rlzpZRTGfIiIrFPV4kDHbCS1McaYgCxBGGOMCcgShDHGmIAsQRhjjAloUDVSi8gRYH8fL88GInF+YIurdyyu3rG4emcwxjVKVXMCHRhUCaI/RGRtdy35XrK4esfi6h2Lq3eGWlxWxWSMMSYgSxDGGGMCsgTxgfu9DqAbFlfvWFy9Y3H1zpCKy9ogjDHGBGQlCGOMMQFZgjDGGBPQkE8QInKxiOwQkRIRud3reDoTkX0isllENoiIZ7MQisifROSwiGzptC9TRF4RkV3+x2EREtePROSg/55tEJH5YY6pSET+ISLbRWSriNzi3+/p/TpFXJ7eL38MCSLyrohs9Mf2Y/9+r+9Zd3FFwj2LFpH1IrLc/9yVezWk2yBEJBrYCVyIs3jRGuALqurK2te9JSL7gGJV9XRgjoh8HKjHWT/8DP++XwHHVPUX/sQ6TFW/FwFx/QioV9XfhDOWTjHlA/mq+p6IpALrgMuBr+Dh/TpFXFfi4f3yxyZAsqrWi0gs8BZwC3AF3t6z7uK6GO/v2f8GioE0VV3g1t/jUC9BzAJKVHWPqrYAjwMLPY4p4qjqm8CxLrsXAn/2//xnnA+bsOomLk+parmqvuf/uQ7YjrPGuqf36xRxeU4d9f6nsf5N8f6edReXp0SkELgUeKDTblfu1VBPEAVAaafnZUTIH42fAi+LyDoRWeR1MF3k+Vf/w/+Y63E8nd0sIpv8VVBhr/rqICKjgTOB1UTQ/eoSF0TA/fJXmWwADgOvqGpE3LNu4gJv79k9wHcBX6d9rtyroZ4gJMA+z78hdDJPVWcClwA3+atUzKktBsYBM4By4C4vghCRFGApcKuq1noRQyAB4oqI+6Wq7ao6A2f9+VkicoYXcXTVTVye3TMRWQAcVtV14Xi/oZ4gyoCiTs8LgUMexfIRqnrI/3gYeBanSixSVPrrtTvqtw97HA8Aqlrp/6P2AX/Eg3vmr69eCjyqqs/4d3t+vwLFFQn3qzNVPQ6sxKnn9/yeBYrL43s2D/i0v33yceCTIvIXXLpXQz1BrAEmiMgYEYkDrgaWeRwTACKS7G9MRESSgYuALae+KqyWAV/2//xl4DkPYzmp44/E7zOE+Z75GzYfBLar6t2dDnl6v7qLy+v75Y8hR0Qy/D8nAhcA7+P9PQsYl5f3TFW/r6qFqjoa5/PqdVW9FrfulaoO6Q2Yj9OTaTfwf7yOp1NcY4GN/m2rl7EBf8UpSrfilLq+BmQBrwG7/I+ZERLXI8BmYJP/jyY/zDGdjVNNuQnY4N/me32/ThGXp/fLH9s0YL0/hi3Af/r3e33PuovL83vmj+M8YLmb92pId3M1xhjTvaFexWSMMaYbliCMMcYEZAnCGGNMQJYgjDHGBGQJwhhjTECWIIwxxgRkCcIYY0xA/x/N9Qlvkem/fAAAAABJRU5ErkJggg==\n",
=======
      "image/png": "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\n",
>>>>>>> 3b6ca04 (merge week)
      "text/plain": [
       "<Figure size 432x288 with 1 Axes>"
      ]
     },
     "metadata": {
      "needs_background": "light"
     },
     "output_type": "display_data"
    }
   ],
   "source": [
    "# your code goes here\n",
    "df_plot = df[\"film_replacement_cost\"].plot(kind=\"density\")\n",
    "mean_cost = df[\"film_replacement_cost\"].mean()\n",
    "median_cost = df[\"film_replacement_cost\"].median()\n",
<<<<<<< HEAD
    "df_plot.axvline(mean_cost, linestyle='dashed', color=\"red\")"
=======
    "df_plot.axvline(mean_cost, linestyle='dashed', color=\"red\")\n",
    "df_plot.axvline(median_cost, linestyle='dashed', color=\"green\")"
>>>>>>> 3b6ca04 (merge week)
   ]
  },
  {
   "cell_type": "code",
   "execution_count": 16,
   "metadata": {
    "cell_type": "solution"
   },
   "outputs": [
    {
     "data": {
      "text/plain": [
       "<matplotlib.lines.Line2D at 0x21bc2008250>"
      ]
     },
     "execution_count": 16,
     "metadata": {},
     "output_type": "execute_result"
    },
    {
     "data": {
      "image/png": "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\n",
      "text/plain": [
       "<Figure size 432x288 with 1 Axes>"
      ]
     },
     "metadata": {
      "needs_background": "light"
     },
     "output_type": "display_data"
    }
   ],
   "source": [
    "df_plot = df[\"film_replacement_cost\"].plot(kind=\"density\")\n",
    "mean_cost = df[\"film_replacement_cost\"].mean()\n",
    "median_cost = df[\"film_replacement_cost\"].median()\n",
    "df_plot.axvline(median_cost, linestyle='dashed', color=\"green\")"
   ]
  },
  {
   "cell_type": "markdown",
   "metadata": {},
   "source": [
    "![green-divider](https://user-images.githubusercontent.com/7065401/52071924-c003ad80-2562-11e9-8297-1c6595f8a7ff.png)\n",
    "\n",
    "### How many films of each rating do we have?\n",
    "\n",
    "- Show the raw count of each film rating.\n",
    "- Show a <b>bar plot</b> with all possible film ratings."
   ]
  },
  {
   "cell_type": "code",
   "execution_count": 13,
   "metadata": {},
   "outputs": [
    {
     "data": {
      "text/plain": [
       "PG-13    3585\n",
       "NC-17    3293\n",
       "PG       3212\n",
       "R        3181\n",
       "G        2773\n",
       "Name: film_rating, dtype: int64"
      ]
     },
     "execution_count": 13,
     "metadata": {},
     "output_type": "execute_result"
    }
   ],
   "source": [
    "# your code goes here\n",
    "df[\"film_rating\"].value_counts()"
   ]
  },
  {
   "cell_type": "code",
   "execution_count": null,
   "metadata": {
    "cell_type": "solution"
   },
   "outputs": [],
   "source": []
  },
  {
   "cell_type": "code",
   "execution_count": 14,
   "metadata": {},
   "outputs": [
    {
     "data": {
      "text/plain": [
       "<AxesSubplot:>"
      ]
     },
     "execution_count": 14,
     "metadata": {},
     "output_type": "execute_result"
    },
    {
     "data": {
      "image/png": "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\n",
      "text/plain": [
       "<Figure size 432x288 with 1 Axes>"
      ]
     },
     "metadata": {
      "needs_background": "light"
     },
     "output_type": "display_data"
    }
   ],
   "source": [
    "# your code goes here\n",
    "df[\"film_rating\"].value_counts().plot(kind=\"bar\")"
   ]
  },
  {
   "cell_type": "code",
   "execution_count": null,
   "metadata": {
    "cell_type": "solution"
   },
   "outputs": [],
   "source": []
  },
  {
   "cell_type": "markdown",
   "metadata": {},
   "source": [
    "![green-divider](https://user-images.githubusercontent.com/7065401/52071924-c003ad80-2562-11e9-8297-1c6595f8a7ff.png)\n",
    "\n",
    "### Does the film replacement cost vary depending on film rating?\n",
    "\n",
    "In the United States, film classification is a voluntary process with the ratings issued by the Motion Picture Association of America (MPAA) via the Classification and Rating Administration (CARA).\n",
    "\n",
    "- G (General Audiences): All Ages are Admitted.\n",
    "- PG (Parental Guidance Suggested): Some Material May Not Be Suitable for Children.\n",
    "- PG-13 (Parents Strongly Cautioned): Some Material May Be Inappropriate for Children Under 13.\n",
    "- R (Restricted): Under 17 Requires Accompanying Parent or Adult Guardian.\n",
    "- NC-17 (Adults Only): No One 17 and Under Admitted.\n",
    "\n",
    "Show a <b>grouped box plot</b> per film rating with the film replacement costs."
   ]
  },
  {
   "cell_type": "code",
   "execution_count": 15,
   "metadata": {},
   "outputs": [
    {
     "data": {
      "text/plain": [
       "<AxesSubplot:title={'center':'film_replacement_cost'}, xlabel='film_rating'>"
      ]
     },
     "execution_count": 15,
     "metadata": {},
     "output_type": "execute_result"
    },
    {
     "data": {
      "image/png": "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\n",
      "text/plain": [
       "<Figure size 432x288 with 1 Axes>"
      ]
     },
     "metadata": {
      "needs_background": "light"
     },
     "output_type": "display_data"
    }
   ],
   "source": [
    "# your code goes here\n",
    "df.boxplot(column=\"film_replacement_cost\", by=\"film_rating\")"
   ]
  },
  {
   "cell_type": "code",
   "execution_count": null,
   "metadata": {
    "cell_type": "solution"
   },
   "outputs": [],
   "source": []
  },
  {
   "cell_type": "markdown",
   "metadata": {},
   "source": [
    "![green-divider](https://user-images.githubusercontent.com/7065401/52071924-c003ad80-2562-11e9-8297-1c6595f8a7ff.png)\n",
    "\n",
    "### Add and calculate a new `rental_days` column\n",
    "\n",
    "This numeric column should have the count of days between `rental_date` and `return_date`."
   ]
  },
  {
   "cell_type": "code",
   "execution_count": 16,
   "metadata": {},
   "outputs": [
    {
     "name": "stdout",
     "output_type": "stream",
     "text": [
      "rental_id\n",
      "1        1.0\n",
      "2        3.0\n",
      "3        7.0\n",
      "4        9.0\n",
      "5        8.0\n",
      "        ... \n",
      "16045    2.0\n",
      "16046    3.0\n",
      "16047    1.0\n",
      "16048    7.0\n",
      "16049    6.0\n",
      "Name: rental_days, Length: 16044, dtype: float64\n"
     ]
    }
   ],
   "source": [
    "# your code goes here\n",
    "columns = [\"rental_date\", \"return_date\"]\n",
    "df[\"rental_days\"] = df[columns].apply(lambda x: (x[1] - x[0]).days, axis = 1)\n",
    "print(df[\"rental_days\"])"
   ]
  },
  {
   "cell_type": "code",
   "execution_count": null,
   "metadata": {
    "cell_type": "solution"
   },
   "outputs": [],
   "source": []
  },
  {
   "cell_type": "markdown",
   "metadata": {},
   "source": [
    "![green-divider](https://user-images.githubusercontent.com/7065401/52071924-c003ad80-2562-11e9-8297-1c6595f8a7ff.png)\n",
    "\n",
    "### Analyze the distribution of `rental_days`\n",
    "\n",
    "- Calculate the mean of `rental_days`.\n",
    "- Show a <b>density (KDE)</b> of `rental_days`."
   ]
  },
  {
   "cell_type": "code",
   "execution_count": 17,
   "metadata": {},
   "outputs": [
    {
     "data": {
      "text/plain": [
       "4.525944139713763"
      ]
     },
     "execution_count": 17,
     "metadata": {},
     "output_type": "execute_result"
    }
   ],
   "source": [
    "# your code goes here\n",
    "df[\"rental_days\"].mean()"
   ]
  },
  {
   "cell_type": "code",
   "execution_count": null,
   "metadata": {
    "cell_type": "solution"
   },
   "outputs": [],
   "source": []
  },
  {
   "cell_type": "code",
   "execution_count": 18,
   "metadata": {},
   "outputs": [
    {
     "data": {
      "text/plain": [
       "<matplotlib.lines.Line2D at 0x1c05fdb6bb0>"
      ]
     },
     "execution_count": 18,
     "metadata": {},
     "output_type": "execute_result"
    },
    {
     "data": {
      "image/png": "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\n",
      "text/plain": [
       "<Figure size 432x288 with 1 Axes>"
      ]
     },
     "metadata": {
      "needs_background": "light"
     },
     "output_type": "display_data"
    }
   ],
   "source": [
    "# your code goes here\n",
    "rental_days = df[\"rental_days\"].plot(kind=\"kde\")\n",
    "mean_rental = df[\"rental_days\"].mean()\n",
    "rental_days.axvline(mean_rental, color=\"red\")"
   ]
  },
  {
   "cell_type": "code",
   "execution_count": null,
   "metadata": {
    "cell_type": "solution"
   },
   "outputs": [],
   "source": []
  },
  {
   "cell_type": "markdown",
   "metadata": {},
   "source": [
    "![green-divider](https://user-images.githubusercontent.com/7065401/52071924-c003ad80-2562-11e9-8297-1c6595f8a7ff.png)\n",
    "\n",
    "### Add and calculate a new `film_daily_rental_rate` column\n",
    "\n",
    "This value should be the division of `film_rental_rate` by `film_rental_duration`."
   ]
  },
  {
   "cell_type": "code",
   "execution_count": 19,
   "metadata": {},
   "outputs": [
    {
     "name": "stdout",
     "output_type": "stream",
     "text": [
      "rental_id\n",
      "1        0.427143\n",
      "2        0.427143\n",
      "3        0.427143\n",
      "4        0.165000\n",
      "5        0.598000\n",
      "           ...   \n",
      "16045    0.198000\n",
      "16046    0.165000\n",
      "16047    0.247500\n",
      "16048    1.247500\n",
      "16049    0.247500\n",
      "Name: film_daily_rental_rate, Length: 16044, dtype: float64\n"
     ]
    }
   ],
   "source": [
    "# your code goes here\n",
    "columns = [\"film_rental_rate\", \"film_rental_duration\"]\n",
    "df[\"film_daily_rental_rate\"] = df[columns].apply(lambda col: (col[0] / col[1]), axis=1)\n",
    "print(df[\"film_daily_rental_rate\"])"
   ]
  },
  {
   "cell_type": "code",
   "execution_count": null,
   "metadata": {
    "cell_type": "solution"
   },
   "outputs": [],
   "source": []
  },
  {
   "cell_type": "markdown",
   "metadata": {},
   "source": [
    "![green-divider](https://user-images.githubusercontent.com/7065401/52071924-c003ad80-2562-11e9-8297-1c6595f8a7ff.png)\n",
    "\n",
    "### Analyze the distribution of `film_daily_rental_rate`\n",
    "\n",
    "- Calculate the mean of `film_daily_rental_rate`.\n",
    "- Show a <b>density (KDE)</b> of `film_daily_rental_rate`."
   ]
  },
  {
   "cell_type": "code",
   "execution_count": 20,
   "metadata": {},
   "outputs": [
    {
     "name": "stdout",
     "output_type": "stream",
     "text": [
      "0.6458262471655172\n"
     ]
    }
   ],
   "source": [
    "# your code goes here\n",
    "mean_rate = df[\"film_daily_rental_rate\"].mean()\n",
    "print(mean_rate)"
   ]
  },
  {
   "cell_type": "code",
   "execution_count": null,
   "metadata": {
    "cell_type": "solution"
   },
   "outputs": [],
   "source": []
  },
  {
   "cell_type": "code",
   "execution_count": 21,
   "metadata": {},
   "outputs": [
    {
     "data": {
      "text/plain": [
       "<matplotlib.lines.Line2D at 0x1c0629083d0>"
      ]
     },
     "execution_count": 21,
     "metadata": {},
     "output_type": "execute_result"
    },
    {
     "data": {
      "image/png": "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\n",
      "text/plain": [
       "<Figure size 432x288 with 1 Axes>"
      ]
     },
     "metadata": {
      "needs_background": "light"
     },
     "output_type": "display_data"
    }
   ],
   "source": [
    "# your code goes here\n",
    "rate_plot = df[\"film_daily_rental_rate\"].plot(kind=\"kde\")\n",
    "rate_plot.axvline(mean_rate, color=\"red\")"
   ]
  },
  {
   "cell_type": "code",
   "execution_count": null,
   "metadata": {
    "cell_type": "solution"
   },
   "outputs": [],
   "source": []
  },
  {
   "cell_type": "markdown",
   "metadata": {},
   "source": [
    "![green-divider](https://user-images.githubusercontent.com/7065401/52071924-c003ad80-2562-11e9-8297-1c6595f8a7ff.png)\n",
    "\n",
    "### List 10 films with the lowest daily rental rate"
   ]
  },
  {
   "cell_type": "code",
   "execution_count": 22,
   "metadata": {},
   "outputs": [
    {
     "data": {
      "text/html": [
       "<div>\n",
       "<style scoped>\n",
       "    .dataframe tbody tr th:only-of-type {\n",
       "        vertical-align: middle;\n",
       "    }\n",
       "\n",
       "    .dataframe tbody tr th {\n",
       "        vertical-align: top;\n",
       "    }\n",
       "\n",
       "    .dataframe thead th {\n",
       "        text-align: right;\n",
       "    }\n",
       "</style>\n",
       "<table border=\"1\" class=\"dataframe\">\n",
       "  <thead>\n",
       "    <tr style=\"text-align: right;\">\n",
       "      <th></th>\n",
       "      <th>rental_date</th>\n",
       "      <th>return_date</th>\n",
       "      <th>customer_lastname</th>\n",
       "      <th>store_id</th>\n",
       "      <th>rental_store_city</th>\n",
       "      <th>film_title</th>\n",
       "      <th>film_rental_duration</th>\n",
       "      <th>film_rental_rate</th>\n",
       "      <th>film_replacement_cost</th>\n",
       "      <th>film_rating</th>\n",
       "      <th>rental_days</th>\n",
       "      <th>film_daily_rental_rate</th>\n",
       "    </tr>\n",
       "    <tr>\n",
       "      <th>rental_id</th>\n",
       "      <th></th>\n",
       "      <th></th>\n",
       "      <th></th>\n",
       "      <th></th>\n",
       "      <th></th>\n",
       "      <th></th>\n",
       "      <th></th>\n",
       "      <th></th>\n",
       "      <th></th>\n",
       "      <th></th>\n",
       "      <th></th>\n",
       "      <th></th>\n",
       "    </tr>\n",
       "  </thead>\n",
       "  <tbody>\n",
       "    <tr>\n",
       "      <th>14877</th>\n",
       "      <td>2005-08-22 03:39:56</td>\n",
       "      <td>2005-08-24 03:41:56</td>\n",
       "      <td>HERRERA</td>\n",
       "      <td>1</td>\n",
       "      <td>Lethbridge</td>\n",
       "      <td>DECEIVER BETRAYED</td>\n",
       "      <td>7</td>\n",
       "      <td>0.99</td>\n",
       "      <td>22.99</td>\n",
       "      <td>NC-17</td>\n",
       "      <td>2.0</td>\n",
       "      <td>0.141429</td>\n",
       "    </tr>\n",
       "    <tr>\n",
       "      <th>5734</th>\n",
       "      <td>2005-07-10 11:37:28</td>\n",
       "      <td>2005-07-16 11:10:28</td>\n",
       "      <td>BOWENS</td>\n",
       "      <td>1</td>\n",
       "      <td>Lethbridge</td>\n",
       "      <td>BORROWERS BEDAZZLED</td>\n",
       "      <td>7</td>\n",
       "      <td>0.99</td>\n",
       "      <td>22.99</td>\n",
       "      <td>G</td>\n",
       "      <td>5.0</td>\n",
       "      <td>0.141429</td>\n",
       "    </tr>\n",
       "    <tr>\n",
       "      <th>11899</th>\n",
       "      <td>2005-08-17 15:29:12</td>\n",
       "      <td>2005-08-24 17:41:12</td>\n",
       "      <td>PERRY</td>\n",
       "      <td>2</td>\n",
       "      <td>Woodridge</td>\n",
       "      <td>PRIMARY GLASS</td>\n",
       "      <td>7</td>\n",
       "      <td>0.99</td>\n",
       "      <td>16.99</td>\n",
       "      <td>G</td>\n",
       "      <td>7.0</td>\n",
       "      <td>0.141429</td>\n",
       "    </tr>\n",
       "    <tr>\n",
       "      <th>4210</th>\n",
       "      <td>2005-07-07 11:36:20</td>\n",
       "      <td>2005-07-16 12:38:20</td>\n",
       "      <td>WOFFORD</td>\n",
       "      <td>2</td>\n",
       "      <td>Woodridge</td>\n",
       "      <td>HOOK CHARIOTS</td>\n",
       "      <td>7</td>\n",
       "      <td>0.99</td>\n",
       "      <td>23.99</td>\n",
       "      <td>G</td>\n",
       "      <td>9.0</td>\n",
       "      <td>0.141429</td>\n",
       "    </tr>\n",
       "    <tr>\n",
       "      <th>7215</th>\n",
       "      <td>2005-07-27 09:24:00</td>\n",
       "      <td>2005-08-05 07:37:00</td>\n",
       "      <td>OLIVARES</td>\n",
       "      <td>2</td>\n",
       "      <td>Woodridge</td>\n",
       "      <td>MOON BUNCH</td>\n",
       "      <td>7</td>\n",
       "      <td>0.99</td>\n",
       "      <td>20.99</td>\n",
       "      <td>PG</td>\n",
       "      <td>8.0</td>\n",
       "      <td>0.141429</td>\n",
       "    </tr>\n",
       "    <tr>\n",
       "      <th>1268</th>\n",
       "      <td>2005-06-15 07:29:30</td>\n",
       "      <td>2005-06-23 12:36:30</td>\n",
       "      <td>BURNS</td>\n",
       "      <td>1</td>\n",
       "      <td>Lethbridge</td>\n",
       "      <td>SIEGE MADRE</td>\n",
       "      <td>7</td>\n",
       "      <td>0.99</td>\n",
       "      <td>23.99</td>\n",
       "      <td>R</td>\n",
       "      <td>8.0</td>\n",
       "      <td>0.141429</td>\n",
       "    </tr>\n",
       "    <tr>\n",
       "      <th>7229</th>\n",
       "      <td>2005-07-27 10:00:54</td>\n",
       "      <td>2005-07-28 13:58:54</td>\n",
       "      <td>LANE</td>\n",
       "      <td>2</td>\n",
       "      <td>Woodridge</td>\n",
       "      <td>DECEIVER BETRAYED</td>\n",
       "      <td>7</td>\n",
       "      <td>0.99</td>\n",
       "      <td>22.99</td>\n",
       "      <td>NC-17</td>\n",
       "      <td>1.0</td>\n",
       "      <td>0.141429</td>\n",
       "    </tr>\n",
       "    <tr>\n",
       "      <th>7231</th>\n",
       "      <td>2005-07-27 10:01:51</td>\n",
       "      <td>2005-08-05 13:38:51</td>\n",
       "      <td>LONG</td>\n",
       "      <td>2</td>\n",
       "      <td>Woodridge</td>\n",
       "      <td>GILBERT PELICAN</td>\n",
       "      <td>7</td>\n",
       "      <td>0.99</td>\n",
       "      <td>13.99</td>\n",
       "      <td>G</td>\n",
       "      <td>9.0</td>\n",
       "      <td>0.141429</td>\n",
       "    </tr>\n",
       "    <tr>\n",
       "      <th>7235</th>\n",
       "      <td>2005-07-27 10:09:30</td>\n",
       "      <td>2005-08-05 11:44:30</td>\n",
       "      <td>NGO</td>\n",
       "      <td>1</td>\n",
       "      <td>Lethbridge</td>\n",
       "      <td>EMPIRE MALKOVICH</td>\n",
       "      <td>7</td>\n",
       "      <td>0.99</td>\n",
       "      <td>26.99</td>\n",
       "      <td>G</td>\n",
       "      <td>9.0</td>\n",
       "      <td>0.141429</td>\n",
       "    </tr>\n",
       "    <tr>\n",
       "      <th>5724</th>\n",
       "      <td>2005-07-10 11:18:12</td>\n",
       "      <td>2005-07-16 14:53:12</td>\n",
       "      <td>RODRIQUEZ</td>\n",
       "      <td>2</td>\n",
       "      <td>Woodridge</td>\n",
       "      <td>SHEPHERD MIDSUMMER</td>\n",
       "      <td>7</td>\n",
       "      <td>0.99</td>\n",
       "      <td>14.99</td>\n",
       "      <td>R</td>\n",
       "      <td>6.0</td>\n",
       "      <td>0.141429</td>\n",
       "    </tr>\n",
       "  </tbody>\n",
       "</table>\n",
       "</div>"
      ],
      "text/plain": [
       "                  rental_date         return_date customer_lastname  store_id  \\\n",
       "rental_id                                                                       \n",
       "14877     2005-08-22 03:39:56 2005-08-24 03:41:56           HERRERA         1   \n",
       "5734      2005-07-10 11:37:28 2005-07-16 11:10:28            BOWENS         1   \n",
       "11899     2005-08-17 15:29:12 2005-08-24 17:41:12             PERRY         2   \n",
       "4210      2005-07-07 11:36:20 2005-07-16 12:38:20           WOFFORD         2   \n",
       "7215      2005-07-27 09:24:00 2005-08-05 07:37:00          OLIVARES         2   \n",
       "1268      2005-06-15 07:29:30 2005-06-23 12:36:30             BURNS         1   \n",
       "7229      2005-07-27 10:00:54 2005-07-28 13:58:54              LANE         2   \n",
       "7231      2005-07-27 10:01:51 2005-08-05 13:38:51              LONG         2   \n",
       "7235      2005-07-27 10:09:30 2005-08-05 11:44:30               NGO         1   \n",
       "5724      2005-07-10 11:18:12 2005-07-16 14:53:12         RODRIQUEZ         2   \n",
       "\n",
       "          rental_store_city           film_title  film_rental_duration  \\\n",
       "rental_id                                                                \n",
       "14877            Lethbridge    DECEIVER BETRAYED                     7   \n",
       "5734             Lethbridge  BORROWERS BEDAZZLED                     7   \n",
       "11899             Woodridge        PRIMARY GLASS                     7   \n",
       "4210              Woodridge        HOOK CHARIOTS                     7   \n",
       "7215              Woodridge           MOON BUNCH                     7   \n",
       "1268             Lethbridge          SIEGE MADRE                     7   \n",
       "7229              Woodridge    DECEIVER BETRAYED                     7   \n",
       "7231              Woodridge      GILBERT PELICAN                     7   \n",
       "7235             Lethbridge     EMPIRE MALKOVICH                     7   \n",
       "5724              Woodridge   SHEPHERD MIDSUMMER                     7   \n",
       "\n",
       "           film_rental_rate  film_replacement_cost film_rating  rental_days  \\\n",
       "rental_id                                                                     \n",
       "14877                  0.99                  22.99       NC-17          2.0   \n",
       "5734                   0.99                  22.99           G          5.0   \n",
       "11899                  0.99                  16.99           G          7.0   \n",
       "4210                   0.99                  23.99           G          9.0   \n",
       "7215                   0.99                  20.99          PG          8.0   \n",
       "1268                   0.99                  23.99           R          8.0   \n",
       "7229                   0.99                  22.99       NC-17          1.0   \n",
       "7231                   0.99                  13.99           G          9.0   \n",
       "7235                   0.99                  26.99           G          9.0   \n",
       "5724                   0.99                  14.99           R          6.0   \n",
       "\n",
       "           film_daily_rental_rate  \n",
       "rental_id                          \n",
       "14877                    0.141429  \n",
       "5734                     0.141429  \n",
       "11899                    0.141429  \n",
       "4210                     0.141429  \n",
       "7215                     0.141429  \n",
       "1268                     0.141429  \n",
       "7229                     0.141429  \n",
       "7231                     0.141429  \n",
       "7235                     0.141429  \n",
       "5724                     0.141429  "
      ]
     },
     "execution_count": 22,
     "metadata": {},
     "output_type": "execute_result"
    }
   ],
   "source": [
    "# your code goes here\n",
    "df.sort_values([\"film_daily_rental_rate\"]).head(10)"
   ]
  },
  {
   "cell_type": "code",
   "execution_count": null,
   "metadata": {
    "cell_type": "solution"
   },
   "outputs": [],
   "source": []
  },
  {
   "cell_type": "markdown",
   "metadata": {},
   "source": [
    "![green-divider](https://user-images.githubusercontent.com/7065401/52071924-c003ad80-2562-11e9-8297-1c6595f8a7ff.png)\n",
    "\n",
    "### List 10 films with the highest daily rental rate"
   ]
  },
  {
   "cell_type": "code",
   "execution_count": 23,
   "metadata": {},
   "outputs": [
    {
     "data": {
      "text/html": [
       "<div>\n",
       "<style scoped>\n",
       "    .dataframe tbody tr th:only-of-type {\n",
       "        vertical-align: middle;\n",
       "    }\n",
       "\n",
       "    .dataframe tbody tr th {\n",
       "        vertical-align: top;\n",
       "    }\n",
       "\n",
       "    .dataframe thead th {\n",
       "        text-align: right;\n",
       "    }\n",
       "</style>\n",
       "<table border=\"1\" class=\"dataframe\">\n",
       "  <thead>\n",
       "    <tr style=\"text-align: right;\">\n",
       "      <th></th>\n",
       "      <th>rental_date</th>\n",
       "      <th>return_date</th>\n",
       "      <th>customer_lastname</th>\n",
       "      <th>store_id</th>\n",
       "      <th>rental_store_city</th>\n",
       "      <th>film_title</th>\n",
       "      <th>film_rental_duration</th>\n",
       "      <th>film_rental_rate</th>\n",
       "      <th>film_replacement_cost</th>\n",
       "      <th>film_rating</th>\n",
       "      <th>rental_days</th>\n",
       "      <th>film_daily_rental_rate</th>\n",
       "    </tr>\n",
       "    <tr>\n",
       "      <th>rental_id</th>\n",
       "      <th></th>\n",
       "      <th></th>\n",
       "      <th></th>\n",
       "      <th></th>\n",
       "      <th></th>\n",
       "      <th></th>\n",
       "      <th></th>\n",
       "      <th></th>\n",
       "      <th></th>\n",
       "      <th></th>\n",
       "      <th></th>\n",
       "      <th></th>\n",
       "    </tr>\n",
       "  </thead>\n",
       "  <tbody>\n",
       "    <tr>\n",
       "      <th>14763</th>\n",
       "      <td>2005-08-21 23:34:00</td>\n",
       "      <td>2005-08-31 03:58:00</td>\n",
       "      <td>GIBSON</td>\n",
       "      <td>1</td>\n",
       "      <td>Lethbridge</td>\n",
       "      <td>FLINTSTONES HAPPINESS</td>\n",
       "      <td>3</td>\n",
       "      <td>4.99</td>\n",
       "      <td>11.99</td>\n",
       "      <td>PG-13</td>\n",
       "      <td>9.0</td>\n",
       "      <td>1.663333</td>\n",
       "    </tr>\n",
       "    <tr>\n",
       "      <th>7055</th>\n",
       "      <td>2005-07-27 03:45:42</td>\n",
       "      <td>2005-07-30 05:11:42</td>\n",
       "      <td>GRANT</td>\n",
       "      <td>1</td>\n",
       "      <td>Lethbridge</td>\n",
       "      <td>VELVET TERMINATOR</td>\n",
       "      <td>3</td>\n",
       "      <td>4.99</td>\n",
       "      <td>14.99</td>\n",
       "      <td>R</td>\n",
       "      <td>3.0</td>\n",
       "      <td>1.663333</td>\n",
       "    </tr>\n",
       "    <tr>\n",
       "      <th>7014</th>\n",
       "      <td>2005-07-27 02:14:40</td>\n",
       "      <td>2005-08-03 00:32:40</td>\n",
       "      <td>ELY</td>\n",
       "      <td>2</td>\n",
       "      <td>Woodridge</td>\n",
       "      <td>CLERKS ANGELS</td>\n",
       "      <td>3</td>\n",
       "      <td>4.99</td>\n",
       "      <td>15.99</td>\n",
       "      <td>G</td>\n",
       "      <td>6.0</td>\n",
       "      <td>1.663333</td>\n",
       "    </tr>\n",
       "    <tr>\n",
       "      <th>1855</th>\n",
       "      <td>2005-06-17 00:54:58</td>\n",
       "      <td>2005-06-20 19:29:58</td>\n",
       "      <td>KRAUS</td>\n",
       "      <td>2</td>\n",
       "      <td>Woodridge</td>\n",
       "      <td>WIFE TURN</td>\n",
       "      <td>3</td>\n",
       "      <td>4.99</td>\n",
       "      <td>27.99</td>\n",
       "      <td>NC-17</td>\n",
       "      <td>3.0</td>\n",
       "      <td>1.663333</td>\n",
       "    </tr>\n",
       "    <tr>\n",
       "      <th>11511</th>\n",
       "      <td>2005-08-16 23:39:59</td>\n",
       "      <td>2005-08-18 18:04:59</td>\n",
       "      <td>SCHRADER</td>\n",
       "      <td>2</td>\n",
       "      <td>Woodridge</td>\n",
       "      <td>INNOCENT USUAL</td>\n",
       "      <td>3</td>\n",
       "      <td>4.99</td>\n",
       "      <td>26.99</td>\n",
       "      <td>PG-13</td>\n",
       "      <td>1.0</td>\n",
       "      <td>1.663333</td>\n",
       "    </tr>\n",
       "    <tr>\n",
       "      <th>1849</th>\n",
       "      <td>2005-06-17 00:13:19</td>\n",
       "      <td>2005-06-23 18:37:19</td>\n",
       "      <td>MENARD</td>\n",
       "      <td>1</td>\n",
       "      <td>Lethbridge</td>\n",
       "      <td>MAIDEN HOME</td>\n",
       "      <td>3</td>\n",
       "      <td>4.99</td>\n",
       "      <td>9.99</td>\n",
       "      <td>PG</td>\n",
       "      <td>6.0</td>\n",
       "      <td>1.663333</td>\n",
       "    </tr>\n",
       "    <tr>\n",
       "      <th>1844</th>\n",
       "      <td>2005-06-16 23:53:53</td>\n",
       "      <td>2005-06-22 02:19:53</td>\n",
       "      <td>GRESHAM</td>\n",
       "      <td>2</td>\n",
       "      <td>Woodridge</td>\n",
       "      <td>KISSING DOLLS</td>\n",
       "      <td>3</td>\n",
       "      <td>4.99</td>\n",
       "      <td>9.99</td>\n",
       "      <td>R</td>\n",
       "      <td>5.0</td>\n",
       "      <td>1.663333</td>\n",
       "    </tr>\n",
       "    <tr>\n",
       "      <th>11503</th>\n",
       "      <td>2005-08-16 23:10:34</td>\n",
       "      <td>2005-08-25 03:55:34</td>\n",
       "      <td>SEAL</td>\n",
       "      <td>2</td>\n",
       "      <td>Woodridge</td>\n",
       "      <td>FOOL MOCKINGBIRD</td>\n",
       "      <td>3</td>\n",
       "      <td>4.99</td>\n",
       "      <td>24.99</td>\n",
       "      <td>PG</td>\n",
       "      <td>8.0</td>\n",
       "      <td>1.663333</td>\n",
       "    </tr>\n",
       "    <tr>\n",
       "      <th>1835</th>\n",
       "      <td>2005-06-16 23:05:36</td>\n",
       "      <td>2005-06-19 04:46:36</td>\n",
       "      <td>REYNOLDS</td>\n",
       "      <td>1</td>\n",
       "      <td>Lethbridge</td>\n",
       "      <td>FLINTSTONES HAPPINESS</td>\n",
       "      <td>3</td>\n",
       "      <td>4.99</td>\n",
       "      <td>11.99</td>\n",
       "      <td>PG-13</td>\n",
       "      <td>2.0</td>\n",
       "      <td>1.663333</td>\n",
       "    </tr>\n",
       "    <tr>\n",
       "      <th>14862</th>\n",
       "      <td>2005-08-22 02:51:41</td>\n",
       "      <td>2005-08-28 06:30:41</td>\n",
       "      <td>WOOD</td>\n",
       "      <td>1</td>\n",
       "      <td>Lethbridge</td>\n",
       "      <td>SATISFACTION CONFIDENTIAL</td>\n",
       "      <td>3</td>\n",
       "      <td>4.99</td>\n",
       "      <td>26.99</td>\n",
       "      <td>G</td>\n",
       "      <td>6.0</td>\n",
       "      <td>1.663333</td>\n",
       "    </tr>\n",
       "  </tbody>\n",
       "</table>\n",
       "</div>"
      ],
      "text/plain": [
       "                  rental_date         return_date customer_lastname  store_id  \\\n",
       "rental_id                                                                       \n",
       "14763     2005-08-21 23:34:00 2005-08-31 03:58:00            GIBSON         1   \n",
       "7055      2005-07-27 03:45:42 2005-07-30 05:11:42             GRANT         1   \n",
       "7014      2005-07-27 02:14:40 2005-08-03 00:32:40               ELY         2   \n",
       "1855      2005-06-17 00:54:58 2005-06-20 19:29:58             KRAUS         2   \n",
       "11511     2005-08-16 23:39:59 2005-08-18 18:04:59          SCHRADER         2   \n",
       "1849      2005-06-17 00:13:19 2005-06-23 18:37:19            MENARD         1   \n",
       "1844      2005-06-16 23:53:53 2005-06-22 02:19:53           GRESHAM         2   \n",
       "11503     2005-08-16 23:10:34 2005-08-25 03:55:34              SEAL         2   \n",
       "1835      2005-06-16 23:05:36 2005-06-19 04:46:36          REYNOLDS         1   \n",
       "14862     2005-08-22 02:51:41 2005-08-28 06:30:41              WOOD         1   \n",
       "\n",
       "          rental_store_city                 film_title  film_rental_duration  \\\n",
       "rental_id                                                                      \n",
       "14763            Lethbridge      FLINTSTONES HAPPINESS                     3   \n",
       "7055             Lethbridge          VELVET TERMINATOR                     3   \n",
       "7014              Woodridge              CLERKS ANGELS                     3   \n",
       "1855              Woodridge                  WIFE TURN                     3   \n",
       "11511             Woodridge             INNOCENT USUAL                     3   \n",
       "1849             Lethbridge                MAIDEN HOME                     3   \n",
       "1844              Woodridge              KISSING DOLLS                     3   \n",
       "11503             Woodridge           FOOL MOCKINGBIRD                     3   \n",
       "1835             Lethbridge      FLINTSTONES HAPPINESS                     3   \n",
       "14862            Lethbridge  SATISFACTION CONFIDENTIAL                     3   \n",
       "\n",
       "           film_rental_rate  film_replacement_cost film_rating  rental_days  \\\n",
       "rental_id                                                                     \n",
       "14763                  4.99                  11.99       PG-13          9.0   \n",
       "7055                   4.99                  14.99           R          3.0   \n",
       "7014                   4.99                  15.99           G          6.0   \n",
       "1855                   4.99                  27.99       NC-17          3.0   \n",
       "11511                  4.99                  26.99       PG-13          1.0   \n",
       "1849                   4.99                   9.99          PG          6.0   \n",
       "1844                   4.99                   9.99           R          5.0   \n",
       "11503                  4.99                  24.99          PG          8.0   \n",
       "1835                   4.99                  11.99       PG-13          2.0   \n",
       "14862                  4.99                  26.99           G          6.0   \n",
       "\n",
       "           film_daily_rental_rate  \n",
       "rental_id                          \n",
       "14763                    1.663333  \n",
       "7055                     1.663333  \n",
       "7014                     1.663333  \n",
       "1855                     1.663333  \n",
       "11511                    1.663333  \n",
       "1849                     1.663333  \n",
       "1844                     1.663333  \n",
       "11503                    1.663333  \n",
       "1835                     1.663333  \n",
       "14862                    1.663333  "
      ]
     },
     "execution_count": 23,
     "metadata": {},
     "output_type": "execute_result"
    }
   ],
   "source": [
    "# your code goes here\n",
    "df.sort_values([\"film_daily_rental_rate\"], ascending=False).head(10)"
   ]
  },
  {
   "cell_type": "code",
   "execution_count": null,
   "metadata": {
    "cell_type": "solution"
   },
   "outputs": [],
   "source": []
  },
  {
   "cell_type": "markdown",
   "metadata": {},
   "source": [
    "![green-divider](https://user-images.githubusercontent.com/7065401/52071924-c003ad80-2562-11e9-8297-1c6595f8a7ff.png)\n",
    "\n",
    "### How many rentals were made in Lethbridge city?"
   ]
  },
  {
   "cell_type": "code",
   "execution_count": 24,
   "metadata": {},
   "outputs": [
    {
     "data": {
      "text/plain": [
       "7923"
      ]
     },
     "execution_count": 24,
     "metadata": {},
     "output_type": "execute_result"
    }
   ],
   "source": [
    "# your code goes here\n",
    "condition = df[\"rental_store_city\"] == \"Lethbridge\"\n",
    "df.loc[condition].shape[0]"
   ]
  },
  {
   "cell_type": "code",
   "execution_count": null,
   "metadata": {
    "cell_type": "solution"
   },
   "outputs": [],
   "source": []
  },
  {
   "cell_type": "markdown",
   "metadata": {},
   "source": [
    "![green-divider](https://user-images.githubusercontent.com/7065401/52071924-c003ad80-2562-11e9-8297-1c6595f8a7ff.png)\n",
    "\n",
    "### How many rentals of each film rating were made in Lethbridge city?\n",
    "\n",
    "Show a <b>bar plot</b> with each film rating count."
   ]
  },
  {
   "cell_type": "code",
   "execution_count": 25,
   "metadata": {},
   "outputs": [
    {
     "data": {
      "text/plain": [
       "PG-13    1849\n",
       "NC-17    1625\n",
       "R        1537\n",
       "PG       1535\n",
       "G        1377\n",
       "Name: film_rating, dtype: int64"
      ]
     },
     "execution_count": 25,
     "metadata": {},
     "output_type": "execute_result"
    }
   ],
   "source": [
    "# your code goes here\n",
    "condition = df[\"rental_store_city\"] == \"Lethbridge\"\n",
    "df.loc[condition, \"film_rating\"].value_counts()"
   ]
  },
  {
   "cell_type": "code",
   "execution_count": 27,
   "metadata": {
    "cell_type": "solution"
   },
   "outputs": [
    {
     "data": {
      "text/plain": [
       "<AxesSubplot:>"
      ]
     },
     "execution_count": 27,
     "metadata": {},
     "output_type": "execute_result"
    },
    {
     "data": {
      "image/png": "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\n",
      "text/plain": [
       "<Figure size 432x288 with 1 Axes>"
      ]
     },
     "metadata": {
      "needs_background": "light"
     },
     "output_type": "display_data"
    }
   ],
   "source": [
    "df.loc[condition, \"film_rating\"].value_counts().plot(kind=\"bar\")"
   ]
  },
  {
   "cell_type": "code",
   "execution_count": null,
   "metadata": {
    "cell_type": "solution"
   },
   "outputs": [],
   "source": []
  },
  {
   "cell_type": "markdown",
   "metadata": {},
   "source": [
    "![green-divider](https://user-images.githubusercontent.com/7065401/52071924-c003ad80-2562-11e9-8297-1c6595f8a7ff.png)\n",
    "\n",
    "### How many rentals were made in Woodridge city with rental duration higher than 5 days?"
   ]
  },
  {
   "cell_type": "code",
   "execution_count": 28,
   "metadata": {},
   "outputs": [
    {
     "data": {
      "text/plain": [
       "3186"
      ]
     },
     "execution_count": 28,
     "metadata": {},
     "output_type": "execute_result"
    }
   ],
   "source": [
    "# your code goes here\n",
    "condition = (df[\"rental_store_city\"] == \"Woodridge\") & (df[\"film_rental_duration\"] > 5)\n",
    "df.loc[condition].shape[0]"
   ]
  },
  {
   "cell_type": "code",
   "execution_count": null,
   "metadata": {
    "cell_type": "solution"
   },
   "outputs": [],
   "source": []
  },
  {
   "cell_type": "markdown",
   "metadata": {},
   "source": [
    "![green-divider](https://user-images.githubusercontent.com/7065401/52071924-c003ad80-2562-11e9-8297-1c6595f8a7ff.png)\n",
    "\n",
    "### How many rentals were made at the store with id 2 or with replacement cost lower than 10.99 USD?"
   ]
  },
  {
   "cell_type": "code",
   "execution_count": 29,
   "metadata": {},
   "outputs": [
    {
     "data": {
      "text/plain": [
       "8444"
      ]
     },
     "execution_count": 29,
     "metadata": {},
     "output_type": "execute_result"
    }
   ],
   "source": [
    "# your code goes here\n",
    "condition = (df[\"store_id\"] == 2) | (df[\"film_replacement_cost\"] < 10.99)\n",
    "df.loc[condition].shape[0]"
   ]
  },
  {
   "cell_type": "code",
   "execution_count": null,
   "metadata": {
    "cell_type": "solution"
   },
   "outputs": [],
   "source": []
  },
  {
   "cell_type": "markdown",
   "metadata": {},
   "source": [
    "![purple-divider](https://user-images.githubusercontent.com/7065401/52071927-c1cd7100-2562-11e9-908a-dde91ba14e59.png)"
   ]
  }
 ],
 "metadata": {
  "kernelspec": {
   "display_name": "Python 3 (ipykernel)",
   "language": "python",
   "name": "python3"
  },
  "language_info": {
   "codemirror_mode": {
    "name": "ipython",
    "version": 3
   },
   "file_extension": ".py",
   "mimetype": "text/x-python",
   "name": "python",
   "nbconvert_exporter": "python",
   "pygments_lexer": "ipython3",
   "version": "3.9.12"
  }
 },
 "nbformat": 4,
 "nbformat_minor": 2
}
