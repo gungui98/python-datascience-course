{
 "cells": [
  {
   "cell_type": "code",
   "execution_count": 3,
   "id": "d9026d70-b53b-424e-b0f6-50bbc6015d70",
   "metadata": {},
   "outputs": [
    {
     "name": "stdout",
     "output_type": "stream",
     "text": [
      "John Doe is 35 years old\n"
     ]
    }
   ],
   "source": [
    "import os\n",
    "from person import Person\n",
    "\n",
    "# check if Person is actually implemented on the person/person.py file\n",
    "# if not, you will get an error\n",
    "\n",
    "\n",
    "\n",
    "person_1 = Person(first_name = \"John\", last_name = \"Doe\", age =35)\n",
    "print(person_1)"
   ]
  },
  {
   "cell_type": "code",
   "execution_count": null,
   "id": "87baf0c2-79cb-4ecf-a8c5-1905f16aa7bf",
   "metadata": {},
   "outputs": [],
   "source": []
  }
 ],
 "metadata": {
  "kernelspec": {
   "display_name": "Python 3 (ipykernel)",
   "language": "python",
   "name": "python3"
  },
  "language_info": {
   "codemirror_mode": {
    "name": "ipython",
    "version": 3
   },
   "file_extension": ".py",
   "mimetype": "text/x-python",
   "name": "python",
   "nbconvert_exporter": "python",
   "pygments_lexer": "ipython3",
   "version": "3.10.10"
  }
 },
 "nbformat": 4,
 "nbformat_minor": 5
}
