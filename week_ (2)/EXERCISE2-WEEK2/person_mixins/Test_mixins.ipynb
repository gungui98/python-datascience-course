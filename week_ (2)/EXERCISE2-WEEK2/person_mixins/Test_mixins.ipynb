{
 "cells": [
  {
   "cell_type": "code",
   "execution_count": 2,
   "id": "e757f7a4-12a3-4c7b-94ff-db9673438ae6",
   "metadata": {},
   "outputs": [
    {
     "name": "stdout",
     "output_type": "stream",
     "text": [
      "My name is John Doe and I am 20 years old\n",
      "I am studying at University of Amsterdam\n",
      "My name is Jane Smith and I am 35 years old\n",
      "I am teaching Python\n"
     ]
    }
   ],
   "source": [
    "\n",
    "# you should seperate each class into a different file, following code is just for testing purpose\n",
    "from person import Person\n",
    "from student import Student\n",
    "from teacher import Teacher\n",
    "from teachermixin import TeacherMixin\n",
    "from studentmixin import StudentMixin\n",
    "\n",
    "student = Student(\"John Doe\", 20, \"University of Amsterdam\")\n",
    "teacher = Teacher(\"Jane Smith\", 35, \"Python\")\n",
    "\n",
    "student.introduce()  # My name is John Doe and I am 20 years old\n",
    "student.study()      # I am studying at University of Amsterdam\n",
    "\n",
    "teacher.introduce()  # My name is Jane Smith and I am 35 years old\n",
    "teacher.teach()      # I am teaching Python\n"
   ]
  },
  {
   "cell_type": "code",
   "execution_count": null,
   "id": "0abd6214-39d4-4bd1-8501-5b1a05d43f51",
   "metadata": {},
   "outputs": [],
   "source": []
  }
 ],
 "metadata": {
  "kernelspec": {
   "display_name": "Python 3 (ipykernel)",
   "language": "python",
   "name": "python3"
  },
  "language_info": {
   "codemirror_mode": {
    "name": "ipython",
    "version": 3
   },
   "file_extension": ".py",
   "mimetype": "text/x-python",
   "name": "python",
   "nbconvert_exporter": "python",
   "pygments_lexer": "ipython3",
   "version": "3.10.10"
  }
 },
 "nbformat": 4,
 "nbformat_minor": 5
}
