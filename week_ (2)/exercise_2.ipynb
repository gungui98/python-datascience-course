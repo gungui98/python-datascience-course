{
 "cells": [
  {
   "cell_type": "markdown",
   "metadata": {},
   "source": [
    "# Object oriented programming\n",
    "write a class that represents a person with a name and age. The class should have a method that returns the name and age of the person. Create an instance of the class and print the name and age of the person. it should has the following functions:\n",
    "- \\_\\_init\\_\\_(self, first_name, last_name, age) - set the name and age of the person\n",
    "- get_full_name(self) - return the full name of the person\n",
    "\n",
    "Please note that the class should be called Person should be in the package person, and the file should be called person.py"
   ]
  },
  {
   "cell_type": "code",
   "execution_count": 1,
   "metadata": {},
   "outputs": [
    {
     "name": "stdout",
     "output_type": "stream",
     "text": [
      "John Doe is 35 years old\n"
     ]
    }
   ],
   "source": [
    "import os\n",
    "from person.person import Person\n",
    "\n",
    "# check if Person is actually implemented on the person/person.py file\n",
    "# if not, you will get an error\n",
    "assert os.path.exists(\"person/person.py\"), \"You need to implement the Person class on the person/person.py file\"\n",
    "\n",
    "\n",
    "person_1 = Person(first_name = \"John\", last_name = \"Doe\", age =35)\n",
    "print(person_1)"
   ]
  },
  {
   "cell_type": "code",
   "execution_count": 2,
   "metadata": {},
   "outputs": [],
   "source": [
    "assert person_1.first_name == \"John\"\n",
    "assert person_1.last_name == \"Doe\"\n",
    "assert person_1.age == 35\n",
    "assert person_1.get_full_name() == \"John Doe\"\n",
    "assert person_1.__str__() == \"John Doe is 35 years old\""
   ]
  },
  {
   "cell_type": "markdown",
   "metadata": {},
   "source": [
    "# Inheritance\n",
    "Write a second class that represents a student. The student class should inherit from the person class. The student class should have a method that returns the name and age of the student. Create an instance of the class and print the name and age of the student. it should has the following functions:\n",
    "- \\_\\_init\\_\\_(self, first_name, last_name, age, student_id) - set the name, age and student id of the student\n",
    "- print_student_id(self) - print the student id of the student\n",
    "- add_course(self, course) - add a course to the student"
   ]
  },
  {
   "cell_type": "code",
   "execution_count": 3,
   "metadata": {},
   "outputs": [
    {
     "name": "stdout",
     "output_type": "stream",
     "text": [
      "12345\n",
      "John Doe is 35 years old and has student id 12345\n"
     ]
    }
   ],
   "source": [
    "from person.person import Student\n",
    "\n",
    "student = Student(first_name = \"John\", last_name = \"Doe\", age = 35, student_id = 12345)\n",
    "student.print_student_id()\n",
    "print(student)"
   ]
  },
  {
   "cell_type": "code",
   "execution_count": 5,
   "metadata": {},
   "outputs": [],
   "source": [
    "assert student.__str__() == \"John Doe is 35 years old and has student id 12345\"\n",
    "assert student.get_student_id() == 12345\n",
    "assert student.get_full_name() == \"John Doe\""
   ]
  },
  {
   "cell_type": "markdown",
   "metadata": {},
   "source": [
    "## Mixins and multiple inheritance\n",
    "Create a mixin-based structure in Python with a Person class, a StudentMixin mixin, and a TeacherMixin mixin. We'll then create a Student class that inherits from Person and StudentMixin, and a Teacher class that inherits from Person and TeacherMixin. Each we have three classes: Person, StudentMixin and TeacherMixin. We'll then create a Student class that inherits from Person and StudentMixin, and a Teacher class that inherits from Person and TeacherMixin. Each of these classes will have a method that returns the name and age of the person. Create an instance of the class and print the name and age of the person. \n",
    "\n",
    "The Person class should have the following functions:\n",
    "- \\_\\_init\\_\\_(self, name, age) - set the name and age of the person\n",
    "- introduce(self) - should introduce the person by printing the name and age, eg. \"My name is John Doe and I am 30 years old\"\n",
    "\n",
    "The StudentMixin class should have the following functions:\n",
    "- \\_\\_init\\_\\_(self, school) - set the school of the student\n",
    "- study(self) - should print the name of the school, eg. \"I am studying at the University of Amsterdam\"\n",
    "\n",
    "The TeacherMixin class should have the following functions:\n",
    "- \\_\\_init\\_\\_(self, subject) - set the subject of the teacher\n",
    "- teach(self) - should print the subject of the teacher, eg. \"I am teaching Python\"\n"
   ]
  },
  {
   "cell_type": "code",
   "execution_count": 2,
   "metadata": {},
   "outputs": [
    {
     "name": "stdout",
     "output_type": "stream",
     "text": [
      "僕の名前はAliceです。僕は20年です\n",
      "Example Universityは勉強しています。\n",
      "僕の名前はBobです。僕は35年です\n"
     ]
    },
    {
     "ename": "AttributeError",
     "evalue": "'Teacher' object has no attribute 'subject'",
     "output_type": "error",
     "traceback": [
      "\u001b[1;31m---------------------------------------------------------------------------\u001b[0m",
      "\u001b[1;31mAttributeError\u001b[0m                            Traceback (most recent call last)",
      "Cell \u001b[1;32mIn[2], line 31\u001b[0m\n\u001b[0;32m     29\u001b[0m teacher \u001b[38;5;241m=\u001b[39m Teacher(\u001b[38;5;124m\"\u001b[39m\u001b[38;5;124mBob\u001b[39m\u001b[38;5;124m\"\u001b[39m, \u001b[38;5;241m35\u001b[39m, \u001b[38;5;124m\"\u001b[39m\u001b[38;5;124mMathematics\u001b[39m\u001b[38;5;124m\"\u001b[39m)\n\u001b[0;32m     30\u001b[0m teacher\u001b[38;5;241m.\u001b[39mintroduce()\n\u001b[1;32m---> 31\u001b[0m \u001b[43mteacher\u001b[49m\u001b[38;5;241;43m.\u001b[39;49m\u001b[43mteach\u001b[49m\u001b[43m(\u001b[49m\u001b[43m)\u001b[49m   \n",
      "File \u001b[1;32m~\\Desktop\\project\\python-datascience-course\\week_ (2)\\person\\person_mixins.py:21\u001b[0m, in \u001b[0;36mTeacherMixin.teach\u001b[1;34m(self)\u001b[0m\n\u001b[0;32m     20\u001b[0m \u001b[38;5;28;01mdef\u001b[39;00m \u001b[38;5;21mteach\u001b[39m(\u001b[38;5;28mself\u001b[39m):\n\u001b[1;32m---> 21\u001b[0m     \u001b[38;5;28mprint\u001b[39m(\u001b[38;5;124m\"\u001b[39m\u001b[38;5;132;01m{0}\u001b[39;00m\u001b[38;5;124mを教えています。\u001b[39m\u001b[38;5;124m\"\u001b[39m\u001b[38;5;241m.\u001b[39mformat(\u001b[38;5;28;43mself\u001b[39;49m\u001b[38;5;241;43m.\u001b[39;49m\u001b[43msubject\u001b[49m))\n",
      "\u001b[1;31mAttributeError\u001b[0m: 'Teacher' object has no attribute 'subject'"
     ]
    }
   ],
   "source": [
    "from person.person_mixins import Person, StudentMixin, TeacherMixin\n",
    "# you should seperate each class into a different file, following code is just for testing purpose\n",
    "\"\"\"\n",
    "from person_mixins.person import Person\n",
    "from person_mixins.student import StudentMixin\n",
    "from person_mixins.teacher import TeacherMixin\n",
    "\"\"\"\n",
    "\n",
    "# now you can use the Person, StudentMixin, TeacherMixin classes to implement the Student and Teacher classes\n",
    "class Student(Person, StudentMixin):\n",
    "    # TODO: Implement the Student class\n",
    "    def __init__(self, name, age, school):\n",
    "        Person.__init__(self, name, age)\n",
    "        StudentMixin.__init__(self, school)\n",
    "        \n",
    "class Teacher(Person, TeacherMixin):\n",
    "    # TODO: Implement the Student class\n",
    "    def __init__(self, name, age, subject):\n",
    "        Person.__init__(self, name, age)\n",
    "        TeacherMixin.__init__(self, subject)\n",
    "        \n",
    "\n",
    "\n",
    "# Example usage\n",
    "student = Student(\"Alice\", 20, \"Example University\")\n",
    "student.introduce()\n",
    "student.study()\n",
    "\n",
    "teacher = Teacher(\"Bob\", 35, \"Mathematics\")\n",
    "teacher.introduce()\n",
    "teacher.teach()   "
   ]
  },
  {
   "cell_type": "markdown",
   "metadata": {},
   "source": []
  }
 ],
 "metadata": {
  "kernelspec": {
   "display_name": "Python 3 (ipykernel)",
   "language": "python",
   "name": "python3"
  },
  "language_info": {
   "codemirror_mode": {
    "name": "ipython",
    "version": 3
   },
   "file_extension": ".py",
   "mimetype": "text/x-python",
   "name": "python",
   "nbconvert_exporter": "python",
   "pygments_lexer": "ipython3",
   "version": "3.10.7"
  }
 },
 "nbformat": 4,
 "nbformat_minor": 4
}
