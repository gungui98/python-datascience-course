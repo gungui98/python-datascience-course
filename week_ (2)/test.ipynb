{
 "cells": [
  {
   "cell_type": "code",
   "execution_count": 1,
   "id": "db949262",
   "metadata": {},
   "outputs": [],
   "source": [
    "from person_mixins import person\n",
    "from person_mixins.person import Person\n",
    "from person_mixins.student import StudentMixin"
   ]
  },
  {
   "cell_type": "code",
   "execution_count": 2,
   "id": "2ca32829",
   "metadata": {},
   "outputs": [],
   "source": [
    "person = Person(\"Manh\", 20)"
   ]
  },
  {
   "cell_type": "code",
   "execution_count": 3,
   "id": "04682c7f",
   "metadata": {},
   "outputs": [
    {
     "name": "stdout",
     "output_type": "stream",
     "text": [
      "My name is Manh and I am 20 year old\n"
     ]
    }
   ],
   "source": [
    "person.introduce()"
   ]
  },
  {
   "cell_type": "code",
   "execution_count": 4,
   "id": "cbcf9b09",
   "metadata": {},
   "outputs": [
    {
     "name": "stdout",
     "output_type": "stream",
     "text": [
      "I am studying at the University of UETốt\n"
     ]
    }
   ],
   "source": [
    "student = StudentMixin(\"UETốt\")\n",
    "student.study()"
   ]
  },
  {
   "cell_type": "code",
   "execution_count": 8,
   "id": "f14ac54e",
   "metadata": {},
   "outputs": [],
   "source": [
    "from person_mixins.teacher import TeacherMixin"
   ]
  },
  {
   "cell_type": "code",
   "execution_count": 9,
   "id": "ec2fc216",
   "metadata": {},
   "outputs": [
    {
     "name": "stdout",
     "output_type": "stream",
     "text": [
      "I am teaching Gấu trúc ảo thuật\n"
     ]
    }
   ],
   "source": [
    "teacher = TeacherMixin(\"Gấu trúc ảo thuật\")\n",
    "teacher.teach()"
   ]
  },
  {
   "cell_type": "code",
   "execution_count": 19,
   "id": "42a5d103",
   "metadata": {},
   "outputs": [],
   "source": [
    "class Student(Person, StudentMixin):\n",
    "    def __init__(self,name,age,school):\n",
    "        Person.__init__(self,name,age)\n",
    "        StudentMixin.__init__(self,school)"
   ]
  },
  {
   "cell_type": "code",
   "execution_count": 20,
   "id": "d09f46c9",
   "metadata": {},
   "outputs": [
    {
     "name": "stdout",
     "output_type": "stream",
     "text": [
      "My name is Manh and I am 20 year old\n",
      "I am studying at the University of UETốt\n"
     ]
    }
   ],
   "source": [
    "student = Student(\"Manh\",20,\"UETốt\")\n",
    "student.introduce()\n",
    "student.study()"
   ]
  },
  {
   "cell_type": "code",
   "execution_count": 24,
   "id": "e2410318",
   "metadata": {},
   "outputs": [],
   "source": [
    "class Teacher(Person, TeacherMixin):\n",
    "    def __init__(self,name,age,subject):\n",
    "        Person.__init__(self,name,age)\n",
    "        TeacherMixin.__init__(self,subject)"
   ]
  },
  {
   "cell_type": "code",
   "execution_count": 26,
   "id": "bb5d0ca4",
   "metadata": {},
   "outputs": [
    {
     "name": "stdout",
     "output_type": "stream",
     "text": [
      "My name is Manh and I am 20 year old\n",
      "I am teaching Gấu trúc ảo thuật\n"
     ]
    }
   ],
   "source": [
    "teacher = Teacher(\"Manh\",20,\"Gấu trúc ảo thuật\")\n",
    "teacher.introduce()\n",
    "teacher.teach()"
   ]
  },
  {
   "cell_type": "code",
   "execution_count": null,
   "id": "01e00b45",
   "metadata": {},
   "outputs": [],
   "source": []
  }
 ],
 "metadata": {
  "kernelspec": {
   "display_name": "Python 3 (ipykernel)",
   "language": "python",
   "name": "python3"
  },
  "language_info": {
   "codemirror_mode": {
    "name": "ipython",
    "version": 3
   },
   "file_extension": ".py",
   "mimetype": "text/x-python",
   "name": "python",
   "nbconvert_exporter": "python",
   "pygments_lexer": "ipython3",
   "version": "3.10.10"
  }
 },
 "nbformat": 4,
 "nbformat_minor": 5
}
