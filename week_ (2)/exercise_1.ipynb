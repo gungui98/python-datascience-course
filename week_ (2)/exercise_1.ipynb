{
 "cells": [
  {
   "cell_type": "markdown",
   "metadata": {
    "pycharm": {
     "name": "#%% md\n"
    }
   },
   "source": [
    "# Excercise for basic python programming"
   ]
  },
  {
   "cell_type": "markdown",
   "metadata": {},
   "source": [
    "1. Write a function that takes a list of numbers and returns the cumulative sum; that is, a new list where the ith element is the sum of the first i + 1 elements from the original list. For example, the cumulative sum of [1, 2, 3] is [1, 3, 6]."
   ]
  },
  {
   "cell_type": "code",
   "execution_count": 15,
   "metadata": {},
   "outputs": [],
   "source": [
    "def cum_sum(arr):\n",
    "    new_arr = [arr[0]]\n",
    "    for i in range(1, len(arr)):\n",
    "        new_arr.append(new_arr[i - 1] + arr[i])\n",
    "    return new_arr\n"
   ]
  },
  {
   "cell_type": "code",
   "execution_count": 16,
   "metadata": {},
   "outputs": [
    {
     "name": "stdout",
     "output_type": "stream",
     "text": [
      "[1, 3, 6, 10]\n",
      "[1, 2, 3, 4, 5]\n",
      "[1, 3, 6, 10, 15, 21]\n"
     ]
    }
   ],
   "source": [
    "assert cum_sum([1, 2, 3, 4]) == [1, 3, 6, 10]\n",
    "assert cum_sum([1, 1, 1, 1, 1]) == [1, 2, 3, 4, 5]\n",
    "assert cum_sum([1, 2, 3, 4, 5, 6]) == [1, 3, 6, 10, 15, 21]"
   ]
  },
  {
   "cell_type": "markdown",
   "metadata": {},
   "source": [
    "2. Write a function that takes a list of numbers and returns the middle element. If the list has an even number of elements, your function should return the average of the two middle elements."
   ]
  },
  {
   "cell_type": "code",
   "execution_count": 31,
   "metadata": {},
   "outputs": [],
   "source": [
    "def middle_element(arr):\n",
    "    arr_size = len(arr)\n",
    "    middle = int(arr_size / 2)\n",
    "    if (arr_size % 2 == 1):\n",
    "        return arr[middle]\n",
    "    return (arr[middle] + arr[middle - 1]) / 2"
   ]
  },
  {
   "cell_type": "code",
   "execution_count": 32,
   "metadata": {},
   "outputs": [],
   "source": [
    "assert middle_element([5, 2, -10, -4, 4, 5]) == -7\n",
    "assert middle_element([1, 2, 3, 4]) == 2.5\n",
    "assert middle_element([1, 300, 2, 200, 1]) == 2"
   ]
  },
  {
   "cell_type": "markdown",
   "metadata": {},
   "source": [
    "3. dot product of two vectors, i.e. $x \\cdot y = \\sum_{i=1}^n x_i y_i$, where $x$ and $y$ are two vectors of length $n$, write a function that takes two lists of numbers of the same length and returns their dot product."
   ]
  },
  {
   "cell_type": "code",
   "execution_count": 35,
   "metadata": {},
   "outputs": [],
   "source": [
    "def dot_product(arr1, arr2):\n",
    "    size = len(arr1)\n",
    "    result = 0\n",
    "    for i in range(size):\n",
    "        result += arr1[i] * arr2[i]\n",
    "    return result"
   ]
  },
  {
   "cell_type": "code",
   "execution_count": 37,
   "metadata": {},
   "outputs": [
    {
     "name": "stdout",
     "output_type": "stream",
     "text": [
      "2\n",
      "9\n",
      "1\n"
     ]
    }
   ],
   "source": [
    "assert dot_product([1, 1], [1, 1]) == 2\n",
    "assert dot_product([1, 2], [1, 4]) == 9\n",
    "assert dot_product([0, 1, -1], [1, 0, -1]) == 1"
   ]
  }
 ],
 "metadata": {
  "kernelspec": {
   "display_name": "Python 3 (ipykernel)",
   "language": "python",
   "name": "python3"
  },
  "language_info": {
   "codemirror_mode": {
    "name": "ipython",
    "version": 3
   },
   "file_extension": ".py",
   "mimetype": "text/x-python",
   "name": "python",
   "nbconvert_exporter": "python",
   "pygments_lexer": "ipython3",
   "version": "3.10.10"
  }
 },
 "nbformat": 4,
 "nbformat_minor": 4
}
