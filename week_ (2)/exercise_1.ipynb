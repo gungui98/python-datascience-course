{
 "cells": [
  {
   "cell_type": "markdown",
   "metadata": {
    "pycharm": {
     "name": "#%% md\n"
    }
   },
   "source": [
    "# Excercise for basic python programming"
   ]
  },
  {
   "cell_type": "markdown",
   "metadata": {},
   "source": [
    "1. Write a function that takes a list of numbers and returns the cumulative sum; that is, a new list where the ith element is the sum of the first i + 1 elements from the original list. For example, the cumulative sum of [1, 2, 3] is [1, 3, 6]."
   ]
  },
  {
   "cell_type": "code",
   "execution_count": 33,
   "metadata": {},
   "outputs": [],
   "source": [
    "import numpy\n",
    "def cum_sum(arr):\n",
    "    return list(numpy.cumsum(numpy.array(arr)))"
   ]
  },
  {
   "cell_type": "code",
   "execution_count": 34,
   "metadata": {},
   "outputs": [],
   "source": [
    "assert cum_sum([1, 2, 3, 4]) == [1, 3, 6, 10]\n",
    "assert cum_sum([1, 1, 1, 1, 1]) == [1, 2, 3, 4, 5]\n",
    "assert cum_sum([1, 2, 3, 4, 5, 6]) == [1, 3, 6, 10, 15, 21]"
   ]
  },
  {
   "cell_type": "markdown",
   "metadata": {},
   "source": [
    "2. Write a function that takes a list of numbers and returns the middle element. If the list has an even number of elements, your function should return the average of the two middle elements."
   ]
  },
  {
   "cell_type": "code",
   "execution_count": 35,
   "metadata": {},
   "outputs": [],
   "source": [
    "def middle_element(arr):\n",
    "    length = len(arr)\n",
    "    f = length // 2\n",
    "    if length % 2 == 0:\n",
    "        s = f - 1\n",
    "        return (arr[f] + arr[s]) / 2\n",
    "    else :\n",
    "        return arr[f]"
   ]
  },
  {
   "cell_type": "code",
   "execution_count": 36,
   "metadata": {},
   "outputs": [],
   "source": [
    "assert middle_element([5, 2, -10, -4, 4, 5]) == -7.0\n",
    "assert middle_element([1, 2, 3, 4]) == 2.5\n",
    "assert middle_element([1, 300, 2, 200, 1]) == 2"
   ]
  },
  {
   "cell_type": "markdown",
   "metadata": {},
   "source": [
    "3. dot product of two vectors, i.e. $x \\cdot y = \\sum_{i=1}^n x_i y_i$, where $x$ and $y$ are two vectors of length $n$, write a function that takes two lists of numbers of the same length and returns their dot product."
   ]
  },
  {
   "cell_type": "code",
   "execution_count": 37,
   "metadata": {},
   "outputs": [],
   "source": [
    "def dot_product(arr1, arr2):\n",
    "    a = numpy.array(arr1)\n",
    "    b = numpy.array(arr2)\n",
    "    return a.dot(b)"
   ]
  },
  {
   "cell_type": "code",
   "execution_count": 38,
   "metadata": {},
   "outputs": [],
   "source": [
    "assert dot_product([1, 1], [1, 1]) == 2\n",
    "assert dot_product([1, 2], [1, 4]) == 9\n",
    "assert dot_product([0, 1, -1], [1, 0, -1]) == 1"
   ]
  },
  {
   "cell_type": "markdown",
   "metadata": {},
   "source": [
    "4. Convolution of two vectors, i.e. $x \\ast y = \\sum_{i=1}^n x_i y_{n-i+1}$, where $x$ and $y$ are two vectors of length $n$, write a function that takes two lists of numbers of the same length and returns their convolution."
   ]
  },
  {
   "cell_type": "code",
   "execution_count": 39,
   "metadata": {},
   "outputs": [
    {
     "data": {
      "text/plain": [
       "[1, 2, 4, 6, 8, 4, 5]"
      ]
     },
     "execution_count": 39,
     "metadata": {},
     "output_type": "execute_result"
    }
   ],
   "source": [
    "def convolution(arr1, arr2):\n",
    "    return list(numpy.convolve(arr1, arr2))\n",
    "convolution([1, 2, 3, 4, 5], [1, 0, 1])"
   ]
  },
  {
   "cell_type": "code",
   "execution_count": 40,
   "metadata": {},
   "outputs": [],
   "source": [
    "assert convolution([1, 2, 3], [0, 1, 0.5]) == [0.0, 1.0, 2.5, 4.0, 1.5]\n",
    "assert convolution([0, 1, 2, 1], [2, 1, 0]) == [0.0, 2.0, 5.0, 4.0, 1.0, 0.0]\n",
    "assert convolution([1, 2, 3, 4, 5], [1, 0, 1]) == [1.0, 2.0, 4.0, 6.0, 8.0, 4.0, 5.0]"
   ]
  }
 ],
 "metadata": {
  "kernelspec": {
   "display_name": "Python 3 (ipykernel)",
   "language": "python",
   "name": "python3"
  },
  "language_info": {
   "codemirror_mode": {
    "name": "ipython",
    "version": 3
   },
   "file_extension": ".py",
   "mimetype": "text/x-python",
   "name": "python",
   "nbconvert_exporter": "python",
   "pygments_lexer": "ipython3",
   "version": "3.10.9"
  }
 },
 "nbformat": 4,
 "nbformat_minor": 4
}
