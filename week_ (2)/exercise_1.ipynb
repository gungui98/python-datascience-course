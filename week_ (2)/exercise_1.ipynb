{
 "cells": [
  {
   "cell_type": "markdown",
   "metadata": {
    "pycharm": {
     "name": "#%% md\n"
    }
   },
   "source": [
    "# Excercise for basic python programming"
   ]
  },
  {
   "cell_type": "markdown",
   "metadata": {},
   "source": [
    "1. Write a function that takes a list of numbers and returns the cumulative sum; that is, a new list where the ith element is the sum of the first i + 1 elements from the original list. For example, the cumulative sum of [1, 2, 3] is [1, 3, 6]."
   ]
  },
  {
   "cell_type": "code",
   "execution_count": 1,
   "metadata": {},
   "outputs": [],
   "source": [
    "def cum_sum(arr):\n",
    "    new_arr = []\n",
    "    new_arr.append(arr[0])\n",
    "    for i in range(1, len(arr)):\n",
    "        new_arr.append(new_arr[i - 1] + arr[i])\n",
    "    return new_arr"
   ]
  },
  {
   "cell_type": "code",
   "execution_count": 2,
   "metadata": {},
   "outputs": [],
   "source": [
    "assert cum_sum([1, 2, 3, 4]) == [1, 3, 6, 10]\n",
    "assert cum_sum([1, 1, 1, 1, 1]) == [1, 2, 3, 4, 5]\n",
    "assert cum_sum([1, 2, 3, 4, 5, 6]) == [1, 3, 6, 10, 15, 21]"
   ]
  },
  {
   "cell_type": "markdown",
   "metadata": {},
   "source": [
    "2. Write a function that takes a list of numbers and returns the middle element. If the list has an even number of elements, your function should return the average of the two middle elements."
   ]
  },
  {
   "cell_type": "code",
   "execution_count": 16,
   "metadata": {},
   "outputs": [],
   "source": [
    "def middle_element(arr):\n",
    "    left_index = (int)((len(arr) - 1) / 2)\n",
    "    right_index = (int)(len(arr) / 2)\n",
    "    left = arr[left_index]\n",
    "    right = arr[right_index]\n",
    "    return (left + right) / 2.0"
   ]
  },
  {
   "cell_type": "code",
   "execution_count": 17,
   "metadata": {},
   "outputs": [],
   "source": [
    "assert middle_element([5, 2, -10, -4, 4, 5]) == -7 #originally 4\n",
    "assert middle_element([1, 2, 3, 4]) == 2.5\n",
    "assert middle_element([1, 300, 2, 200, 1]) == 2"
   ]
  },
  {
   "cell_type": "markdown",
   "metadata": {},
   "source": [
    "3. dot product of two vectors, i.e. $x \\cdot y = \\sum_{i=1}^n x_i y_i$, where $x$ and $y$ are two vectors of length $n$, write a function that takes two lists of numbers of the same length and returns their dot product."
   ]
  },
  {
   "cell_type": "code",
   "execution_count": 22,
   "metadata": {},
   "outputs": [],
   "source": [
    "def dot_product(arr1, arr2):\n",
    "    # assume that len(arr1) == len(arr2)\n",
    "    product = 0\n",
    "    for i in range(len(arr1)):\n",
    "        product = product + arr1[i] * arr2[i]\n",
    "    return product"
   ]
  },
  {
   "cell_type": "code",
   "execution_count": 24,
   "metadata": {},
   "outputs": [],
   "source": [
    "assert dot_product([1, 1], [1, 1]) == 2\n",
    "assert dot_product([1, 2], [1, 4]) == 9\n",
    "assert dot_product([0, 1, -1], [1, 0, -1]) == 1 #originally -1"
   ]
  },
  {
   "cell_type": "markdown",
   "metadata": {},
   "source": [
    "4. Convolution of two vectors, i.e. $x \\ast y = \\sum_{i=1}^n x_i y_{n-i+1}$, where $x$ and $y$ are two vectors of length $n$, write a function that takes two lists of numbers of the same length and returns their convolution."
   ]
  },
  {
   "cell_type": "code",
   "execution_count": 27,
   "metadata": {},
   "outputs": [],
   "source": [
    "def convolution(arr1, arr2):\n",
    "    # assume that len(arr1) == len(arr2)\n",
    "    product = 0\n",
    "    for i in range(len(arr1)):\n",
    "        product = product + arr1[i] * arr2[- i - 1]\n",
    "    return product"
   ]
  },
  {
   "cell_type": "code",
   "execution_count": 28,
   "metadata": {},
   "outputs": [
    {
     "ename": "AssertionError",
     "evalue": "",
     "output_type": "error",
     "traceback": [
      "\u001b[1;31m---------------------------------------------------------------------------\u001b[0m",
      "\u001b[1;31mAssertionError\u001b[0m                            Traceback (most recent call last)",
      "Input \u001b[1;32mIn [28]\u001b[0m, in \u001b[0;36m<cell line: 1>\u001b[1;34m()\u001b[0m\n\u001b[1;32m----> 1\u001b[0m \u001b[38;5;28;01massert\u001b[39;00m convolution([\u001b[38;5;241m1\u001b[39m, \u001b[38;5;241m2\u001b[39m, \u001b[38;5;241m3\u001b[39m], [\u001b[38;5;241m0\u001b[39m, \u001b[38;5;241m1\u001b[39m, \u001b[38;5;241m0.5\u001b[39m]) \u001b[38;5;241m==\u001b[39m [\u001b[38;5;241m0.0\u001b[39m, \u001b[38;5;241m1.0\u001b[39m, \u001b[38;5;241m2.5\u001b[39m, \u001b[38;5;241m1.5\u001b[39m, \u001b[38;5;241m0.0\u001b[39m]\n\u001b[0;32m      2\u001b[0m \u001b[38;5;28;01massert\u001b[39;00m convolution([\u001b[38;5;241m0\u001b[39m, \u001b[38;5;241m1\u001b[39m, \u001b[38;5;241m2\u001b[39m, \u001b[38;5;241m1\u001b[39m], [\u001b[38;5;241m2\u001b[39m, \u001b[38;5;241m1\u001b[39m, \u001b[38;5;241m0\u001b[39m]) \u001b[38;5;241m==\u001b[39m [\u001b[38;5;241m0.0\u001b[39m, \u001b[38;5;241m2.0\u001b[39m, \u001b[38;5;241m3.0\u001b[39m, \u001b[38;5;241m2.0\u001b[39m, \u001b[38;5;241m1.0\u001b[39m, \u001b[38;5;241m0.0\u001b[39m]\n\u001b[0;32m      3\u001b[0m \u001b[38;5;28;01massert\u001b[39;00m convolution([\u001b[38;5;241m1\u001b[39m, \u001b[38;5;241m2\u001b[39m, \u001b[38;5;241m3\u001b[39m, \u001b[38;5;241m4\u001b[39m, \u001b[38;5;241m5\u001b[39m], [\u001b[38;5;241m1\u001b[39m, \u001b[38;5;241m0\u001b[39m, \u001b[38;5;241m1\u001b[39m]) \u001b[38;5;241m==\u001b[39m [\u001b[38;5;241m1.0\u001b[39m, \u001b[38;5;241m3.0\u001b[39m, \u001b[38;5;241m4.0\u001b[39m, \u001b[38;5;241m7.0\u001b[39m, \u001b[38;5;241m5.0\u001b[39m, \u001b[38;5;241m5.0\u001b[39m]\n",
      "\u001b[1;31mAssertionError\u001b[0m: "
     ]
    }
   ],
   "source": [
    "assert convolution([1, 2, 3], [0, 1, 0.5]) == [0.0, 1.0, 2.5, 1.5, 0.0]\n",
    "assert convolution([0, 1, 2, 1], [2, 1, 0]) == [0.0, 2.0, 3.0, 2.0, 1.0, 0.0]\n",
    "assert convolution([1, 2, 3, 4, 5], [1, 0, 1]) == [1.0, 3.0, 4.0, 7.0, 5.0, 5.0]"
   ]
  },
  {
   "cell_type": "code",
   "execution_count": null,
   "metadata": {},
   "outputs": [],
   "source": []
  }
 ],
 "metadata": {
  "kernelspec": {
   "display_name": "Python 3 (ipykernel)",
   "language": "python",
   "name": "python3"
  },
  "language_info": {
   "codemirror_mode": {
    "name": "ipython",
    "version": 3
   },
   "file_extension": ".py",
   "mimetype": "text/x-python",
   "name": "python",
   "nbconvert_exporter": "python",
   "pygments_lexer": "ipython3",
   "version": "3.9.12"
  }
 },
 "nbformat": 4,
 "nbformat_minor": 4
}
