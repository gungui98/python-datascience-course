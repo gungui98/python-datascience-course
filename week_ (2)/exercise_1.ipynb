{
 "cells": [
  {
   "cell_type": "code",
   "execution_count": 1,
   "id": "8c9d4743",
   "metadata": {},
   "outputs": [],
   "source": [
    "class Person:\n",
    "    def __init__(self, first_name, last_name, age):\n",
    "        self.first_name = first_name\n",
    "        self.last_name = last_name\n",
    "        self.age = age\n",
    "    def get_full_name(self):\n",
    "        return f\"{self.first_name} {self.last_name}\"\n",
    "    def get_name_and_age(self):\n",
    "        return f\"{self.get_full_name()}, {self.age}\""
   ]
  },
  {
   "cell_type": "code",
   "execution_count": 2,
   "id": "61a994a5",
   "metadata": {},
   "outputs": [
    {
     "name": "stdout",
     "output_type": "stream",
     "text": [
      "John Doe, 35\n"
     ]
    }
   ],
   "source": [
    "person_1 = Person(first_name=\"John\", last_name=\"Doe\", age=35)\n",
    "print(person_1.get_name_and_age()) "
   ]
  },
  {
   "cell_type": "code",
   "execution_count": 3,
   "id": "c2455c93",
   "metadata": {},
   "outputs": [],
   "source": [
    "class Student(Person):\n",
    "    def __init__(self, first_name, last_name, age, student_id):\n",
    "        super().__init__(first_name, last_name, age)\n",
    "        self.student_id = student_id\n",
    "        self.courses = []\n",
    "    \n",
    "    def print_student_id(self):\n",
    "        print(f\"Student ID: {self.student_id}\")\n",
    "    \n",
    "    def get_name_and_age(self):\n",
    "        return super().get_name_and_age()\n",
    "    \n",
    "    def add_course(self, course):\n",
    "        self.courses.append(course)"
   ]
  },
  {
   "cell_type": "code",
   "execution_count": 4,
   "id": "87b3fa3c",
   "metadata": {},
   "outputs": [
    {
     "name": "stdout",
     "output_type": "stream",
     "text": [
      "Student ID: 12345\n",
      "John Doe, 35\n",
      "['Math', 'English']\n"
     ]
    }
   ],
   "source": [
    "student = Student(first_name=\"John\", last_name=\"Doe\", age=35, student_id=12345)\n",
    "student.print_student_id()  \n",
    "print(student.get_name_and_age())  \n",
    "student.add_course(\"Math\")\n",
    "student.add_course(\"English\")\n",
    "print(student.courses)  "
   ]
  },
  {
   "cell_type": "code",
   "execution_count": 5,
   "id": "d3fe8f85",
   "metadata": {},
   "outputs": [],
   "source": [
    "class Person:\n",
    "    def __init__(self, name, age):\n",
    "        self.name = name\n",
    "        self.age = age\n",
    "    \n",
    "    def introduce(self):\n",
    "        print(f\"My name is {self.name} and I am {self.age} years old\")"
   ]
  },
  {
   "cell_type": "code",
   "execution_count": 6,
   "id": "7306912a",
   "metadata": {},
   "outputs": [],
   "source": [
    "class StudentMixin:\n",
    "    def __init__(self, school):\n",
    "        self.school = school\n",
    "    \n",
    "    def study(self):\n",
    "        print(f\"I am studying at {self.school}\")"
   ]
  },
  {
   "cell_type": "code",
   "execution_count": 7,
   "id": "8cbf12e4",
   "metadata": {},
   "outputs": [],
   "source": [
    "class TeacherMixin:\n",
    "    def __init__(self, subject):\n",
    "        self.subject = subject\n",
    "    \n",
    "    def teach(self):\n",
    "        print(f\"I am teaching {self.subject}\")"
   ]
  },
  {
   "cell_type": "code",
   "execution_count": 16,
   "id": "6ec33f07",
   "metadata": {},
   "outputs": [],
   "source": [
    "\n",
    "# now you can use the Person, StudentMixin, TeacherMixin classes to implement the Student and Teacher classes\n",
    "class Student(Person, StudentMixin):\n",
    "    # TODO: Implement the Student class\n",
    "    def __init__(self, name, age, school):\n",
    "        Person.__init__(self, name, age)\n",
    "        StudentMixin.__init__(self, school)\n",
    "\n",
    "class Teacher(Person, TeacherMixin):\n",
    "    # TODO: Implement the Student class\n",
    "    def __init__(self, name, age, subject):\n",
    "        Person.__init__(self, name, age)\n",
    "        TeacherMixin.__init__(self, subject)\n"
   ]
  },
  {
   "cell_type": "code",
   "execution_count": 17,
   "id": "0c287ebf",
   "metadata": {},
   "outputs": [
    {
     "name": "stdout",
     "output_type": "stream",
     "text": [
      "My name is Alice and I am 20 years old\n",
      "I am studying at Example University\n"
     ]
    }
   ],
   "source": [
    "student = Student(\"Alice\", 20, \"Example University\")\n",
    "student.introduce()  \n",
    "student.study()"
   ]
  },
  {
   "cell_type": "code",
   "execution_count": 18,
   "id": "e3f1d442",
   "metadata": {},
   "outputs": [
    {
     "name": "stdout",
     "output_type": "stream",
     "text": [
      "My name is Bob and I am 35 years old\n",
      "I am teaching Mathematics\n"
     ]
    }
   ],
   "source": [
    "teacher = Teacher(\"Bob\", 35, \"Mathematics\")\n",
    "teacher.introduce()  \n",
    "teacher.teach() "
   ]
  },
  {
   "cell_type": "code",
   "execution_count": null,
   "id": "3b967172",
   "metadata": {},
   "outputs": [],
   "source": []
  }
 ],
 "metadata": {
  "kernelspec": {
   "display_name": "Python 3 (ipykernel)",
   "language": "python",
   "name": "python3"
  },
  "language_info": {
   "codemirror_mode": {
    "name": "ipython",
    "version": 3
   },
   "file_extension": ".py",
   "mimetype": "text/x-python",
   "name": "python",
   "nbconvert_exporter": "python",
   "pygments_lexer": "ipython3",
   "version": "3.10.10"
  }
 },
 "nbformat": 4,
 "nbformat_minor": 5
}
