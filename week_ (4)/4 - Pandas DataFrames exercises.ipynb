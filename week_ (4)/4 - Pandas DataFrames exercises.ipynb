{
 "cells": [
  {
   "cell_type": "markdown",
   "metadata": {},
   "source": [
    "![rmotr](https://user-images.githubusercontent.com/7065401/52071918-bda15380-2562-11e9-828c-7f95297e4a82.png)\n",
    "<hr style=\"margin-bottom: 40px;\">\n",
    "\n",
    "# Pandas DataFrame exercises\n"
   ]
  },
  {
   "cell_type": "code",
   "execution_count": 1,
   "metadata": {},
   "outputs": [
    {
     "name": "stdout",
     "output_type": "stream",
     "text": [
      "1.4.2\n"
     ]
    }
   ],
   "source": [
    "# Import the numpy package under the name np\n",
    "import numpy as np\n",
    "\n",
    "# Import the pandas package under the name pd\n",
    "import pandas as pd\n",
    "\n",
    "# Import the matplotlib package under the name plt\n",
    "import matplotlib.pyplot as plt\n",
    "%matplotlib inline\n",
    "\n",
    "# Print the pandas version and the configuration\n",
    "print(pd.__version__)"
   ]
  },
  {
   "cell_type": "markdown",
   "metadata": {},
   "source": [
    "![purple-divider](https://user-images.githubusercontent.com/7065401/52071927-c1cd7100-2562-11e9-908a-dde91ba14e59.png)\n",
    "\n",
    "## DataFrame creation"
   ]
  },
  {
   "cell_type": "markdown",
   "metadata": {},
   "source": [
    "### Create an empty pandas DataFrame\n"
   ]
  },
  {
   "cell_type": "code",
   "execution_count": 2,
   "metadata": {},
   "outputs": [],
   "source": [
    "# your code goes here\n",
    "df = pd.DataFrame(data=[None],\n",
    "             index=[None],\n",
    "             columns=[None])"
   ]
  },
  {
   "cell_type": "code",
   "execution_count": 7,
   "metadata": {
    "cell_type": "solution"
   },
   "outputs": [
    {
     "data": {
      "text/html": [
       "<div>\n",
       "<style scoped>\n",
       "    .dataframe tbody tr th:only-of-type {\n",
       "        vertical-align: middle;\n",
       "    }\n",
       "\n",
       "    .dataframe tbody tr th {\n",
       "        vertical-align: top;\n",
       "    }\n",
       "\n",
       "    .dataframe thead th {\n",
       "        text-align: right;\n",
       "    }\n",
       "</style>\n",
       "<table border=\"1\" class=\"dataframe\">\n",
       "  <thead>\n",
       "    <tr style=\"text-align: right;\">\n",
       "      <th></th>\n",
       "      <th>None</th>\n",
       "    </tr>\n",
       "  </thead>\n",
       "  <tbody>\n",
       "    <tr>\n",
       "      <th>None</th>\n",
       "      <td>True</td>\n",
       "    </tr>\n",
       "  </tbody>\n",
       "</table>\n",
       "</div>"
      ],
      "text/plain": [
       "      None\n",
       "None  True"
      ]
     },
     "execution_count": 7,
     "metadata": {},
     "output_type": "execute_result"
    }
   ],
   "source": [
    "df = pd.DataFrame(data=[None],\n",
    "             index=[None],\n",
    "             columns=[None])"
   ]
  },
  {
   "cell_type": "code",
   "execution_count": 6,
   "metadata": {},
   "outputs": [],
   "source": [
    "assert df is not None"
   ]
  },
  {
   "cell_type": "markdown",
   "metadata": {},
   "source": [
    "<img width=400 src=\"https://cdn.dribbble.com/users/4678/screenshots/1986600/avengers.png\"></img>"
   ]
  },
  {
   "cell_type": "markdown",
   "metadata": {},
   "source": [
    "![green-divider](https://user-images.githubusercontent.com/7065401/52071924-c003ad80-2562-11e9-8297-1c6595f8a7ff.png)\n",
    "\n",
    "\n",
    "### Create a `marvel_df` pandas DataFrame with the given marvel data\n"
   ]
  },
  {
   "cell_type": "code",
   "execution_count": 9,
   "metadata": {},
   "outputs": [],
   "source": [
    "marvel_data = [\n",
    "    ['Spider-Man', 'male', 1962],\n",
    "    ['Captain America', 'male', 1941],\n",
    "    ['Wolverine', 'male', 1974],\n",
    "    ['Iron Man', 'male', 1963],\n",
    "    ['Thor', 'male', 1963],\n",
    "    ['Thing', 'male', 1961],\n",
    "    ['Mister Fantastic', 'male', 1961],\n",
    "    ['Hulk', 'male', 1962],\n",
    "    ['Beast', 'male', 1963],\n",
    "    ['Invisible Woman', 'female', 1961],\n",
    "    ['Storm', 'female', 1975],\n",
    "    ['Namor', 'male', 1939],\n",
    "    ['Hawkeye', 'male', 1964],\n",
    "    ['Daredevil', 'male', 1964],\n",
    "    ['Doctor Strange', 'male', 1963],\n",
    "    ['Hank Pym', 'male', 1962],\n",
    "    ['Scarlet Witch', 'female', 1964],\n",
    "    ['Wasp', 'female', 1963],\n",
    "    ['Black Widow', 'female', 1964],\n",
    "    ['Vision', 'male', 1968]\n",
    "]"
   ]
  },
  {
   "cell_type": "code",
   "execution_count": 10,
   "metadata": {},
   "outputs": [],
   "source": [
    "# your code goes here\n",
    "marvel_df = pd.DataFrame(marvel_data)"
   ]
  },
  {
   "cell_type": "code",
   "execution_count": 11,
   "metadata": {},
   "outputs": [],
   "source": [
    "assert (marvel_df.values == marvel_data).any()"
   ]
  },
  {
   "cell_type": "markdown",
   "metadata": {},
   "source": [
    "![green-divider](https://user-images.githubusercontent.com/7065401/52071924-c003ad80-2562-11e9-8297-1c6595f8a7ff.png)\n",
    "\n",
    "### Add column names to the `marvel_df`\n",
    " "
   ]
  },
  {
   "cell_type": "code",
   "execution_count": 14,
   "metadata": {},
   "outputs": [
    {
     "data": {
      "text/html": [
       "<div>\n",
       "<style scoped>\n",
       "    .dataframe tbody tr th:only-of-type {\n",
       "        vertical-align: middle;\n",
       "    }\n",
       "\n",
       "    .dataframe tbody tr th {\n",
       "        vertical-align: top;\n",
       "    }\n",
       "\n",
       "    .dataframe thead th {\n",
       "        text-align: right;\n",
       "    }\n",
       "</style>\n",
       "<table border=\"1\" class=\"dataframe\">\n",
       "  <thead>\n",
       "    <tr style=\"text-align: right;\">\n",
       "      <th></th>\n",
       "      <th>name</th>\n",
       "      <th>sex</th>\n",
       "      <th>first_appearance</th>\n",
       "    </tr>\n",
       "  </thead>\n",
       "  <tbody>\n",
       "    <tr>\n",
       "      <th>0</th>\n",
       "      <td>Spider-Man</td>\n",
       "      <td>male</td>\n",
       "      <td>1962</td>\n",
       "    </tr>\n",
       "    <tr>\n",
       "      <th>1</th>\n",
       "      <td>Captain America</td>\n",
       "      <td>male</td>\n",
       "      <td>1941</td>\n",
       "    </tr>\n",
       "    <tr>\n",
       "      <th>2</th>\n",
       "      <td>Wolverine</td>\n",
       "      <td>male</td>\n",
       "      <td>1974</td>\n",
       "    </tr>\n",
       "    <tr>\n",
       "      <th>3</th>\n",
       "      <td>Iron Man</td>\n",
       "      <td>male</td>\n",
       "      <td>1963</td>\n",
       "    </tr>\n",
       "    <tr>\n",
       "      <th>4</th>\n",
       "      <td>Thor</td>\n",
       "      <td>male</td>\n",
       "      <td>1963</td>\n",
       "    </tr>\n",
       "    <tr>\n",
       "      <th>5</th>\n",
       "      <td>Thing</td>\n",
       "      <td>male</td>\n",
       "      <td>1961</td>\n",
       "    </tr>\n",
       "    <tr>\n",
       "      <th>6</th>\n",
       "      <td>Mister Fantastic</td>\n",
       "      <td>male</td>\n",
       "      <td>1961</td>\n",
       "    </tr>\n",
       "    <tr>\n",
       "      <th>7</th>\n",
       "      <td>Hulk</td>\n",
       "      <td>male</td>\n",
       "      <td>1962</td>\n",
       "    </tr>\n",
       "    <tr>\n",
       "      <th>8</th>\n",
       "      <td>Beast</td>\n",
       "      <td>male</td>\n",
       "      <td>1963</td>\n",
       "    </tr>\n",
       "    <tr>\n",
       "      <th>9</th>\n",
       "      <td>Invisible Woman</td>\n",
       "      <td>female</td>\n",
       "      <td>1961</td>\n",
       "    </tr>\n",
       "    <tr>\n",
       "      <th>10</th>\n",
       "      <td>Storm</td>\n",
       "      <td>female</td>\n",
       "      <td>1975</td>\n",
       "    </tr>\n",
       "    <tr>\n",
       "      <th>11</th>\n",
       "      <td>Namor</td>\n",
       "      <td>male</td>\n",
       "      <td>1939</td>\n",
       "    </tr>\n",
       "    <tr>\n",
       "      <th>12</th>\n",
       "      <td>Hawkeye</td>\n",
       "      <td>male</td>\n",
       "      <td>1964</td>\n",
       "    </tr>\n",
       "    <tr>\n",
       "      <th>13</th>\n",
       "      <td>Daredevil</td>\n",
       "      <td>male</td>\n",
       "      <td>1964</td>\n",
       "    </tr>\n",
       "    <tr>\n",
       "      <th>14</th>\n",
       "      <td>Doctor Strange</td>\n",
       "      <td>male</td>\n",
       "      <td>1963</td>\n",
       "    </tr>\n",
       "    <tr>\n",
       "      <th>15</th>\n",
       "      <td>Hank Pym</td>\n",
       "      <td>male</td>\n",
       "      <td>1962</td>\n",
       "    </tr>\n",
       "    <tr>\n",
       "      <th>16</th>\n",
       "      <td>Scarlet Witch</td>\n",
       "      <td>female</td>\n",
       "      <td>1964</td>\n",
       "    </tr>\n",
       "    <tr>\n",
       "      <th>17</th>\n",
       "      <td>Wasp</td>\n",
       "      <td>female</td>\n",
       "      <td>1963</td>\n",
       "    </tr>\n",
       "    <tr>\n",
       "      <th>18</th>\n",
       "      <td>Black Widow</td>\n",
       "      <td>female</td>\n",
       "      <td>1964</td>\n",
       "    </tr>\n",
       "    <tr>\n",
       "      <th>19</th>\n",
       "      <td>Vision</td>\n",
       "      <td>male</td>\n",
       "      <td>1968</td>\n",
       "    </tr>\n",
       "  </tbody>\n",
       "</table>\n",
       "</div>"
      ],
      "text/plain": [
       "                name     sex  first_appearance\n",
       "0         Spider-Man    male              1962\n",
       "1    Captain America    male              1941\n",
       "2          Wolverine    male              1974\n",
       "3           Iron Man    male              1963\n",
       "4               Thor    male              1963\n",
       "5              Thing    male              1961\n",
       "6   Mister Fantastic    male              1961\n",
       "7               Hulk    male              1962\n",
       "8              Beast    male              1963\n",
       "9    Invisible Woman  female              1961\n",
       "10             Storm  female              1975\n",
       "11             Namor    male              1939\n",
       "12           Hawkeye    male              1964\n",
       "13         Daredevil    male              1964\n",
       "14    Doctor Strange    male              1963\n",
       "15          Hank Pym    male              1962\n",
       "16     Scarlet Witch  female              1964\n",
       "17              Wasp  female              1963\n",
       "18       Black Widow  female              1964\n",
       "19            Vision    male              1968"
      ]
     },
     "execution_count": 14,
     "metadata": {},
     "output_type": "execute_result"
    }
   ],
   "source": [
    "# your code goes here\n",
<<<<<<< HEAD
    "col_names = ['name', 'sex', 'first_appearance']\n",
    "marvel_df = "
=======
    "col_names = [\"name\", \"sex\", \"first_appearance\"]\n",
    "marvel_df.columns = col_names\n",
    "marvel_df"
>>>>>>> 74b3706 (week 4 submit)
   ]
  },
  {
   "cell_type": "code",
   "execution_count": 15,
   "metadata": {
    "cell_type": "solution"
   },
   "outputs": [],
   "source": [
    "assert (marvel_df.columns == col_names).all()"
   ]
  },
  {
   "cell_type": "markdown",
   "metadata": {},
   "source": [
    "![green-divider](https://user-images.githubusercontent.com/7065401/52071924-c003ad80-2562-11e9-8297-1c6595f8a7ff.png)\n",
    "\n",
    "### Add index names to the `marvel_df` (use the character name as index)\n"
   ]
  },
  {
   "cell_type": "code",
   "execution_count": 18,
   "metadata": {},
   "outputs": [
    {
     "data": {
      "text/html": [
       "<div>\n",
       "<style scoped>\n",
       "    .dataframe tbody tr th:only-of-type {\n",
       "        vertical-align: middle;\n",
       "    }\n",
       "\n",
       "    .dataframe tbody tr th {\n",
       "        vertical-align: top;\n",
       "    }\n",
       "\n",
       "    .dataframe thead th {\n",
       "        text-align: right;\n",
       "    }\n",
       "</style>\n",
       "<table border=\"1\" class=\"dataframe\">\n",
       "  <thead>\n",
       "    <tr style=\"text-align: right;\">\n",
       "      <th></th>\n",
       "      <th>name</th>\n",
       "      <th>sex</th>\n",
       "      <th>first_appearance</th>\n",
       "    </tr>\n",
       "    <tr>\n",
       "      <th>name</th>\n",
       "      <th></th>\n",
       "      <th></th>\n",
       "      <th></th>\n",
       "    </tr>\n",
       "  </thead>\n",
       "  <tbody>\n",
       "    <tr>\n",
       "      <th>Spider-Man</th>\n",
       "      <td>Spider-Man</td>\n",
       "      <td>male</td>\n",
       "      <td>1962</td>\n",
       "    </tr>\n",
       "    <tr>\n",
       "      <th>Captain America</th>\n",
       "      <td>Captain America</td>\n",
       "      <td>male</td>\n",
       "      <td>1941</td>\n",
       "    </tr>\n",
       "    <tr>\n",
       "      <th>Wolverine</th>\n",
       "      <td>Wolverine</td>\n",
       "      <td>male</td>\n",
       "      <td>1974</td>\n",
       "    </tr>\n",
       "    <tr>\n",
       "      <th>Iron Man</th>\n",
       "      <td>Iron Man</td>\n",
       "      <td>male</td>\n",
       "      <td>1963</td>\n",
       "    </tr>\n",
       "    <tr>\n",
       "      <th>Thor</th>\n",
       "      <td>Thor</td>\n",
       "      <td>male</td>\n",
       "      <td>1963</td>\n",
       "    </tr>\n",
       "    <tr>\n",
       "      <th>Thing</th>\n",
       "      <td>Thing</td>\n",
       "      <td>male</td>\n",
       "      <td>1961</td>\n",
       "    </tr>\n",
       "    <tr>\n",
       "      <th>Mister Fantastic</th>\n",
       "      <td>Mister Fantastic</td>\n",
       "      <td>male</td>\n",
       "      <td>1961</td>\n",
       "    </tr>\n",
       "    <tr>\n",
       "      <th>Hulk</th>\n",
       "      <td>Hulk</td>\n",
       "      <td>male</td>\n",
       "      <td>1962</td>\n",
       "    </tr>\n",
       "    <tr>\n",
       "      <th>Beast</th>\n",
       "      <td>Beast</td>\n",
       "      <td>male</td>\n",
       "      <td>1963</td>\n",
       "    </tr>\n",
       "    <tr>\n",
       "      <th>Invisible Woman</th>\n",
       "      <td>Invisible Woman</td>\n",
       "      <td>female</td>\n",
       "      <td>1961</td>\n",
       "    </tr>\n",
       "    <tr>\n",
       "      <th>Storm</th>\n",
       "      <td>Storm</td>\n",
       "      <td>female</td>\n",
       "      <td>1975</td>\n",
       "    </tr>\n",
       "    <tr>\n",
       "      <th>Namor</th>\n",
       "      <td>Namor</td>\n",
       "      <td>male</td>\n",
       "      <td>1939</td>\n",
       "    </tr>\n",
       "    <tr>\n",
       "      <th>Hawkeye</th>\n",
       "      <td>Hawkeye</td>\n",
       "      <td>male</td>\n",
       "      <td>1964</td>\n",
       "    </tr>\n",
       "    <tr>\n",
       "      <th>Daredevil</th>\n",
       "      <td>Daredevil</td>\n",
       "      <td>male</td>\n",
       "      <td>1964</td>\n",
       "    </tr>\n",
       "    <tr>\n",
       "      <th>Doctor Strange</th>\n",
       "      <td>Doctor Strange</td>\n",
       "      <td>male</td>\n",
       "      <td>1963</td>\n",
       "    </tr>\n",
       "    <tr>\n",
       "      <th>Hank Pym</th>\n",
       "      <td>Hank Pym</td>\n",
       "      <td>male</td>\n",
       "      <td>1962</td>\n",
       "    </tr>\n",
       "    <tr>\n",
       "      <th>Scarlet Witch</th>\n",
       "      <td>Scarlet Witch</td>\n",
       "      <td>female</td>\n",
       "      <td>1964</td>\n",
       "    </tr>\n",
       "    <tr>\n",
       "      <th>Wasp</th>\n",
       "      <td>Wasp</td>\n",
       "      <td>female</td>\n",
       "      <td>1963</td>\n",
       "    </tr>\n",
       "    <tr>\n",
       "      <th>Black Widow</th>\n",
       "      <td>Black Widow</td>\n",
       "      <td>female</td>\n",
       "      <td>1964</td>\n",
       "    </tr>\n",
       "    <tr>\n",
       "      <th>Vision</th>\n",
       "      <td>Vision</td>\n",
       "      <td>male</td>\n",
       "      <td>1968</td>\n",
       "    </tr>\n",
       "  </tbody>\n",
       "</table>\n",
       "</div>"
      ],
      "text/plain": [
       "                              name     sex  first_appearance\n",
       "name                                                        \n",
       "Spider-Man              Spider-Man    male              1962\n",
       "Captain America    Captain America    male              1941\n",
       "Wolverine                Wolverine    male              1974\n",
       "Iron Man                  Iron Man    male              1963\n",
       "Thor                          Thor    male              1963\n",
       "Thing                        Thing    male              1961\n",
       "Mister Fantastic  Mister Fantastic    male              1961\n",
       "Hulk                          Hulk    male              1962\n",
       "Beast                        Beast    male              1963\n",
       "Invisible Woman    Invisible Woman  female              1961\n",
       "Storm                        Storm  female              1975\n",
       "Namor                        Namor    male              1939\n",
       "Hawkeye                    Hawkeye    male              1964\n",
       "Daredevil                Daredevil    male              1964\n",
       "Doctor Strange      Doctor Strange    male              1963\n",
       "Hank Pym                  Hank Pym    male              1962\n",
       "Scarlet Witch        Scarlet Witch  female              1964\n",
       "Wasp                          Wasp  female              1963\n",
       "Black Widow            Black Widow  female              1964\n",
       "Vision                      Vision    male              1968"
      ]
     },
     "execution_count": 18,
     "metadata": {},
     "output_type": "execute_result"
    }
   ],
   "source": [
    "# your code goes here\n",
    "marvel_df.index = marvel_df[\"name\"]\n",
    "marvel_df"
   ]
  },
  {
   "cell_type": "code",
   "execution_count": 17,
   "metadata": {},
   "outputs": [],
   "source": [
    "assert (marvel_df.index == marvel_df['name']).all()"
   ]
  },
  {
   "cell_type": "markdown",
   "metadata": {},
   "source": [
    "![green-divider](https://user-images.githubusercontent.com/7065401/52071924-c003ad80-2562-11e9-8297-1c6595f8a7ff.png)\n",
    "\n",
    "### Drop the name column as it's now the index"
   ]
  },
  {
   "cell_type": "code",
   "execution_count": 25,
   "metadata": {
    "cell_type": "solution"
   },
   "outputs": [
    {
     "data": {
      "text/html": [
       "<div>\n",
       "<style scoped>\n",
       "    .dataframe tbody tr th:only-of-type {\n",
       "        vertical-align: middle;\n",
       "    }\n",
       "\n",
       "    .dataframe tbody tr th {\n",
       "        vertical-align: top;\n",
       "    }\n",
       "\n",
       "    .dataframe thead th {\n",
       "        text-align: right;\n",
       "    }\n",
       "</style>\n",
       "<table border=\"1\" class=\"dataframe\">\n",
       "  <thead>\n",
       "    <tr style=\"text-align: right;\">\n",
       "      <th></th>\n",
       "      <th>sex</th>\n",
       "      <th>first_appearance</th>\n",
       "    </tr>\n",
       "    <tr>\n",
       "      <th>name</th>\n",
       "      <th></th>\n",
       "      <th></th>\n",
       "    </tr>\n",
       "  </thead>\n",
       "  <tbody>\n",
       "    <tr>\n",
       "      <th>Spider-Man</th>\n",
       "      <td>male</td>\n",
       "      <td>1962</td>\n",
       "    </tr>\n",
       "    <tr>\n",
       "      <th>Captain America</th>\n",
       "      <td>male</td>\n",
       "      <td>1941</td>\n",
       "    </tr>\n",
       "    <tr>\n",
       "      <th>Wolverine</th>\n",
       "      <td>male</td>\n",
       "      <td>1974</td>\n",
       "    </tr>\n",
       "    <tr>\n",
       "      <th>Iron Man</th>\n",
       "      <td>male</td>\n",
       "      <td>1963</td>\n",
       "    </tr>\n",
       "    <tr>\n",
       "      <th>Thor</th>\n",
       "      <td>male</td>\n",
       "      <td>1963</td>\n",
       "    </tr>\n",
       "    <tr>\n",
       "      <th>Thing</th>\n",
       "      <td>male</td>\n",
       "      <td>1961</td>\n",
       "    </tr>\n",
       "    <tr>\n",
       "      <th>Mister Fantastic</th>\n",
       "      <td>male</td>\n",
       "      <td>1961</td>\n",
       "    </tr>\n",
       "    <tr>\n",
       "      <th>Hulk</th>\n",
       "      <td>male</td>\n",
       "      <td>1962</td>\n",
       "    </tr>\n",
       "    <tr>\n",
       "      <th>Beast</th>\n",
       "      <td>male</td>\n",
       "      <td>1963</td>\n",
       "    </tr>\n",
       "    <tr>\n",
       "      <th>Invisible Woman</th>\n",
       "      <td>female</td>\n",
       "      <td>1961</td>\n",
       "    </tr>\n",
       "    <tr>\n",
       "      <th>Storm</th>\n",
       "      <td>female</td>\n",
       "      <td>1975</td>\n",
       "    </tr>\n",
       "    <tr>\n",
       "      <th>Namor</th>\n",
       "      <td>male</td>\n",
       "      <td>1939</td>\n",
       "    </tr>\n",
       "    <tr>\n",
       "      <th>Hawkeye</th>\n",
       "      <td>male</td>\n",
       "      <td>1964</td>\n",
       "    </tr>\n",
       "    <tr>\n",
       "      <th>Daredevil</th>\n",
       "      <td>male</td>\n",
       "      <td>1964</td>\n",
       "    </tr>\n",
       "    <tr>\n",
       "      <th>Doctor Strange</th>\n",
       "      <td>male</td>\n",
       "      <td>1963</td>\n",
       "    </tr>\n",
       "    <tr>\n",
       "      <th>Hank Pym</th>\n",
       "      <td>male</td>\n",
       "      <td>1962</td>\n",
       "    </tr>\n",
       "    <tr>\n",
       "      <th>Scarlet Witch</th>\n",
       "      <td>female</td>\n",
       "      <td>1964</td>\n",
       "    </tr>\n",
       "    <tr>\n",
       "      <th>Wasp</th>\n",
       "      <td>female</td>\n",
       "      <td>1963</td>\n",
       "    </tr>\n",
       "    <tr>\n",
       "      <th>Black Widow</th>\n",
       "      <td>female</td>\n",
       "      <td>1964</td>\n",
       "    </tr>\n",
       "    <tr>\n",
       "      <th>Vision</th>\n",
       "      <td>male</td>\n",
       "      <td>1968</td>\n",
       "    </tr>\n",
       "  </tbody>\n",
       "</table>\n",
       "</div>"
      ],
      "text/plain": [
       "                     sex  first_appearance\n",
       "name                                      \n",
       "Spider-Man          male              1962\n",
       "Captain America     male              1941\n",
       "Wolverine           male              1974\n",
       "Iron Man            male              1963\n",
       "Thor                male              1963\n",
       "Thing               male              1961\n",
       "Mister Fantastic    male              1961\n",
       "Hulk                male              1962\n",
       "Beast               male              1963\n",
       "Invisible Woman   female              1961\n",
       "Storm             female              1975\n",
       "Namor               male              1939\n",
       "Hawkeye             male              1964\n",
       "Daredevil           male              1964\n",
       "Doctor Strange      male              1963\n",
       "Hank Pym            male              1962\n",
       "Scarlet Witch     female              1964\n",
       "Wasp              female              1963\n",
       "Black Widow       female              1964\n",
       "Vision              male              1968"
      ]
     },
     "execution_count": 25,
     "metadata": {},
     "output_type": "execute_result"
    }
   ],
   "source": [
    "# your code goes here\n",
    "marvel_df = marvel_df.drop(columns=[\"name\"], axis = 1)\n",
    "marvel_df"
   ]
  },
  {
   "cell_type": "code",
   "execution_count": 26,
   "metadata": {},
   "outputs": [],
   "source": [
    "assert (marvel_df.columns == col_names[1:]).all()"
   ]
  },
  {
   "cell_type": "markdown",
   "metadata": {},
   "source": [
    "![green-divider](https://user-images.githubusercontent.com/7065401/52071924-c003ad80-2562-11e9-8297-1c6595f8a7ff.png)\n",
    "\n",
    "### Drop 'Namor' and 'Hank Pym' rows\n"
   ]
  },
  {
   "cell_type": "code",
   "execution_count": 27,
   "metadata": {},
   "outputs": [],
   "source": [
    "# your code goes here\n",
    "marvel_df = marvel_df.drop([\"Namor\", \"Hank Pym\"], axis=0)"
   ]
  },
  {
   "cell_type": "code",
   "execution_count": 29,
   "metadata": {},
   "outputs": [
    {
     "data": {
      "text/html": [
       "<div>\n",
       "<style scoped>\n",
       "    .dataframe tbody tr th:only-of-type {\n",
       "        vertical-align: middle;\n",
       "    }\n",
       "\n",
       "    .dataframe tbody tr th {\n",
       "        vertical-align: top;\n",
       "    }\n",
       "\n",
       "    .dataframe thead th {\n",
       "        text-align: right;\n",
       "    }\n",
       "</style>\n",
       "<table border=\"1\" class=\"dataframe\">\n",
       "  <thead>\n",
       "    <tr style=\"text-align: right;\">\n",
       "      <th></th>\n",
       "      <th>sex</th>\n",
       "      <th>first_appearance</th>\n",
       "    </tr>\n",
       "    <tr>\n",
       "      <th>name</th>\n",
       "      <th></th>\n",
       "      <th></th>\n",
       "    </tr>\n",
       "  </thead>\n",
       "  <tbody>\n",
       "    <tr>\n",
       "      <th>Spider-Man</th>\n",
       "      <td>male</td>\n",
       "      <td>1962</td>\n",
       "    </tr>\n",
       "    <tr>\n",
       "      <th>Captain America</th>\n",
       "      <td>male</td>\n",
       "      <td>1941</td>\n",
       "    </tr>\n",
       "    <tr>\n",
       "      <th>Wolverine</th>\n",
       "      <td>male</td>\n",
       "      <td>1974</td>\n",
       "    </tr>\n",
       "    <tr>\n",
       "      <th>Iron Man</th>\n",
       "      <td>male</td>\n",
       "      <td>1963</td>\n",
       "    </tr>\n",
       "    <tr>\n",
       "      <th>Thor</th>\n",
       "      <td>male</td>\n",
       "      <td>1963</td>\n",
       "    </tr>\n",
       "    <tr>\n",
       "      <th>Thing</th>\n",
       "      <td>male</td>\n",
       "      <td>1961</td>\n",
       "    </tr>\n",
       "    <tr>\n",
       "      <th>Mister Fantastic</th>\n",
       "      <td>male</td>\n",
       "      <td>1961</td>\n",
       "    </tr>\n",
       "    <tr>\n",
       "      <th>Hulk</th>\n",
       "      <td>male</td>\n",
       "      <td>1962</td>\n",
       "    </tr>\n",
       "    <tr>\n",
       "      <th>Beast</th>\n",
       "      <td>male</td>\n",
       "      <td>1963</td>\n",
       "    </tr>\n",
       "    <tr>\n",
       "      <th>Invisible Woman</th>\n",
       "      <td>female</td>\n",
       "      <td>1961</td>\n",
       "    </tr>\n",
       "    <tr>\n",
       "      <th>Storm</th>\n",
       "      <td>female</td>\n",
       "      <td>1975</td>\n",
       "    </tr>\n",
       "    <tr>\n",
       "      <th>Hawkeye</th>\n",
       "      <td>male</td>\n",
       "      <td>1964</td>\n",
       "    </tr>\n",
       "    <tr>\n",
       "      <th>Daredevil</th>\n",
       "      <td>male</td>\n",
       "      <td>1964</td>\n",
       "    </tr>\n",
       "    <tr>\n",
       "      <th>Doctor Strange</th>\n",
       "      <td>male</td>\n",
       "      <td>1963</td>\n",
       "    </tr>\n",
       "    <tr>\n",
       "      <th>Scarlet Witch</th>\n",
       "      <td>female</td>\n",
       "      <td>1964</td>\n",
       "    </tr>\n",
       "    <tr>\n",
       "      <th>Wasp</th>\n",
       "      <td>female</td>\n",
       "      <td>1963</td>\n",
       "    </tr>\n",
       "    <tr>\n",
       "      <th>Black Widow</th>\n",
       "      <td>female</td>\n",
       "      <td>1964</td>\n",
       "    </tr>\n",
       "    <tr>\n",
       "      <th>Vision</th>\n",
       "      <td>male</td>\n",
       "      <td>1968</td>\n",
       "    </tr>\n",
       "  </tbody>\n",
       "</table>\n",
       "</div>"
      ],
      "text/plain": [
       "                     sex  first_appearance\n",
       "name                                      \n",
       "Spider-Man          male              1962\n",
       "Captain America     male              1941\n",
       "Wolverine           male              1974\n",
       "Iron Man            male              1963\n",
       "Thor                male              1963\n",
       "Thing               male              1961\n",
       "Mister Fantastic    male              1961\n",
       "Hulk                male              1962\n",
       "Beast               male              1963\n",
       "Invisible Woman   female              1961\n",
       "Storm             female              1975\n",
       "Hawkeye             male              1964\n",
       "Daredevil           male              1964\n",
       "Doctor Strange      male              1963\n",
       "Scarlet Witch     female              1964\n",
       "Wasp              female              1963\n",
       "Black Widow       female              1964\n",
       "Vision              male              1968"
      ]
     },
     "execution_count": 29,
     "metadata": {},
     "output_type": "execute_result"
    }
   ],
   "source": [
    "marvel_df"
   ]
  },
  {
   "cell_type": "code",
   "execution_count": 30,
   "metadata": {},
   "outputs": [],
   "source": [
    "# check if the rows have been dropped\n",
    "assert not marvel_df.index.isin(['Namor', 'Hank Pym']).all() "
   ]
  },
  {
   "cell_type": "markdown",
   "metadata": {},
   "source": [
    "![purple-divider](https://user-images.githubusercontent.com/7065401/52071927-c1cd7100-2562-11e9-908a-dde91ba14e59.png)\n",
    "\n",
    "## DataFrame selection, slicing and indexation"
   ]
  },
  {
   "cell_type": "markdown",
   "metadata": {},
   "source": [
    "### Show the first 5 elements on `marvel_df`\n",
    " "
   ]
  },
  {
   "cell_type": "code",
   "execution_count": 31,
   "metadata": {
    "cell_type": "solution"
   },
   "outputs": [
    {
     "data": {
      "text/html": [
       "<div>\n",
       "<style scoped>\n",
       "    .dataframe tbody tr th:only-of-type {\n",
       "        vertical-align: middle;\n",
       "    }\n",
       "\n",
       "    .dataframe tbody tr th {\n",
       "        vertical-align: top;\n",
       "    }\n",
       "\n",
       "    .dataframe thead th {\n",
       "        text-align: right;\n",
       "    }\n",
       "</style>\n",
       "<table border=\"1\" class=\"dataframe\">\n",
       "  <thead>\n",
       "    <tr style=\"text-align: right;\">\n",
       "      <th></th>\n",
       "      <th>sex</th>\n",
       "      <th>first_appearance</th>\n",
       "    </tr>\n",
       "    <tr>\n",
       "      <th>name</th>\n",
       "      <th></th>\n",
       "      <th></th>\n",
       "    </tr>\n",
       "  </thead>\n",
       "  <tbody>\n",
       "    <tr>\n",
       "      <th>Spider-Man</th>\n",
       "      <td>male</td>\n",
       "      <td>1962</td>\n",
       "    </tr>\n",
       "    <tr>\n",
       "      <th>Captain America</th>\n",
       "      <td>male</td>\n",
       "      <td>1941</td>\n",
       "    </tr>\n",
       "    <tr>\n",
       "      <th>Wolverine</th>\n",
       "      <td>male</td>\n",
       "      <td>1974</td>\n",
       "    </tr>\n",
       "    <tr>\n",
       "      <th>Iron Man</th>\n",
       "      <td>male</td>\n",
       "      <td>1963</td>\n",
       "    </tr>\n",
       "    <tr>\n",
       "      <th>Thor</th>\n",
       "      <td>male</td>\n",
       "      <td>1963</td>\n",
       "    </tr>\n",
       "  </tbody>\n",
       "</table>\n",
       "</div>"
      ],
      "text/plain": [
       "                  sex  first_appearance\n",
       "name                                   \n",
       "Spider-Man       male              1962\n",
       "Captain America  male              1941\n",
       "Wolverine        male              1974\n",
       "Iron Man         male              1963\n",
       "Thor             male              1963"
      ]
     },
     "execution_count": 31,
     "metadata": {},
     "output_type": "execute_result"
    }
   ],
   "source": [
    "# your code goes here\n",
    "marvel_df.head(5)"
   ]
  },
  {
   "cell_type": "markdown",
   "metadata": {},
   "source": [
    "![green-divider](https://user-images.githubusercontent.com/7065401/52071924-c003ad80-2562-11e9-8297-1c6595f8a7ff.png)\n",
    "\n",
    "### Show the last 5 elements on `marvel_df`\n"
   ]
  },
  {
   "cell_type": "code",
   "execution_count": 34,
   "metadata": {},
   "outputs": [],
   "source": [
    "# your code goes here\n",
    "last_five = marvel_df.tail(5)"
   ]
  },
  {
   "cell_type": "code",
   "execution_count": 35,
   "metadata": {},
   "outputs": [],
   "source": [
    "assert (last_five.index == ['Doctor Strange', 'Scarlet Witch', 'Wasp', 'Black Widow', 'Vision']).all()"
   ]
  },
  {
   "cell_type": "markdown",
   "metadata": {},
   "source": [
    "![green-divider](https://user-images.githubusercontent.com/7065401/52071924-c003ad80-2562-11e9-8297-1c6595f8a7ff.png)\n",
    "\n",
    "### Show just the sex of the first 5 elements on `marvel_df`"
   ]
  },
  {
   "cell_type": "code",
   "execution_count": 40,
   "metadata": {},
   "outputs": [
    {
     "data": {
      "text/plain": [
       "name\n",
       "Spider-Man         male\n",
       "Captain America    male\n",
       "Wolverine          male\n",
       "Iron Man           male\n",
       "Thor               male\n",
       "Name: sex, dtype: object"
      ]
     },
     "execution_count": 40,
     "metadata": {},
     "output_type": "execute_result"
    }
   ],
   "source": [
    "# your code goes here\n",
    "gender = marvel_df[\"sex\"].head(5)\n",
    "gender"
   ]
  },
  {
   "cell_type": "code",
   "execution_count": 41,
   "metadata": {},
   "outputs": [],
   "source": [
    "assert np.unique(gender.values) == 'male'"
   ]
  },
  {
   "cell_type": "markdown",
   "metadata": {},
   "source": [
    "![green-divider](https://user-images.githubusercontent.com/7065401/52071924-c003ad80-2562-11e9-8297-1c6595f8a7ff.png)\n",
    "\n",
    "### Show the first_appearance of all middle elements on `marvel_df` "
   ]
  },
  {
   "cell_type": "code",
   "execution_count": 44,
   "metadata": {},
   "outputs": [
    {
     "data": {
      "text/plain": [
       "name\n",
       "Captain America     1941\n",
       "Wolverine           1974\n",
       "Iron Man            1963\n",
       "Thor                1963\n",
       "Thing               1961\n",
       "Mister Fantastic    1961\n",
       "Hulk                1962\n",
       "Beast               1963\n",
       "Invisible Woman     1961\n",
       "Storm               1975\n",
       "Hawkeye             1964\n",
       "Daredevil           1964\n",
       "Doctor Strange      1963\n",
       "Scarlet Witch       1964\n",
       "Wasp                1963\n",
       "Black Widow         1964\n",
       "Name: first_appearance, dtype: int64"
      ]
     },
     "execution_count": 44,
     "metadata": {},
     "output_type": "execute_result"
    }
   ],
   "source": [
    "# your code goes here\n",
    "value = marvel_df[\"first_appearance\"][1:-1]\n",
    "value"
   ]
  },
  {
   "cell_type": "code",
   "execution_count": 45,
   "metadata": {},
   "outputs": [],
   "source": [
    "assert (value.index == ['Captain America', 'Wolverine', 'Iron Man', 'Thor', 'Thing',\n",
    "       'Mister Fantastic', 'Hulk', 'Beast', 'Invisible Woman', 'Storm',\n",
    "       'Hawkeye', 'Daredevil', 'Doctor Strange', 'Scarlet Witch', 'Wasp',\n",
    "       'Black Widow']).all()"
   ]
  },
  {
   "cell_type": "markdown",
   "metadata": {},
   "source": [
    "![green-divider](https://user-images.githubusercontent.com/7065401/52071924-c003ad80-2562-11e9-8297-1c6595f8a7ff.png)\n",
    "\n",
    "### Show the first and last elements on `marvel_df`\n"
   ]
  },
  {
   "cell_type": "code",
   "execution_count": 52,
   "metadata": {},
   "outputs": [],
   "source": [
    "# your code goes here\n",
    "first_last = marvel_df[::len(marvel_df) - 1]"
   ]
  },
  {
   "cell_type": "code",
   "execution_count": 54,
   "metadata": {},
   "outputs": [
    {
     "data": {
      "text/plain": [
       "Index(['Spider-Man', 'Vision'], dtype='object', name='name')"
      ]
     },
     "execution_count": 54,
     "metadata": {},
     "output_type": "execute_result"
    }
   ],
   "source": [
    "first_last.index"
   ]
  },
  {
   "cell_type": "code",
   "execution_count": 55,
   "metadata": {},
   "outputs": [
    {
     "ename": "AssertionError",
     "evalue": "",
     "output_type": "error",
     "traceback": [
      "\u001b[1;31m---------------------------------------------------------------------------\u001b[0m",
      "\u001b[1;31mAssertionError\u001b[0m                            Traceback (most recent call last)",
      "Input \u001b[1;32mIn [55]\u001b[0m, in \u001b[0;36m<cell line: 1>\u001b[1;34m()\u001b[0m\n\u001b[1;32m----> 1\u001b[0m \u001b[38;5;28;01massert\u001b[39;00m (first_last\u001b[38;5;241m.\u001b[39mindex \u001b[38;5;241m==\u001b[39m (\u001b[38;5;124m\"\u001b[39m\u001b[38;5;124mSpider-Man\u001b[39m\u001b[38;5;124m\"\u001b[39m, \u001b[38;5;124m\"\u001b[39m\u001b[38;5;124mVision\u001b[39m\u001b[38;5;124m\"\u001b[39m))\u001b[38;5;241m.\u001b[39mall()\n",
      "\u001b[1;31mAssertionError\u001b[0m: "
     ]
    }
   ],
   "source": [
    "assert (first_last.index == (\"Spider-Man\", \"Vision\")).all()"
   ]
  },
  {
   "cell_type": "markdown",
   "metadata": {},
   "source": [
    "![purple-divider](https://user-images.githubusercontent.com/7065401/52071927-c1cd7100-2562-11e9-908a-dde91ba14e59.png)\n",
    "\n",
    "## DataFrame manipulation and operations"
   ]
  },
  {
   "cell_type": "markdown",
   "metadata": {},
   "source": [
    "### Modify the `first_appearance` of 'Vision' to year 1964"
   ]
  },
  {
   "cell_type": "code",
   "execution_count": 58,
   "metadata": {
    "cell_type": "solution"
   },
   "outputs": [],
   "source": [
    "# your code goes here\n",
    "marvel_df.loc[marvel_df.index == \"Vision\", \"first_appearance\"] = 1964"
   ]
  },
  {
   "cell_type": "code",
   "execution_count": 59,
   "metadata": {},
   "outputs": [
    {
     "data": {
      "text/html": [
       "<div>\n",
       "<style scoped>\n",
       "    .dataframe tbody tr th:only-of-type {\n",
       "        vertical-align: middle;\n",
       "    }\n",
       "\n",
       "    .dataframe tbody tr th {\n",
       "        vertical-align: top;\n",
       "    }\n",
       "\n",
       "    .dataframe thead th {\n",
       "        text-align: right;\n",
       "    }\n",
       "</style>\n",
       "<table border=\"1\" class=\"dataframe\">\n",
       "  <thead>\n",
       "    <tr style=\"text-align: right;\">\n",
       "      <th></th>\n",
       "      <th>sex</th>\n",
       "      <th>first_appearance</th>\n",
       "    </tr>\n",
       "    <tr>\n",
       "      <th>name</th>\n",
       "      <th></th>\n",
       "      <th></th>\n",
       "    </tr>\n",
       "  </thead>\n",
       "  <tbody>\n",
       "    <tr>\n",
       "      <th>Spider-Man</th>\n",
       "      <td>male</td>\n",
       "      <td>1962</td>\n",
       "    </tr>\n",
       "    <tr>\n",
       "      <th>Captain America</th>\n",
       "      <td>male</td>\n",
       "      <td>1941</td>\n",
       "    </tr>\n",
       "    <tr>\n",
       "      <th>Wolverine</th>\n",
       "      <td>male</td>\n",
       "      <td>1974</td>\n",
       "    </tr>\n",
       "    <tr>\n",
       "      <th>Iron Man</th>\n",
       "      <td>male</td>\n",
       "      <td>1963</td>\n",
       "    </tr>\n",
       "    <tr>\n",
       "      <th>Thor</th>\n",
       "      <td>male</td>\n",
       "      <td>1963</td>\n",
       "    </tr>\n",
       "    <tr>\n",
       "      <th>Thing</th>\n",
       "      <td>male</td>\n",
       "      <td>1961</td>\n",
       "    </tr>\n",
       "    <tr>\n",
       "      <th>Mister Fantastic</th>\n",
       "      <td>male</td>\n",
       "      <td>1961</td>\n",
       "    </tr>\n",
       "    <tr>\n",
       "      <th>Hulk</th>\n",
       "      <td>male</td>\n",
       "      <td>1962</td>\n",
       "    </tr>\n",
       "    <tr>\n",
       "      <th>Beast</th>\n",
       "      <td>male</td>\n",
       "      <td>1963</td>\n",
       "    </tr>\n",
       "    <tr>\n",
       "      <th>Invisible Woman</th>\n",
       "      <td>female</td>\n",
       "      <td>1961</td>\n",
       "    </tr>\n",
       "    <tr>\n",
       "      <th>Storm</th>\n",
       "      <td>female</td>\n",
       "      <td>1975</td>\n",
       "    </tr>\n",
       "    <tr>\n",
       "      <th>Hawkeye</th>\n",
       "      <td>male</td>\n",
       "      <td>1964</td>\n",
       "    </tr>\n",
       "    <tr>\n",
       "      <th>Daredevil</th>\n",
       "      <td>male</td>\n",
       "      <td>1964</td>\n",
       "    </tr>\n",
       "    <tr>\n",
       "      <th>Doctor Strange</th>\n",
       "      <td>male</td>\n",
       "      <td>1963</td>\n",
       "    </tr>\n",
       "    <tr>\n",
       "      <th>Scarlet Witch</th>\n",
       "      <td>female</td>\n",
       "      <td>1964</td>\n",
       "    </tr>\n",
       "    <tr>\n",
       "      <th>Wasp</th>\n",
       "      <td>female</td>\n",
       "      <td>1963</td>\n",
       "    </tr>\n",
       "    <tr>\n",
       "      <th>Black Widow</th>\n",
       "      <td>female</td>\n",
       "      <td>1964</td>\n",
       "    </tr>\n",
       "    <tr>\n",
       "      <th>Vision</th>\n",
       "      <td>male</td>\n",
       "      <td>1964</td>\n",
       "    </tr>\n",
       "  </tbody>\n",
       "</table>\n",
       "</div>"
      ],
      "text/plain": [
       "                     sex  first_appearance\n",
       "name                                      \n",
       "Spider-Man          male              1962\n",
       "Captain America     male              1941\n",
       "Wolverine           male              1974\n",
       "Iron Man            male              1963\n",
       "Thor                male              1963\n",
       "Thing               male              1961\n",
       "Mister Fantastic    male              1961\n",
       "Hulk                male              1962\n",
       "Beast               male              1963\n",
       "Invisible Woman   female              1961\n",
       "Storm             female              1975\n",
       "Hawkeye             male              1964\n",
       "Daredevil           male              1964\n",
       "Doctor Strange      male              1963\n",
       "Scarlet Witch     female              1964\n",
       "Wasp              female              1963\n",
       "Black Widow       female              1964\n",
       "Vision              male              1964"
      ]
     },
     "execution_count": 59,
     "metadata": {},
     "output_type": "execute_result"
    }
   ],
   "source": [
    "marvel_df"
   ]
  },
  {
   "cell_type": "code",
   "execution_count": 60,
   "metadata": {},
   "outputs": [],
   "source": [
    "assert marvel_df.loc['Vision', 'first_appearance'] == 1964"
   ]
  },
  {
   "cell_type": "markdown",
   "metadata": {},
   "source": [
    "![green-divider](https://user-images.githubusercontent.com/7065401/52071924-c003ad80-2562-11e9-8297-1c6595f8a7ff.png)\n",
    "\n",
    "### Add a new column to `marvel_df` called 'years_since' with the years since `first_appearance`\n"
   ]
  },
  {
   "cell_type": "code",
   "execution_count": 63,
   "metadata": {
    "cell_type": "solution"
   },
   "outputs": [
    {
     "data": {
      "text/html": [
       "<div>\n",
       "<style scoped>\n",
       "    .dataframe tbody tr th:only-of-type {\n",
       "        vertical-align: middle;\n",
       "    }\n",
       "\n",
       "    .dataframe tbody tr th {\n",
       "        vertical-align: top;\n",
       "    }\n",
       "\n",
       "    .dataframe thead th {\n",
       "        text-align: right;\n",
       "    }\n",
       "</style>\n",
       "<table border=\"1\" class=\"dataframe\">\n",
       "  <thead>\n",
       "    <tr style=\"text-align: right;\">\n",
       "      <th></th>\n",
       "      <th>sex</th>\n",
       "      <th>first_appearance</th>\n",
       "      <th>years_since</th>\n",
       "    </tr>\n",
       "    <tr>\n",
       "      <th>name</th>\n",
       "      <th></th>\n",
       "      <th></th>\n",
       "      <th></th>\n",
       "    </tr>\n",
       "  </thead>\n",
       "  <tbody>\n",
       "    <tr>\n",
       "      <th>Spider-Man</th>\n",
       "      <td>male</td>\n",
       "      <td>1962</td>\n",
       "      <td>61</td>\n",
       "    </tr>\n",
       "    <tr>\n",
       "      <th>Captain America</th>\n",
       "      <td>male</td>\n",
       "      <td>1941</td>\n",
       "      <td>82</td>\n",
       "    </tr>\n",
       "    <tr>\n",
       "      <th>Wolverine</th>\n",
       "      <td>male</td>\n",
       "      <td>1974</td>\n",
       "      <td>49</td>\n",
       "    </tr>\n",
       "    <tr>\n",
       "      <th>Iron Man</th>\n",
       "      <td>male</td>\n",
       "      <td>1963</td>\n",
       "      <td>60</td>\n",
       "    </tr>\n",
       "    <tr>\n",
       "      <th>Thor</th>\n",
       "      <td>male</td>\n",
       "      <td>1963</td>\n",
       "      <td>60</td>\n",
       "    </tr>\n",
       "    <tr>\n",
       "      <th>Thing</th>\n",
       "      <td>male</td>\n",
       "      <td>1961</td>\n",
       "      <td>62</td>\n",
       "    </tr>\n",
       "    <tr>\n",
       "      <th>Mister Fantastic</th>\n",
       "      <td>male</td>\n",
       "      <td>1961</td>\n",
       "      <td>62</td>\n",
       "    </tr>\n",
       "    <tr>\n",
       "      <th>Hulk</th>\n",
       "      <td>male</td>\n",
       "      <td>1962</td>\n",
       "      <td>61</td>\n",
       "    </tr>\n",
       "    <tr>\n",
       "      <th>Beast</th>\n",
       "      <td>male</td>\n",
       "      <td>1963</td>\n",
       "      <td>60</td>\n",
       "    </tr>\n",
       "    <tr>\n",
       "      <th>Invisible Woman</th>\n",
       "      <td>female</td>\n",
       "      <td>1961</td>\n",
       "      <td>62</td>\n",
       "    </tr>\n",
       "    <tr>\n",
       "      <th>Storm</th>\n",
       "      <td>female</td>\n",
       "      <td>1975</td>\n",
       "      <td>48</td>\n",
       "    </tr>\n",
       "    <tr>\n",
       "      <th>Hawkeye</th>\n",
       "      <td>male</td>\n",
       "      <td>1964</td>\n",
       "      <td>59</td>\n",
       "    </tr>\n",
       "    <tr>\n",
       "      <th>Daredevil</th>\n",
       "      <td>male</td>\n",
       "      <td>1964</td>\n",
       "      <td>59</td>\n",
       "    </tr>\n",
       "    <tr>\n",
       "      <th>Doctor Strange</th>\n",
       "      <td>male</td>\n",
       "      <td>1963</td>\n",
       "      <td>60</td>\n",
       "    </tr>\n",
       "    <tr>\n",
       "      <th>Scarlet Witch</th>\n",
       "      <td>female</td>\n",
       "      <td>1964</td>\n",
       "      <td>59</td>\n",
       "    </tr>\n",
       "    <tr>\n",
       "      <th>Wasp</th>\n",
       "      <td>female</td>\n",
       "      <td>1963</td>\n",
       "      <td>60</td>\n",
       "    </tr>\n",
       "    <tr>\n",
       "      <th>Black Widow</th>\n",
       "      <td>female</td>\n",
       "      <td>1964</td>\n",
       "      <td>59</td>\n",
       "    </tr>\n",
       "    <tr>\n",
       "      <th>Vision</th>\n",
       "      <td>male</td>\n",
       "      <td>1964</td>\n",
       "      <td>59</td>\n",
       "    </tr>\n",
       "  </tbody>\n",
       "</table>\n",
       "</div>"
      ],
      "text/plain": [
       "                     sex  first_appearance  years_since\n",
       "name                                                   \n",
       "Spider-Man          male              1962           61\n",
       "Captain America     male              1941           82\n",
       "Wolverine           male              1974           49\n",
       "Iron Man            male              1963           60\n",
       "Thor                male              1963           60\n",
       "Thing               male              1961           62\n",
       "Mister Fantastic    male              1961           62\n",
       "Hulk                male              1962           61\n",
       "Beast               male              1963           60\n",
       "Invisible Woman   female              1961           62\n",
       "Storm             female              1975           48\n",
       "Hawkeye             male              1964           59\n",
       "Daredevil           male              1964           59\n",
       "Doctor Strange      male              1963           60\n",
       "Scarlet Witch     female              1964           59\n",
       "Wasp              female              1963           60\n",
       "Black Widow       female              1964           59\n",
       "Vision              male              1964           59"
      ]
     },
     "execution_count": 63,
     "metadata": {},
     "output_type": "execute_result"
    }
   ],
   "source": [
    "#your code goes here\n",
    "marvel_df.assign(years_since = 2023 - marvel_df[\"first_appearance\"])"
   ]
  },
  {
   "cell_type": "markdown",
   "metadata": {},
   "source": [
    "![green-divider](https://user-images.githubusercontent.com/7065401/52071924-c003ad80-2562-11e9-8297-1c6595f8a7ff.png)\n",
    "\n",
    "### Given the `marvel_df` pandas DataFrame, get the male characters\n"
   ]
  },
  {
   "cell_type": "code",
   "execution_count": 64,
   "metadata": {},
   "outputs": [],
   "source": [
    "# your code goes here\n",
    "all_man = marvel_df.loc[marvel_df[\"sex\"] == \"male\"]"
   ]
  },
  {
   "cell_type": "code",
   "execution_count": 65,
   "metadata": {},
   "outputs": [],
   "source": [
    "assert all_man['sex'].unique() == \"male\""
   ]
  },
  {
   "cell_type": "markdown",
   "metadata": {},
   "source": [
    "![green-divider](https://user-images.githubusercontent.com/7065401/52071924-c003ad80-2562-11e9-8297-1c6595f8a7ff.png)\n",
    "\n",
    "### Given the `marvel_df` pandas DataFrame, get the characters with `first_appearance` after 1970\n"
   ]
  },
  {
   "cell_type": "code",
   "execution_count": 66,
   "metadata": {},
   "outputs": [],
   "source": [
    "# your code goes here\n",
    "after = marvel_df.loc[marvel_df[\"first_appearance\"] > 1970]"
   ]
  },
  {
   "cell_type": "code",
   "execution_count": 67,
   "metadata": {},
   "outputs": [],
   "source": [
    "assert after['first_appearance'].min() > 1970"
   ]
  },
  {
   "cell_type": "markdown",
   "metadata": {},
   "source": [
    "![green-divider](https://user-images.githubusercontent.com/7065401/52071924-c003ad80-2562-11e9-8297-1c6595f8a7ff.png)\n",
    "\n",
    "### Given the `marvel_df` pandas DataFrame, get the female characters with `first_appearance` after 1970"
   ]
  },
  {
   "cell_type": "code",
   "execution_count": 70,
   "metadata": {},
   "outputs": [],
   "source": [
    "# your code goes here\n",
    "result = marvel_df.loc[(marvel_df[\"first_appearance\"] > 1970) & (marvel_df[\"sex\"] == \"female\")] "
   ]
  },
  {
   "cell_type": "code",
   "execution_count": 72,
   "metadata": {},
   "outputs": [
    {
     "data": {
      "text/html": [
       "<div>\n",
       "<style scoped>\n",
       "    .dataframe tbody tr th:only-of-type {\n",
       "        vertical-align: middle;\n",
       "    }\n",
       "\n",
       "    .dataframe tbody tr th {\n",
       "        vertical-align: top;\n",
       "    }\n",
       "\n",
       "    .dataframe thead th {\n",
       "        text-align: right;\n",
       "    }\n",
       "</style>\n",
       "<table border=\"1\" class=\"dataframe\">\n",
       "  <thead>\n",
       "    <tr style=\"text-align: right;\">\n",
       "      <th></th>\n",
       "      <th>sex</th>\n",
       "      <th>first_appearance</th>\n",
       "    </tr>\n",
       "    <tr>\n",
       "      <th>name</th>\n",
       "      <th></th>\n",
       "      <th></th>\n",
       "    </tr>\n",
       "  </thead>\n",
       "  <tbody>\n",
       "    <tr>\n",
       "      <th>Storm</th>\n",
       "      <td>female</td>\n",
       "      <td>1975</td>\n",
       "    </tr>\n",
       "  </tbody>\n",
       "</table>\n",
       "</div>"
      ],
      "text/plain": [
       "          sex  first_appearance\n",
       "name                           \n",
       "Storm  female              1975"
      ]
     },
     "execution_count": 72,
     "metadata": {},
     "output_type": "execute_result"
    }
   ],
   "source": [
    "result"
   ]
  },
  {
   "cell_type": "code",
   "execution_count": 73,
   "metadata": {},
   "outputs": [],
   "source": [
    "assert result['sex'].unique() == 'female' and result['first_appearance'].min() > 1970"
   ]
  },
  {
   "cell_type": "markdown",
   "metadata": {},
   "source": [
    "![purple-divider](https://user-images.githubusercontent.com/7065401/52071927-c1cd7100-2562-11e9-908a-dde91ba14e59.png)\n",
    "\n",
    "## DataFrame summary statistics"
   ]
  },
  {
   "cell_type": "markdown",
   "metadata": {},
   "source": [
    "### Show basic statistics of `marvel_df`"
   ]
  },
  {
   "cell_type": "code",
   "execution_count": 79,
   "metadata": {
    "cell_type": "solution"
   },
   "outputs": [
    {
     "data": {
      "text/html": [
       "<div>\n",
       "<style scoped>\n",
       "    .dataframe tbody tr th:only-of-type {\n",
       "        vertical-align: middle;\n",
       "    }\n",
       "\n",
       "    .dataframe tbody tr th {\n",
       "        vertical-align: top;\n",
       "    }\n",
       "\n",
       "    .dataframe thead th {\n",
       "        text-align: right;\n",
       "    }\n",
       "</style>\n",
       "<table border=\"1\" class=\"dataframe\">\n",
       "  <thead>\n",
       "    <tr style=\"text-align: right;\">\n",
       "      <th></th>\n",
       "      <th>sex</th>\n",
       "    </tr>\n",
       "  </thead>\n",
       "  <tbody>\n",
       "    <tr>\n",
       "      <th>count</th>\n",
       "      <td>18</td>\n",
       "    </tr>\n",
       "    <tr>\n",
       "      <th>unique</th>\n",
       "      <td>2</td>\n",
       "    </tr>\n",
       "    <tr>\n",
       "      <th>top</th>\n",
       "      <td>male</td>\n",
       "    </tr>\n",
       "    <tr>\n",
       "      <th>freq</th>\n",
       "      <td>13</td>\n",
       "    </tr>\n",
       "  </tbody>\n",
       "</table>\n",
       "</div>"
      ],
      "text/plain": [
       "         sex\n",
       "count     18\n",
       "unique     2\n",
       "top     male\n",
       "freq      13"
      ]
     },
     "execution_count": 79,
     "metadata": {},
     "output_type": "execute_result"
    }
   ],
   "source": [
    "# your code goes here\n",
    "marvel_df.describe(include='object')"
   ]
  },
  {
   "cell_type": "markdown",
   "metadata": {},
   "source": [
    "![green-divider](https://user-images.githubusercontent.com/7065401/52071924-c003ad80-2562-11e9-8297-1c6595f8a7ff.png)\n",
    "\n",
    "### Given the `marvel_df` pandas DataFrame, show the mean value of `first_appearance`"
   ]
  },
  {
   "cell_type": "code",
   "execution_count": 112,
   "metadata": {},
   "outputs": [],
   "source": [
    "# your code goes here\n",
    "mean = marvel_df[\"first_appearance\"].mean()"
   ]
  },
  {
   "cell_type": "code",
   "execution_count": 116,
   "metadata": {},
   "outputs": [],
   "source": [
    "assert np.round(mean) == 1963"
   ]
  },
  {
   "cell_type": "markdown",
   "metadata": {},
   "source": [
    "![green-divider](https://user-images.githubusercontent.com/7065401/52071924-c003ad80-2562-11e9-8297-1c6595f8a7ff.png)\n",
    "\n",
    "### Given the `marvel_df` pandas DataFrame, show the min value of `first_appearance`\n"
   ]
  },
  {
   "cell_type": "code",
   "execution_count": 80,
   "metadata": {},
   "outputs": [],
   "source": [
    "# your code goes here\n",
    "min = marvel_df[\"first_appearance\"].min()"
   ]
  },
  {
   "cell_type": "code",
   "execution_count": 81,
   "metadata": {},
   "outputs": [],
   "source": [
    "assert min == 1941"
   ]
  },
  {
   "cell_type": "markdown",
   "metadata": {},
   "source": [
    "![green-divider](https://user-images.githubusercontent.com/7065401/52071924-c003ad80-2562-11e9-8297-1c6595f8a7ff.png)\n",
    "\n",
    "### Given the `marvel_df` pandas DataFrame, get the characters with the min value of `first_appearance`"
   ]
  },
  {
   "cell_type": "code",
   "execution_count": 82,
   "metadata": {},
   "outputs": [
    {
     "data": {
      "text/html": [
       "<div>\n",
       "<style scoped>\n",
       "    .dataframe tbody tr th:only-of-type {\n",
       "        vertical-align: middle;\n",
       "    }\n",
       "\n",
       "    .dataframe tbody tr th {\n",
       "        vertical-align: top;\n",
       "    }\n",
       "\n",
       "    .dataframe thead th {\n",
       "        text-align: right;\n",
       "    }\n",
       "</style>\n",
       "<table border=\"1\" class=\"dataframe\">\n",
       "  <thead>\n",
       "    <tr style=\"text-align: right;\">\n",
       "      <th></th>\n",
       "      <th>sex</th>\n",
       "      <th>first_appearance</th>\n",
       "    </tr>\n",
       "    <tr>\n",
       "      <th>name</th>\n",
       "      <th></th>\n",
       "      <th></th>\n",
       "    </tr>\n",
       "  </thead>\n",
       "  <tbody>\n",
       "    <tr>\n",
       "      <th>Captain America</th>\n",
       "      <td>male</td>\n",
       "      <td>1941</td>\n",
       "    </tr>\n",
       "  </tbody>\n",
       "</table>\n",
       "</div>"
      ],
      "text/plain": [
       "                  sex  first_appearance\n",
       "name                                   \n",
       "Captain America  male              1941"
      ]
     },
     "execution_count": 82,
     "metadata": {},
     "output_type": "execute_result"
    }
   ],
   "source": [
    "# your code goes here\n",
    "marvel_df.loc[marvel_df[\"first_appearance\"] == marvel_df[\"first_appearance\"].min()]"
   ]
  },
  {
   "cell_type": "markdown",
   "metadata": {},
   "source": [
    "![purple-divider](https://user-images.githubusercontent.com/7065401/52071927-c1cd7100-2562-11e9-908a-dde91ba14e59.png)\n",
    "\n",
    "## DataFrame basic plottings"
   ]
  },
  {
   "cell_type": "markdown",
   "metadata": {},
   "source": [
    "### Reset index names of `marvel_df`\n"
   ]
  },
  {
   "cell_type": "code",
   "execution_count": 128,
   "metadata": {
    "cell_type": "solution"
   },
   "outputs": [
    {
     "data": {
      "text/html": [
       "<div>\n",
       "<style scoped>\n",
       "    .dataframe tbody tr th:only-of-type {\n",
       "        vertical-align: middle;\n",
       "    }\n",
       "\n",
       "    .dataframe tbody tr th {\n",
       "        vertical-align: top;\n",
       "    }\n",
       "\n",
       "    .dataframe thead th {\n",
       "        text-align: right;\n",
       "    }\n",
       "</style>\n",
       "<table border=\"1\" class=\"dataframe\">\n",
       "  <thead>\n",
       "    <tr style=\"text-align: right;\">\n",
       "      <th></th>\n",
       "      <th>name</th>\n",
       "      <th>sex</th>\n",
       "      <th>first_appearance</th>\n",
       "      <th>years_since</th>\n",
       "    </tr>\n",
       "  </thead>\n",
       "  <tbody>\n",
       "    <tr>\n",
       "      <th>0</th>\n",
       "      <td>Spider-Man</td>\n",
       "      <td>male</td>\n",
       "      <td>1962</td>\n",
       "      <td>61</td>\n",
       "    </tr>\n",
       "    <tr>\n",
       "      <th>1</th>\n",
       "      <td>Captain America</td>\n",
       "      <td>male</td>\n",
       "      <td>1941</td>\n",
       "      <td>82</td>\n",
       "    </tr>\n",
       "    <tr>\n",
       "      <th>2</th>\n",
       "      <td>Wolverine</td>\n",
       "      <td>male</td>\n",
       "      <td>1974</td>\n",
       "      <td>49</td>\n",
       "    </tr>\n",
       "    <tr>\n",
       "      <th>3</th>\n",
       "      <td>Iron Man</td>\n",
       "      <td>male</td>\n",
       "      <td>1963</td>\n",
       "      <td>60</td>\n",
       "    </tr>\n",
       "    <tr>\n",
       "      <th>4</th>\n",
       "      <td>Thor</td>\n",
       "      <td>male</td>\n",
       "      <td>1963</td>\n",
       "      <td>60</td>\n",
       "    </tr>\n",
       "    <tr>\n",
       "      <th>5</th>\n",
       "      <td>Thing</td>\n",
       "      <td>male</td>\n",
       "      <td>1961</td>\n",
       "      <td>62</td>\n",
       "    </tr>\n",
       "    <tr>\n",
       "      <th>6</th>\n",
       "      <td>Mister Fantastic</td>\n",
       "      <td>male</td>\n",
       "      <td>1961</td>\n",
       "      <td>62</td>\n",
       "    </tr>\n",
       "    <tr>\n",
       "      <th>7</th>\n",
       "      <td>Hulk</td>\n",
       "      <td>male</td>\n",
       "      <td>1962</td>\n",
       "      <td>61</td>\n",
       "    </tr>\n",
       "    <tr>\n",
       "      <th>8</th>\n",
       "      <td>Beast</td>\n",
       "      <td>male</td>\n",
       "      <td>1963</td>\n",
       "      <td>60</td>\n",
       "    </tr>\n",
       "    <tr>\n",
       "      <th>9</th>\n",
       "      <td>Invisible Woman</td>\n",
       "      <td>female</td>\n",
       "      <td>1961</td>\n",
       "      <td>62</td>\n",
       "    </tr>\n",
       "    <tr>\n",
       "      <th>10</th>\n",
       "      <td>Storm</td>\n",
       "      <td>female</td>\n",
       "      <td>1975</td>\n",
       "      <td>48</td>\n",
       "    </tr>\n",
       "    <tr>\n",
       "      <th>11</th>\n",
       "      <td>Hawkeye</td>\n",
       "      <td>male</td>\n",
       "      <td>1964</td>\n",
       "      <td>59</td>\n",
       "    </tr>\n",
       "    <tr>\n",
       "      <th>12</th>\n",
       "      <td>Daredevil</td>\n",
       "      <td>male</td>\n",
       "      <td>1964</td>\n",
       "      <td>59</td>\n",
       "    </tr>\n",
       "    <tr>\n",
       "      <th>13</th>\n",
       "      <td>Doctor Strange</td>\n",
       "      <td>male</td>\n",
       "      <td>1963</td>\n",
       "      <td>60</td>\n",
       "    </tr>\n",
       "    <tr>\n",
       "      <th>14</th>\n",
       "      <td>Scarlet Witch</td>\n",
       "      <td>female</td>\n",
       "      <td>1964</td>\n",
       "      <td>59</td>\n",
       "    </tr>\n",
       "    <tr>\n",
       "      <th>15</th>\n",
       "      <td>Wasp</td>\n",
       "      <td>female</td>\n",
       "      <td>1963</td>\n",
       "      <td>60</td>\n",
       "    </tr>\n",
       "    <tr>\n",
       "      <th>16</th>\n",
       "      <td>Black Widow</td>\n",
       "      <td>female</td>\n",
       "      <td>1964</td>\n",
       "      <td>59</td>\n",
       "    </tr>\n",
       "    <tr>\n",
       "      <th>17</th>\n",
       "      <td>Vision</td>\n",
       "      <td>male</td>\n",
       "      <td>1964</td>\n",
       "      <td>59</td>\n",
       "    </tr>\n",
       "  </tbody>\n",
       "</table>\n",
       "</div>"
      ],
      "text/plain": [
       "                name     sex  first_appearance  years_since\n",
       "0         Spider-Man    male              1962           61\n",
       "1    Captain America    male              1941           82\n",
       "2          Wolverine    male              1974           49\n",
       "3           Iron Man    male              1963           60\n",
       "4               Thor    male              1963           60\n",
       "5              Thing    male              1961           62\n",
       "6   Mister Fantastic    male              1961           62\n",
       "7               Hulk    male              1962           61\n",
       "8              Beast    male              1963           60\n",
       "9    Invisible Woman  female              1961           62\n",
       "10             Storm  female              1975           48\n",
       "11           Hawkeye    male              1964           59\n",
       "12         Daredevil    male              1964           59\n",
       "13    Doctor Strange    male              1963           60\n",
       "14     Scarlet Witch  female              1964           59\n",
       "15              Wasp  female              1963           60\n",
       "16       Black Widow  female              1964           59\n",
       "17            Vision    male              1964           59"
      ]
     },
     "execution_count": 128,
     "metadata": {},
     "output_type": "execute_result"
    }
   ],
   "source": [
    "marvel_df = marvel_df.reset_index()\n",
    "\n",
    "marvel_df"
   ]
  },
  {
   "cell_type": "markdown",
   "metadata": {},
   "source": [
    "![green-divider](https://user-images.githubusercontent.com/7065401/52071924-c003ad80-2562-11e9-8297-1c6595f8a7ff.png)\n",
    "\n",
    "### Plot the values of `first_appearance`\n"
   ]
  },
  {
   "cell_type": "code",
   "execution_count": 83,
   "metadata": {
    "cell_type": "solution"
   },
   "outputs": [
    {
     "data": {
      "text/plain": [
       "<AxesSubplot:xlabel='name'>"
      ]
     },
     "execution_count": 83,
     "metadata": {},
     "output_type": "execute_result"
    },
    {
     "data": {
      "image/png": "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\n",
      "text/plain": [
       "<Figure size 432x288 with 1 Axes>"
      ]
     },
     "metadata": {
      "needs_background": "light"
     },
     "output_type": "display_data"
    }
   ],
   "source": [
    "# your code goes here\n",
    "marvel_df[\"first_appearance\"].plot()"
   ]
  },
  {
   "cell_type": "markdown",
   "metadata": {},
   "source": [
    "![green-divider](https://user-images.githubusercontent.com/7065401/52071924-c003ad80-2562-11e9-8297-1c6595f8a7ff.png)\n",
    "\n",
    "### Plot a histogram (plot.hist) with values of `first_appearance`\n"
   ]
  },
  {
   "cell_type": "code",
   "execution_count": 84,
   "metadata": {
    "cell_type": "solution"
   },
   "outputs": [
    {
     "data": {
      "text/plain": [
       "<AxesSubplot:ylabel='Frequency'>"
      ]
     },
     "execution_count": 84,
     "metadata": {},
     "output_type": "execute_result"
    },
    {
     "data": {
      "image/png": "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\n",
      "text/plain": [
       "<Figure size 432x288 with 1 Axes>"
      ]
     },
     "metadata": {
      "needs_background": "light"
     },
     "output_type": "display_data"
    }
   ],
   "source": [
    "# your code goes here\n",
    "marvel_df[\"first_appearance\"].plot(kind=\"hist\")"
   ]
  },
  {
   "cell_type": "markdown",
   "metadata": {},
   "source": [
    "![purple-divider](https://user-images.githubusercontent.com/7065401/52071927-c1cd7100-2562-11e9-908a-dde91ba14e59.png)\n"
   ]
  }
 ],
 "metadata": {
  "kernelspec": {
   "display_name": "Python 3 (ipykernel)",
   "language": "python",
   "name": "python3"
  },
  "language_info": {
   "codemirror_mode": {
    "name": "ipython",
    "version": 3
   },
   "file_extension": ".py",
   "mimetype": "text/x-python",
   "name": "python",
   "nbconvert_exporter": "python",
   "pygments_lexer": "ipython3",
   "version": "3.9.12"
  }
 },
 "nbformat": 4,
 "nbformat_minor": 4
}
